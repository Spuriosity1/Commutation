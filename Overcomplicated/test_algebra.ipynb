{
 "cells": [
  {
   "cell_type": "code",
   "execution_count": 1,
   "id": "9216c4f5-8e26-44dc-abde-cf8f4d9e1ecb",
   "metadata": {},
   "outputs": [
    {
     "name": "stdout",
     "output_type": "stream",
     "text": [
      " + KA KB\n",
      "( + KA KB + KA KA)\n",
      "( + KB KA + KA KA)\n",
      "( + KB KA - KA KA)\n",
      "( +7 KB +7 KA)\n",
      "( +5/6 KB +5/6 KA)\n",
      "( + JB KA KB-4/3 JB KB KB-7 KA KB +3 JA KA KB)\n"
     ]
    },
    {
     "data": {
      "text/latex": [
       "$\\left(  +J^\\perp_B K_A K_B   -\\frac{4}{3}J^\\perp_B K_B K_B   -7K_A K_B   +3J^\\perp_A K_A K_B \\right)$"
      ],
      "text/plain": [
       "<IPython.core.display.Latex object>"
      ]
     },
     "metadata": {},
     "output_type": "display_data"
    }
   ],
   "source": [
    "from SpinTrainv2 import *\n",
    "\n",
    "\n",
    "\n",
    "# checks that scalars do their thing\n",
    "KA = Scalar('KA','K_A')\n",
    "KB = Scalar('KB','K_B')\n",
    "JA = Scalar('JA','J^\\perp_A')\n",
    "JB = Scalar('JB','J^\\perp_B')\n",
    "\n",
    "# print(KA)\n",
    "\n",
    "print(KA*KB) # Scalar * Scalar\n",
    "print(KA*(KB+KA)) # Scalar * ScalarExpression\n",
    "print((KB+KA)*KA) # Scalar * ScalarExpression\n",
    "print((KB-KA)*KA) # Scalar * ScalarExpression\n",
    "\n",
    "print(7*(KB+KA)) # int * ScalarExpression\n",
    "print((KB+KA)*Fraction(5,6)) #  ScalarExpression * Fraction\n",
    "\n",
    "\n",
    "m = KB*(KA*JB + KB*JB) -7*KB*KA + JA*KB*3*KA + JB*KB*Fraction(-7,3)*KB\n",
    "m.collect()\n",
    "\n",
    "print(m)\n",
    "m.show()\n"
   ]
  },
  {
   "cell_type": "code",
   "execution_count": 2,
   "id": "3177c469-9ff7-41a2-a09c-7c8afbbe73ac",
   "metadata": {},
   "outputs": [
    {
     "name": "stdout",
     "output_type": "stream",
     "text": [
      " +5•h0 h1 \n",
      " +h0    +h1 \n",
      "( + KA + KB)•h0   +( + KA + KB)•h1 \n",
      " + KA•h0    + KA•h1 \n",
      " + KA•h0    + KA•h1 \n",
      " +h0    +h1   +( + KA + KB)\n",
      " +h0    +h1    + KA\n",
      " +h0    +h1   +( - KA - KB)\n",
      " +h0    +h1    - KA\n",
      " + KA•h0 \n",
      " + KA•h0 \n",
      "( + KA + KB)•h0 \n",
      "( + KA + KB)•h1 \n",
      "( + KB + KA)•h0 \n",
      "( + KB KA + KA KA)\n",
      "( + KB - KA)•h0   +( - KB + KA)•h1 \n"
     ]
    }
   ],
   "source": [
    "h = []\n",
    "\n",
    "for i in range(6):\n",
    "    h.append(Term('h%d' %i,'S^z_{h%d}' % i))\n",
    "\n",
    "    \n",
    "print(5*h[0]*h[1])         # Term * Term \n",
    "print((h[0]+h[1]))         # Term + Term\n",
    "print((h[0]+h[1])*(KA+KB)) # Expression * ScalarExpression\n",
    "print((h[0]+h[1])*KA)      # Expression * Scalar\n",
    "\n",
    "print(KA*(h[0]+h[1]))      # Scalar * Expression\n",
    "\n",
    "print((h[0]+h[1])+(KA+KB)) # Expression + ScalarExpression\n",
    "print((h[0]+h[1])+KA)      # Expression + Scalar\n",
    "\n",
    "print((h[0]+h[1])-(KA+KB)) # Expression + ScalarExpression\n",
    "print((h[0]+h[1])-KA)      # Expression + Scalar\n",
    "\n",
    "\n",
    "print(KA*h[0]) # Scalar * Term\n",
    "print(h[0]*KA) # Term * Scalar\n",
    "\n",
    "print(h[0]*(KA+KB)) # Term * ScalarExpression\n",
    "print((KA+KB)*h[1]) # ScalarExpression * Term\n",
    "\n",
    "print(h[0]*(KB+KA)) \n",
    "print((KB+KA)*KA) \n",
    "x1 = (KB-KA)*h[0]\n",
    "x2 = (KB-KA)*h[1]\n",
    "x1 -= x2\n",
    "print(x1) \n"
   ]
  },
  {
   "cell_type": "code",
   "execution_count": 3,
   "id": "213c1f1b-5e46-446a-be19-f3e39b7083ed",
   "metadata": {},
   "outputs": [
    {
     "data": {
      "text/latex": [
       "$  +5K_A S^z_{h1}   +\\left(  +5K_B   +\\frac{700}{23}K_A \\right)$"
      ],
      "text/plain": [
       "<IPython.core.display.Latex object>"
      ]
     },
     "metadata": {},
     "output_type": "display_data"
    }
   ],
   "source": [
    "x = KA*h[1] + KB + Fraction(420,69)*KA\n",
    "x.collect()\n",
    "x = x*5\n",
    "x.show()"
   ]
  },
  {
   "cell_type": "code",
   "execution_count": 4,
   "id": "4ec675e6-8a6d-4fc8-8c8e-94b32b7625da",
   "metadata": {},
   "outputs": [],
   "source": [
    "ca = CommutatorAlgebra()\n",
    "\n",
    "h = []\n",
    "hp = []\n",
    "hm = []\n",
    "\n",
    "for i in range(6):\n",
    "    h.append(Term('h%d' %i,'S^z_{h%d}' % i))\n",
    "    hp.append(Term('h%d^+' %i,'S^+_{h%d}' % i))\n",
    "    hm.append(Term('h%d^-' %i,'S^-_{h%d}' % i))\n",
    "    ca.set_commutator(hp[i], hm[i]) (2*h[i]  )\n",
    "    ca.set_commutator(h[i], hp[i])  (  hp[i] )\n",
    "    ca.set_commutator(h[i], hm[i])  (-1*hm[i] )\n",
    "    \n",
    "    ca.set_anticommutator(hp[i], hm[i]) ( 1  )\n",
    "    \n"
   ]
  },
  {
   "cell_type": "code",
   "execution_count": 5,
   "id": "26c6de33-cc22-46fb-b1b9-cdb83f59d31c",
   "metadata": {},
   "outputs": [
    {
     "name": "stdout",
     "output_type": "stream",
     "text": [
      " +h1^+ \n",
      "[<SpinTrainv2.Expression object at 0x103b880d0>, None]\n"
     ]
    }
   ],
   "source": [
    "print(ca.get_commutator(h[1],hp[1]))\n",
    "print(ca.relations[h[1].name][hp[1].name])"
   ]
  },
  {
   "cell_type": "code",
   "execution_count": 8,
   "id": "aebd9960-5c59-4929-94a5-a507e992bcb8",
   "metadata": {},
   "outputs": [
    {
     "data": {
      "text/latex": [
       "$  +S^z_{h1} S^+_{h1} S^-_{h1} $"
      ],
      "text/plain": [
       "<IPython.core.display.Latex object>"
      ]
     },
     "metadata": {},
     "output_type": "display_data"
    },
    {
     "name": "stdout",
     "output_type": "stream",
     "text": [
      "[ h1 , h1^+ ] ->   +h1^+ \n",
      " +h1^+ h1^- \n",
      "[ h1 , h1^- ] ->   -h1^- \n",
      " +h1^+ h1^-    -h1^+ h1^- \n",
      " +h1^+ h1^- h1   +\n"
     ]
    },
    {
     "data": {
      "text/latex": [
       "$  +S^+_{h1} S^-_{h1}     -S^+_{h1} S^-_{h1}     +S^+_{h1} S^-_{h1} S^z_{h1} $"
      ],
      "text/plain": [
       "<IPython.core.display.Latex object>"
      ]
     },
     "metadata": {},
     "output_type": "display_data"
    },
    {
     "data": {
      "text/latex": [
       "$  +S^+_{h1} S^-_{h1} S^z_{h1} $"
      ],
      "text/plain": [
       "<IPython.core.display.Latex object>"
      ]
     },
     "metadata": {},
     "output_type": "display_data"
    }
   ],
   "source": [
    "x = Expression(h[1]*hp[1]*hm[1])\n",
    "x.show()\n",
    "ca.move_right(x, h[1])\n",
    "x.show()\n",
    "x.collect()\n",
    "\n",
    "x.show()\n",
    "\n",
    "# x.terms[0][0].collect()\n",
    "# x.show()"
   ]
  },
  {
   "cell_type": "code",
   "execution_count": 7,
   "id": "8ab297de-26c5-4c88-b0e1-4639370a6869",
   "metadata": {},
   "outputs": [
    {
     "data": {
      "text/plain": [
       "0"
      ]
     },
     "execution_count": 7,
     "metadata": {},
     "output_type": "execute_result"
    }
   ],
   "source": [
    "int(False)"
   ]
  },
  {
   "cell_type": "code",
   "execution_count": null,
   "id": "f287736d-b55d-4b00-8b6c-70127906c6c8",
   "metadata": {},
   "outputs": [],
   "source": []
  }
 ],
 "metadata": {
  "kernelspec": {
   "display_name": "Python 3.9.10 64-bit",
   "language": "python",
   "name": "python3910jvsc74a57bd050292dbb1f747f7151d445135d392af3138fb3c65386d17d9510cb605222b10b"
  },
  "language_info": {
   "codemirror_mode": {
    "name": "ipython",
    "version": 3
   },
   "file_extension": ".py",
   "mimetype": "text/x-python",
   "name": "python",
   "nbconvert_exporter": "python",
   "pygments_lexer": "ipython3",
   "version": "3.9.10"
  }
 },
 "nbformat": 4,
 "nbformat_minor": 5
}
