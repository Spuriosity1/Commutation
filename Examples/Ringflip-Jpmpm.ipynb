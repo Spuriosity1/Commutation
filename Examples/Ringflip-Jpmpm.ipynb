{
 "cells": [
  {
   "cell_type": "code",
   "execution_count": 1,
   "id": "fab758b3-96ba-47d3-8149-7e6c61ec6202",
   "metadata": {},
   "outputs": [],
   "source": [
    "from Commutation import *\n",
    "import numpy as np\n",
    "import matplotlib.pyplot as plt"
   ]
  },
  {
   "cell_type": "code",
   "execution_count": 20,
   "id": "c809b69f-409c-4222-a3f3-ff0c6e53e140",
   "metadata": {},
   "outputs": [],
   "source": [
    "# define the 3*6 = 18 members of the ring\n",
    "# index convention: S[which][sl]\n",
    "\n",
    "Sz = []\n",
    "S_up = []\n",
    "S_dn = []\n",
    "\n",
    "\n",
    "for i in range(3):\n",
    "    Sz.append([])\n",
    "    S_up.append([])\n",
    "    S_dn.append([])\n",
    "    for mu in range(4):\n",
    "        Sz[i].append(   Operator('S%d%d'%(i, mu),  'S^z_{h%d%d}'%(i, mu)) )\n",
    "        S_up[i].append( Operator('S⁺%d%d'%(i, mu), 'S^+_{h%d%d}'%(i, mu)) )\n",
    "        S_dn[i].append( Operator('S⁻%d%s'%(i, mu), 'S^-_{h%d%d}'%(i, mu)))\n",
    "\n",
    "# construct the commutator algebra\n",
    "ca = CommutatorAlgebra()\n",
    "\n",
    "def define_spinalg(plus, minus, z):\n",
    "    ca.set_commutator(plus, minus)(2*z)\n",
    "    ca.set_commutator(z, plus)( plus )\n",
    "    ca.set_commutator(z, minus)( -1*minus )\n",
    "\n",
    "for i in range(3):\n",
    "    for mu in range(4):\n",
    "        define_spinalg(S_up[i][mu], S_dn[i][mu], Sz[i][mu])"
   ]
  },
  {
   "cell_type": "code",
   "execution_count": 35,
   "id": "b0459452-103b-42e4-ae91-25fc1bbeeca0",
   "metadata": {},
   "outputs": [],
   "source": [
    "# construct the zeta_i symbols   \n",
    "bond_zetas = [Operator('ζ%d'%i,r'\\zeta_%d'%i,scalar=True) for i in range(3)]\n",
    "bond_zetas_bar = [Operator('ζb%d'%i,r'\\zeta_%d^*'%i,scalar=True) for i in range(3)]\n",
    "\n",
    "KA = Operator('KA','K_A',scalar=True)\n",
    "KB = Operator('KB','K_B',scalar=True)\n",
    "\n",
    "def conjugate_zetas(x):\n",
    "    repl = []\n",
    "    for i in range(3):\n",
    "        repl.append((bond_zetas[i], bond_zetas_bar[i]))\n",
    "        repl.append((bond_zetas_bar[i], bond_zetas[i]))\n",
    "    return x.replaceall(*repl)\n",
    "\n",
    "gamma = [\n",
    "    [Expression(0), bond_zetas[1], bond_zetas[2], bond_zetas[0]],\n",
    "    [bond_zetas[1], Expression(0), bond_zetas[0], bond_zetas[2]],\n",
    "    [bond_zetas[2], bond_zetas[0], Expression(0), bond_zetas[1]],\n",
    "    [bond_zetas[0], bond_zetas[2], bond_zetas[1], Expression(0)            ]\n",
    "]\n",
    "\n",
    "gamma = [[Expression(x) for x in row] for row in gamma]\n",
    "gamma_bar = [[conjugate_zetas(x) for x in row] for row in gamma]\n"
   ]
  },
  {
   "cell_type": "code",
   "execution_count": 34,
   "id": "61dbf905-dc19-41de-8660-ed1c8939f69b",
   "metadata": {},
   "outputs": [],
   "source": [
    "def calc_commutator(x1, x2):\n",
    "    x = x1*x2 + x2 * x1 * -1\n",
    "    x.move_scalars()\n",
    "    for i in range(6):\n",
    "        ca.move_right(x,h[i])\n",
    "        ca.move_right(x,v[i])\n",
    "        ca.move_right(x,n[i])\n",
    "        \n",
    "    for i in range(6):\n",
    "        ca.move_right(x,h_up[i])\n",
    "        ca.move_right(x,h_dn[i])\n",
    "    x.collect()\n",
    "    return x\n",
    "\n"
   ]
  },
  {
   "cell_type": "code",
   "execution_count": 17,
   "id": "142892c9-d233-48f8-8e25-c3c2b1970dfa",
   "metadata": {},
   "outputs": [],
   "source": [
    "JzA =  Operator('JzA', 'J_{zz,A}',scalar=True)\n",
    "JzB =  Operator('JzB', 'J_{zz,B}',scalar=True)\n",
    "JpmA = Operator('JpmA', 'J_{\\pm,A}',scalar=True)\n",
    "JpmB = Operator('JpmB', 'J_{\\pm,B}',scalar=True)"
   ]
  },
  {
   "cell_type": "code",
   "execution_count": 53,
   "id": "30eeec50-d7c7-4915-b0a1-0ade59abf14f",
   "metadata": {},
   "outputs": [],
   "source": [
    "aux_sl = 3 # 1 or 3\n",
    "\n",
    "A,B,c,d = (gamma[0][aux_sl]*S_up[0][0]*S_up[0][aux_sl], gamma_bar[aux_sl][2]*S_dn[0][aux_sl]*S_dn[0][2], S_up[1][1]*S_dn[1][0], S_up[2][2]*S_dn[2][1])\n",
    "\n",
    "\n",
    "x = A*B*c*d + B*A*c*d + A*B*d*c + B*A*d*c"
   ]
  },
  {
   "cell_type": "code",
   "execution_count": 54,
   "id": "2a8e27ed-1bfa-49cc-88db-7236879459e2",
   "metadata": {},
   "outputs": [],
   "source": [
    "x.move_scalars()\n",
    "ca.move_left(x,S_up[0][aux_sl])\n",
    "\n",
    "x.collect()"
   ]
  },
  {
   "cell_type": "code",
   "execution_count": 55,
   "id": "594efec9-2f56-4e94-a16f-7b029945618e",
   "metadata": {},
   "outputs": [
    {
     "name": "stdout",
     "output_type": "stream",
     "text": [
      "  +1 S⁺03 ζ0 ζb1 S⁺00 S⁻03 S⁻02 S⁺11 S⁻10 S⁺22 S⁻21  +1 S⁺03 ζb1 ζ0 S⁻03 S⁻02 S⁺00 S⁺11 S⁻10 S⁺22 S⁻21  +1 S⁺03 ζ0 ζb1 S⁺00 S⁻03 S⁻02 S⁺22 S⁻21 S⁺11 S⁻10  +1 S⁺03 ζb1 ζ0 S⁻03 S⁻02 S⁺00 S⁺22 S⁻21 S⁺11 S⁻10  -2 ζb1 ζ0 S03 S⁻02 S⁺00 S⁺11 S⁻10 S⁺22 S⁻21  -2 ζb1 ζ0 S03 S⁻02 S⁺00 S⁺22 S⁻21 S⁺11 S⁻10\n"
     ]
    }
   ],
   "source": [
    "print(x)"
   ]
  },
  {
   "cell_type": "code",
   "execution_count": null,
   "id": "f8aff272-b56d-4cea-b42c-1069b6c2f23b",
   "metadata": {},
   "outputs": [],
   "source": []
  }
 ],
 "metadata": {
  "kernelspec": {
   "display_name": "Python 3 (ipykernel)",
   "language": "python",
   "name": "python3"
  },
  "language_info": {
   "codemirror_mode": {
    "name": "ipython",
    "version": 3
   },
   "file_extension": ".py",
   "mimetype": "text/x-python",
   "name": "python",
   "nbconvert_exporter": "python",
   "pygments_lexer": "ipython3",
   "version": "3.11.5"
  }
 },
 "nbformat": 4,
 "nbformat_minor": 5
}
