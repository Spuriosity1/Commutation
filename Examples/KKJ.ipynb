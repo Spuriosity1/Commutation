{
 "cells": [
  {
   "cell_type": "code",
   "execution_count": 2,
   "id": "840c07d2-b690-4549-ae36-4a05d4e7ddb8",
   "metadata": {},
   "outputs": [],
   "source": [
    "from Commutation import *\n",
    "\n",
    "\n",
    "Sz = [Operator('S%d'%i, 'S^z_{%d}'%i) for i in [6, 1,2,3,4,5]]\n",
    "\n",
    "a,b,c,d = [Operator('%s'%i, 'S^z_{%s}'%i) for i in 'abcd']\n",
    "\n",
    "\n",
    "\n",
    "a_up = Operator('a⁺', 'S^+_{a}')\n",
    "a_dn = Operator('a⁻', 'S^-_{a}')\n",
    "\n",
    "b_up = Operator('b⁺', 'S^+_{b}')\n",
    "b_dn = Operator('b⁻', 'S^-_{b}')\n",
    "\n",
    "ca = CommutatorAlgebra()\n",
    "\n",
    "def define_spinalg(plus, minus, z):\n",
    "    ca.set_commutator(plus, minus)(2*z)\n",
    "    ca.set_commutator(z, plus)( plus )\n",
    "    ca.set_commutator(z, minus)( -1*minus )"
   ]
  },
  {
   "cell_type": "code",
   "execution_count": 3,
   "id": "88250d59-4f0c-4467-a735-6188ad5d56d7",
   "metadata": {},
   "outputs": [],
   "source": [
    "define_spinalg(a_up, a_dn, a)\n",
    "define_spinalg(b_up, b_dn, b)\n",
    "\n",
    "for o in [a,b,c,d] + Sz:\n",
    "    ca.add_operator(o)\n",
    "# effectively scalars, idk why I bother"
   ]
  },
  {
   "cell_type": "code",
   "execution_count": 22,
   "id": "f3ec3f0d-d59b-426a-87fe-2fa7c9325dd6",
   "metadata": {},
   "outputs": [],
   "source": [
    "# define the Z objects\n",
    "\n",
    "bond_zetas = [Operator('ζ%d'%i,r'\\zeta_%d'%i,scalar=True) for i in range(1,4)]\n",
    "bond_zetas_bar = [Operator('ζb%d'%i,r'\\zeta_%d^*'%i,scalar=True) for i in range(1,4)]\n",
    "\n",
    "def zeta(i):\n",
    "    return bond_zetas[(i-1)%3]\n",
    "def zeta_bar(i):\n",
    "    return bond_zetas_bar[(i-1)%3]\n",
    "\n",
    "KA = Operator('KA','K_A',scalar=True)\n",
    "KB = Operator('KB','K_B',scalar=True)\n",
    "\n",
    "def conjugate_zetas(x):\n",
    "    repl = []\n",
    "    for i in range(3):\n",
    "        repl.append((bond_zetas[i], bond_zetas_bar[i]))\n",
    "        repl.append((bond_zetas_bar[i], bond_zetas[i]))\n",
    "    return x.replaceall(*repl)\n",
    "\n",
    "\n",
    "def order_scalars(x):\n",
    "    desired_order = [KA, KB] + bond_zetas + bond_zetas_bar + Sz + [a,b,c,d]\n",
    "    for o in reversed(desired_order):\n",
    "        ca.move_left(x, o)\n",
    "\n",
    "# The setup: a and b are nearest-neighbour spins. They share a common tetrahedron,\n",
    "# [abcd] which is $A$ sublattice.\n",
    "# The two end tetrahedrons are $B$ sublattice, [123a] and [450b].\n",
    "Za = KB*(zeta(1)*Sz[1] + zeta(2)*Sz[2] + zeta(3)*Sz[3]) + KA*(zeta(1)*b + zeta(2)* c + zeta(3)*d)\n",
    "Zb = KB*(zeta(1)*Sz[4] + zeta(2)*Sz[5] + zeta(3)*Sz[0]) + KA*(zeta(1)*a + zeta(2)* d + zeta(3)*c)\n",
    "\n",
    "Za_bar = conjugate_zetas(Za)\n",
    "Zb_bar = conjugate_zetas(Zb)\n",
    "\n",
    "\n",
    "hh = a_up*b_dn\n",
    "kp = a_dn*Za_bar\n",
    "km = b_up*Zb\n",
    "\n",
    "hh_dag = a_dn*b_up\n",
    "kp_dag = a_up*Za\n",
    "km_dag = b_dn*Zb_bar"
   ]
  },
  {
   "cell_type": "code",
   "execution_count": 24,
   "id": "21589683-48b1-4591-8cd2-0946a6699f4e",
   "metadata": {},
   "outputs": [],
   "source": [
    "# Six possible operator orderings.\n",
    "# Regardless of order, always have one [A + B]/2 and one [2A]/2 contrib,\n",
    "# constant factors out. (It is 1/4(A+B)2A)\n",
    "S_total =  hh*kp*km + kp*km*hh + km*hh*kp + hh*km*kp + km*kp*hh + kp*hh*km\n",
    "S_total += hh_dag*kp_dag*km_dag + kp_dag*km_dag*hh_dag + km_dag*hh_dag*kp_dag + hh_dag*km_dag*kp_dag + km_dag*kp_dag*hh_dag + kp_dag*hh_dag*km_dag\n",
    "\n",
    "order_scalars(S_total)\n",
    "\n",
    "ca.move_right(S_total,a_up)\n",
    "ca.move_right(S_total,a_dn)\n",
    "\n",
    "ca.move_right(S_total,b_up)\n",
    "ca.move_right(S_total,b_dn)\n",
    "\n",
    "\n",
    "x1 = S_total.replaceall((a_up*a_dn, a+Fraction(1,2)),(b_up*b_dn, b+Fraction(1,2)))\n",
    "x1.collect()\n"
   ]
  },
  {
   "cell_type": "code",
   "execution_count": 7,
   "id": "2961da79-5838-422a-b8b8-1a8e20ff9293",
   "metadata": {},
   "outputs": [
    {
     "data": {
      "text/latex": [
       "$-4 K_B K_B S^z_{1} S^z_{4} S^z_{a} S^z_{b} +3 K_B K_B S^z_{1} S^z_{4} +\\frac{3}{2} K_B K_B S^z_{1} S^z_{5} w +\\frac{3}{2} K_B K_B S^z_{6} S^z_{1} w^* -4 K_A K_B S^z_{1} S^z_{a} S^z_{a} S^z_{b} +1 K_A K_B S^z_{1} S^z_{a} +\\frac{3}{2} K_A K_B S^z_{1} S^z_{d} w +\\frac{3}{2} K_A K_B S^z_{1} S^z_{c} w^* +\\frac{3}{2} K_B K_B S^z_{2} S^z_{4} w^* -4 K_B K_B S^z_{2} S^z_{5} S^z_{a} S^z_{b} +3 K_B K_B S^z_{2} S^z_{5} +\\frac{3}{2} K_B K_B S^z_{6} S^z_{2} w +\\frac{1}{2} K_A K_B S^z_{2} S^z_{a} w^* -4 K_A K_B S^z_{2} S^z_{a} S^z_{b} S^z_{d} +3 K_A K_B S^z_{2} S^z_{d} +\\frac{3}{2} K_A K_B S^z_{2} S^z_{c} w +\\frac{3}{2} K_B K_B S^z_{3} S^z_{4} w +\\frac{3}{2} K_B K_B S^z_{3} S^z_{5} w^* -4 K_B K_B S^z_{6} S^z_{3} S^z_{a} S^z_{b} +3 K_B K_B S^z_{6} S^z_{3} +\\frac{1}{2} K_A K_B S^z_{3} S^z_{a} w +\\frac{3}{2} K_A K_B S^z_{3} S^z_{d} w^* -4 K_A K_B S^z_{3} S^z_{a} S^z_{b} S^z_{c} +3 K_A K_B S^z_{3} S^z_{c} -4 K_A K_B S^z_{4} S^z_{a} S^z_{b} S^z_{b} +1 K_A K_B S^z_{4} S^z_{b} +\\frac{1}{2} K_A K_B S^z_{5} S^z_{b} w +\\frac{1}{2} K_A K_B S^z_{6} S^z_{b} w^* -4 K_A K_A S^z_{a} S^z_{a} S^z_{b} S^z_{b} -1 K_A K_A S^z_{a} S^z_{b} +\\frac{3}{2} K_A K_A S^z_{b} S^z_{d} w +\\frac{3}{2} K_A K_A S^z_{b} S^z_{c} w^* +\\frac{3}{2} K_A K_B S^z_{4} S^z_{c} w^* -4 K_A K_B S^z_{5} S^z_{a} S^z_{b} S^z_{c} +3 K_A K_B S^z_{5} S^z_{c} +\\frac{3}{2} K_A K_B S^z_{6} S^z_{c} w +\\frac{3}{2} K_A K_A S^z_{a} S^z_{c} w^* -8 K_A K_A S^z_{a} S^z_{b} S^z_{c} S^z_{d} +6 K_A K_A S^z_{c} S^z_{d} +\\frac{3}{2} K_A K_A S^z_{c} S^z_{c} w +\\frac{3}{2} K_A K_B S^z_{4} S^z_{d} w +\\frac{3}{2} K_A K_B S^z_{5} S^z_{d} w^* -4 K_A K_B S^z_{6} S^z_{a} S^z_{b} S^z_{d} +3 K_A K_B S^z_{6} S^z_{d} +\\frac{3}{2} K_A K_A S^z_{a} S^z_{d} w +\\frac{3}{2} K_A K_A S^z_{d} S^z_{d} w^* -2 K_B K_B S^z_{1} S^z_{5} S^z_{a} S^z_{b} w^* +\\frac{3}{2} K_B K_B S^z_{1} S^z_{5} w^* -2 K_B K_B S^z_{6} S^z_{1} S^z_{a} S^z_{b} w +\\frac{3}{2} K_B K_B S^z_{6} S^z_{1} w -2 K_A K_B S^z_{1} S^z_{a} S^z_{b} S^z_{d} w^* +\\frac{3}{2} K_A K_B S^z_{1} S^z_{d} w^* -2 K_A K_B S^z_{1} S^z_{a} S^z_{b} S^z_{c} w +\\frac{3}{2} K_A K_B S^z_{1} S^z_{c} w -2 K_B K_B S^z_{2} S^z_{4} S^z_{a} S^z_{b} w +\\frac{3}{2} K_B K_B S^z_{2} S^z_{4} w -2 K_B K_B S^z_{6} S^z_{2} S^z_{a} S^z_{b} w^* +\\frac{3}{2} K_B K_B S^z_{6} S^z_{2} w^* -2 K_A K_B S^z_{2} S^z_{a} S^z_{a} S^z_{b} w +\\frac{1}{2} K_A K_B S^z_{2} S^z_{a} w -2 K_A K_B S^z_{2} S^z_{a} S^z_{b} S^z_{c} w^* +\\frac{3}{2} K_A K_B S^z_{2} S^z_{c} w^* -2 K_B K_B S^z_{3} S^z_{4} S^z_{a} S^z_{b} w^* +\\frac{3}{2} K_B K_B S^z_{3} S^z_{4} w^* -2 K_B K_B S^z_{3} S^z_{5} S^z_{a} S^z_{b} w +\\frac{3}{2} K_B K_B S^z_{3} S^z_{5} w -2 K_A K_B S^z_{3} S^z_{a} S^z_{a} S^z_{b} w^* +\\frac{1}{2} K_A K_B S^z_{3} S^z_{a} w^* -2 K_A K_B S^z_{3} S^z_{a} S^z_{b} S^z_{d} w +\\frac{3}{2} K_A K_B S^z_{3} S^z_{d} w -2 K_A K_B S^z_{5} S^z_{a} S^z_{b} S^z_{b} w^* +\\frac{1}{2} K_A K_B S^z_{5} S^z_{b} w^* -2 K_A K_B S^z_{6} S^z_{a} S^z_{b} S^z_{b} w +\\frac{1}{2} K_A K_B S^z_{6} S^z_{b} w -2 K_A K_A S^z_{a} S^z_{b} S^z_{b} S^z_{d} w^* +\\frac{3}{2} K_A K_A S^z_{b} S^z_{d} w^* -2 K_A K_A S^z_{a} S^z_{b} S^z_{b} S^z_{c} w +\\frac{3}{2} K_A K_A S^z_{b} S^z_{c} w -2 K_A K_B S^z_{4} S^z_{a} S^z_{b} S^z_{c} w +\\frac{3}{2} K_A K_B S^z_{4} S^z_{c} w -2 K_A K_B S^z_{6} S^z_{a} S^z_{b} S^z_{c} w^* +\\frac{3}{2} K_A K_B S^z_{6} S^z_{c} w^* -2 K_A K_A S^z_{a} S^z_{a} S^z_{b} S^z_{c} w +\\frac{3}{2} K_A K_A S^z_{a} S^z_{c} w -2 K_A K_A S^z_{a} S^z_{b} S^z_{c} S^z_{c} w^* +\\frac{3}{2} K_A K_A S^z_{c} S^z_{c} w^* -2 K_A K_B S^z_{4} S^z_{a} S^z_{b} S^z_{d} w^* +\\frac{3}{2} K_A K_B S^z_{4} S^z_{d} w^* -2 K_A K_B S^z_{5} S^z_{a} S^z_{b} S^z_{d} w +\\frac{3}{2} K_A K_B S^z_{5} S^z_{d} w -2 K_A K_A S^z_{a} S^z_{a} S^z_{b} S^z_{d} w^* +\\frac{3}{2} K_A K_A S^z_{a} S^z_{d} w^* -2 K_A K_A S^z_{a} S^z_{b} S^z_{d} S^z_{d} w +\\frac{3}{2} K_A K_A S^z_{d} S^z_{d} w +2 K_A K_B S^z_{4} S^z_{a} +1 K_A K_B S^z_{5} S^z_{a} w +1 K_A K_B S^z_{6} S^z_{a} w^* +2 K_A K_A S^z_{a} S^z_{a} +1 K_A K_B S^z_{5} S^z_{a} w^* +1 K_A K_B S^z_{6} S^z_{a} w -2 K_B K_B S^z_{1} S^z_{5} S^z_{a} S^z_{b} w -2 K_B K_B S^z_{6} S^z_{1} S^z_{a} S^z_{b} w^* -2 K_A K_B S^z_{1} S^z_{a} S^z_{b} S^z_{d} w -2 K_A K_B S^z_{1} S^z_{a} S^z_{b} S^z_{c} w^* -2 K_B K_B S^z_{2} S^z_{4} S^z_{a} S^z_{b} w^* -2 K_B K_B S^z_{6} S^z_{2} S^z_{a} S^z_{b} w -2 K_A K_B S^z_{2} S^z_{a} S^z_{a} S^z_{b} w^* -2 K_A K_B S^z_{2} S^z_{a} S^z_{b} S^z_{c} w -2 K_B K_B S^z_{3} S^z_{4} S^z_{a} S^z_{b} w -2 K_B K_B S^z_{3} S^z_{5} S^z_{a} S^z_{b} w^* -2 K_A K_B S^z_{3} S^z_{a} S^z_{a} S^z_{b} w -2 K_A K_B S^z_{3} S^z_{a} S^z_{b} S^z_{d} w^* -2 K_A K_B S^z_{5} S^z_{a} S^z_{b} S^z_{b} w -2 K_A K_B S^z_{6} S^z_{a} S^z_{b} S^z_{b} w^* -2 K_A K_A S^z_{a} S^z_{b} S^z_{b} S^z_{d} w -2 K_A K_A S^z_{a} S^z_{b} S^z_{b} S^z_{c} w^* -2 K_A K_B S^z_{4} S^z_{a} S^z_{b} S^z_{c} w^* -2 K_A K_B S^z_{6} S^z_{a} S^z_{b} S^z_{c} w -2 K_A K_A S^z_{a} S^z_{a} S^z_{b} S^z_{c} w^* -2 K_A K_A S^z_{a} S^z_{b} S^z_{c} S^z_{c} w -2 K_A K_B S^z_{4} S^z_{a} S^z_{b} S^z_{d} w -2 K_A K_B S^z_{5} S^z_{a} S^z_{b} S^z_{d} w^* -2 K_A K_A S^z_{a} S^z_{a} S^z_{b} S^z_{d} w -2 K_A K_A S^z_{a} S^z_{b} S^z_{d} S^z_{d} w^* +2 K_A K_B S^z_{1} S^z_{b} +1 K_A K_B S^z_{2} S^z_{b} w^* +1 K_A K_B S^z_{3} S^z_{b} w +2 K_A K_A S^z_{b} S^z_{b} +1 K_A K_B S^z_{2} S^z_{b} w +1 K_A K_B S^z_{3} S^z_{b} w^* $"
      ],
      "text/plain": [
       "<IPython.core.display.Latex object>"
      ]
     },
     "metadata": {},
     "output_type": "display_data"
    },
    {
     "name": "stdout",
     "output_type": "stream",
     "text": [
      "  -4 KB KB S1 S4 a b  +3 KB KB S1 S4  +3/2 KB KB S1 S5 w  +3/2 KB KB S6 S1 wb  -4 KA KB S1 a a b  +1 KA KB S1 a  +3/2 KA KB S1 d w  +3/2 KA KB S1 c wb  +3/2 KB KB S2 S4 wb  -4 KB KB S2 S5 a b  +3 KB KB S2 S5  +3/2 KB KB S6 S2 w  +1/2 KA KB S2 a wb  -4 KA KB S2 a b d  +3 KA KB S2 d  +3/2 KA KB S2 c w  +3/2 KB KB S3 S4 w  +3/2 KB KB S3 S5 wb  -4 KB KB S6 S3 a b  +3 KB KB S6 S3  +1/2 KA KB S3 a w  +3/2 KA KB S3 d wb  -4 KA KB S3 a b c  +3 KA KB S3 c  -4 KA KB S4 a b b  +1 KA KB S4 b  +1/2 KA KB S5 b w  +1/2 KA KB S6 b wb  -4 KA KA a a b b  -1 KA KA a b  +3/2 KA KA b d w  +3/2 KA KA b c wb  +3/2 KA KB S4 c wb  -4 KA KB S5 a b c  +3 KA KB S5 c  +3/2 KA KB S6 c w  +3/2 KA KA a c wb  -8 KA KA a b c d  +6 KA KA c d  +3/2 KA KA c c w  +3/2 KA KB S4 d w  +3/2 KA KB S5 d wb  -4 KA KB S6 a b d  +3 KA KB S6 d  +3/2 KA KA a d w  +3/2 KA KA d d wb  -2 KB KB S1 S5 a b wb  +3/2 KB KB S1 S5 wb  -2 KB KB S6 S1 a b w  +3/2 KB KB S6 S1 w  -2 KA KB S1 a b d wb  +3/2 KA KB S1 d wb  -2 KA KB S1 a b c w  +3/2 KA KB S1 c w  -2 KB KB S2 S4 a b w  +3/2 KB KB S2 S4 w  -2 KB KB S6 S2 a b wb  +3/2 KB KB S6 S2 wb  -2 KA KB S2 a a b w  +1/2 KA KB S2 a w  -2 KA KB S2 a b c wb  +3/2 KA KB S2 c wb  -2 KB KB S3 S4 a b wb  +3/2 KB KB S3 S4 wb  -2 KB KB S3 S5 a b w  +3/2 KB KB S3 S5 w  -2 KA KB S3 a a b wb  +1/2 KA KB S3 a wb  -2 KA KB S3 a b d w  +3/2 KA KB S3 d w  -2 KA KB S5 a b b wb  +1/2 KA KB S5 b wb  -2 KA KB S6 a b b w  +1/2 KA KB S6 b w  -2 KA KA a b b d wb  +3/2 KA KA b d wb  -2 KA KA a b b c w  +3/2 KA KA b c w  -2 KA KB S4 a b c w  +3/2 KA KB S4 c w  -2 KA KB S6 a b c wb  +3/2 KA KB S6 c wb  -2 KA KA a a b c w  +3/2 KA KA a c w  -2 KA KA a b c c wb  +3/2 KA KA c c wb  -2 KA KB S4 a b d wb  +3/2 KA KB S4 d wb  -2 KA KB S5 a b d w  +3/2 KA KB S5 d w  -2 KA KA a a b d wb  +3/2 KA KA a d wb  -2 KA KA a b d d w  +3/2 KA KA d d w  +2 KA KB S4 a  +1 KA KB S5 a w  +1 KA KB S6 a wb  +2 KA KA a a  +1 KA KB S5 a wb  +1 KA KB S6 a w  -2 KB KB S1 S5 a b w  -2 KB KB S6 S1 a b wb  -2 KA KB S1 a b d w  -2 KA KB S1 a b c wb  -2 KB KB S2 S4 a b wb  -2 KB KB S6 S2 a b w  -2 KA KB S2 a a b wb  -2 KA KB S2 a b c w  -2 KB KB S3 S4 a b w  -2 KB KB S3 S5 a b wb  -2 KA KB S3 a a b w  -2 KA KB S3 a b d wb  -2 KA KB S5 a b b w  -2 KA KB S6 a b b wb  -2 KA KA a b b d w  -2 KA KA a b b c wb  -2 KA KB S4 a b c wb  -2 KA KB S6 a b c w  -2 KA KA a a b c wb  -2 KA KA a b c c w  -2 KA KB S4 a b d w  -2 KA KB S5 a b d wb  -2 KA KA a a b d w  -2 KA KA a b d d wb  +2 KA KB S1 b  +1 KA KB S2 b wb  +1 KA KB S3 b w  +2 KA KA b b  +1 KA KB S2 b w  +1 KA KB S3 b wb\n"
     ]
    }
   ],
   "source": [
    "w = Operator('w','w',scalar=True)\n",
    "w_bar = Operator('wb',r'w^*',scalar=True)\n",
    "\n",
    "def simplify_zetas(expr):\n",
    "    # only works if scalars are in canonical order\n",
    "    simpl = []\n",
    "    for i, z in enumerate(bond_zetas):\n",
    "        for j, zb in enumerate(bond_zetas_bar):\n",
    "            if i == j:\n",
    "                simpl.append((z*zb, 1))\n",
    "            elif i == (j+1) %3:\n",
    "                simpl.append((z*zb, w))\n",
    "            else:\n",
    "                simpl.append((z*zb, w_bar))\n",
    "    return expr.replaceall(*simpl).replaceall((w*w_bar, 1), (w_bar*w, 1))\n",
    "\n",
    "\n",
    "x2 = simplify_zetas(x1)\n",
    "order_scalars(x2)\n",
    "x2.collect()\n",
    "x2.show()\n",
    "print(x2)"
   ]
  },
  {
   "cell_type": "code",
   "execution_count": 8,
   "id": "cd4f8cac-f4f4-4014-bdcb-4739f8b09653",
   "metadata": {},
   "outputs": [
    {
     "data": {
      "text/latex": [
       "$-4 K_B K_B S^z_{1} S^z_{4} S^z_{a} S^z_{b} +3 K_B K_B S^z_{1} S^z_{4} +\\frac{3}{2} K_B K_B S^z_{1} S^z_{5} w +\\frac{3}{2} K_B K_B S^z_{6} S^z_{1} w^* +1 K_A K_B S^z_{1} S^z_{b} +1 K_A K_B S^z_{1} S^z_{a} +\\frac{3}{2} K_A K_B S^z_{1} S^z_{d} w +\\frac{3}{2} K_A K_B S^z_{1} S^z_{c} w^* +\\frac{3}{2} K_B K_B S^z_{2} S^z_{4} w^* -4 K_B K_B S^z_{2} S^z_{5} S^z_{a} S^z_{b} +3 K_B K_B S^z_{2} S^z_{5} +\\frac{3}{2} K_B K_B S^z_{6} S^z_{2} w +\\frac{1}{2} K_A K_B S^z_{2} S^z_{a} w^* -4 K_A K_B S^z_{2} S^z_{a} S^z_{b} S^z_{d} +3 K_A K_B S^z_{2} S^z_{d} +\\frac{3}{2} K_A K_B S^z_{2} S^z_{c} w +\\frac{3}{2} K_B K_B S^z_{3} S^z_{4} w +\\frac{3}{2} K_B K_B S^z_{3} S^z_{5} w^* -4 K_B K_B S^z_{6} S^z_{3} S^z_{a} S^z_{b} +3 K_B K_B S^z_{6} S^z_{3} +\\frac{1}{2} K_A K_B S^z_{3} S^z_{a} w +\\frac{3}{2} K_A K_B S^z_{3} S^z_{d} w^* -4 K_A K_B S^z_{3} S^z_{a} S^z_{b} S^z_{c} +3 K_A K_B S^z_{3} S^z_{c} +1 K_A K_B S^z_{4} S^z_{a} +1 K_A K_B S^z_{4} S^z_{b} +\\frac{1}{2} K_A K_B S^z_{5} S^z_{b} w +\\frac{1}{2} K_A K_B S^z_{6} S^z_{b} w^* +\\frac{3}{4} K_A K_A -1 K_A K_A S^z_{a} S^z_{b} +1 K_A K_A S^z_{b} S^z_{d} w +1 K_A K_A S^z_{b} S^z_{c} w^* +\\frac{3}{2} K_A K_B S^z_{4} S^z_{c} w^* -4 K_A K_B S^z_{5} S^z_{a} S^z_{b} S^z_{c} +3 K_A K_B S^z_{5} S^z_{c} +\\frac{3}{2} K_A K_B S^z_{6} S^z_{c} w +1 K_A K_A S^z_{a} S^z_{c} w^* -8 K_A K_A S^z_{a} S^z_{b} S^z_{c} S^z_{d} +6 K_A K_A S^z_{c} S^z_{d} +\\frac{3}{4} K_A K_A w +\\frac{3}{2} K_A K_B S^z_{4} S^z_{d} w +\\frac{3}{2} K_A K_B S^z_{5} S^z_{d} w^* -4 K_A K_B S^z_{6} S^z_{a} S^z_{b} S^z_{d} +3 K_A K_B S^z_{6} S^z_{d} +1 K_A K_A S^z_{a} S^z_{d} w +\\frac{3}{4} K_A K_A w^* -2 K_B K_B S^z_{1} S^z_{5} S^z_{a} S^z_{b} w^* +\\frac{3}{2} K_B K_B S^z_{1} S^z_{5} w^* -2 K_B K_B S^z_{6} S^z_{1} S^z_{a} S^z_{b} w +\\frac{3}{2} K_B K_B S^z_{6} S^z_{1} w -2 K_A K_B S^z_{1} S^z_{a} S^z_{b} S^z_{d} w^* +\\frac{3}{2} K_A K_B S^z_{1} S^z_{d} w^* -2 K_A K_B S^z_{1} S^z_{a} S^z_{b} S^z_{c} w +\\frac{3}{2} K_A K_B S^z_{1} S^z_{c} w -2 K_B K_B S^z_{2} S^z_{4} S^z_{a} S^z_{b} w +\\frac{3}{2} K_B K_B S^z_{2} S^z_{4} w -2 K_B K_B S^z_{6} S^z_{2} S^z_{a} S^z_{b} w^* +\\frac{3}{2} K_B K_B S^z_{6} S^z_{2} w^* +\\frac{1}{2} K_A K_B S^z_{2} S^z_{b} w +\\frac{1}{2} K_A K_B S^z_{2} S^z_{a} w -2 K_A K_B S^z_{2} S^z_{a} S^z_{b} S^z_{c} w^* +\\frac{3}{2} K_A K_B S^z_{2} S^z_{c} w^* -2 K_B K_B S^z_{3} S^z_{4} S^z_{a} S^z_{b} w^* +\\frac{3}{2} K_B K_B S^z_{3} S^z_{4} w^* -2 K_B K_B S^z_{3} S^z_{5} S^z_{a} S^z_{b} w +\\frac{3}{2} K_B K_B S^z_{3} S^z_{5} w +\\frac{1}{2} K_A K_B S^z_{3} S^z_{b} w^* +\\frac{1}{2} K_A K_B S^z_{3} S^z_{a} w^* -2 K_A K_B S^z_{3} S^z_{a} S^z_{b} S^z_{d} w +\\frac{3}{2} K_A K_B S^z_{3} S^z_{d} w +\\frac{1}{2} K_A K_B S^z_{5} S^z_{a} w^* +\\frac{1}{2} K_A K_B S^z_{5} S^z_{b} w^* +\\frac{1}{2} K_A K_B S^z_{6} S^z_{a} w +\\frac{1}{2} K_A K_B S^z_{6} S^z_{b} w +1 K_A K_A S^z_{a} S^z_{d} w^* +1 K_A K_A S^z_{b} S^z_{d} w^* +1 K_A K_A S^z_{a} S^z_{c} w +1 K_A K_A S^z_{b} S^z_{c} w -2 K_A K_B S^z_{4} S^z_{a} S^z_{b} S^z_{c} w +\\frac{3}{2} K_A K_B S^z_{4} S^z_{c} w -2 K_A K_B S^z_{6} S^z_{a} S^z_{b} S^z_{c} w^* +\\frac{3}{2} K_A K_B S^z_{6} S^z_{c} w^* -1 K_A K_A S^z_{a} S^z_{b} w^* -2 K_A K_B S^z_{4} S^z_{a} S^z_{b} S^z_{d} w^* +\\frac{3}{2} K_A K_B S^z_{4} S^z_{d} w^* -2 K_A K_B S^z_{5} S^z_{a} S^z_{b} S^z_{d} w +\\frac{3}{2} K_A K_B S^z_{5} S^z_{d} w -1 K_A K_A S^z_{a} S^z_{b} w +\\frac{1}{2} K_A K_B S^z_{5} S^z_{a} w +\\frac{1}{2} K_A K_B S^z_{6} S^z_{a} w^* -2 K_B K_B S^z_{1} S^z_{5} S^z_{a} S^z_{b} w -2 K_B K_B S^z_{6} S^z_{1} S^z_{a} S^z_{b} w^* -2 K_A K_B S^z_{1} S^z_{a} S^z_{b} S^z_{d} w -2 K_A K_B S^z_{1} S^z_{a} S^z_{b} S^z_{c} w^* -2 K_B K_B S^z_{2} S^z_{4} S^z_{a} S^z_{b} w^* -2 K_B K_B S^z_{6} S^z_{2} S^z_{a} S^z_{b} w +\\frac{1}{2} K_A K_B S^z_{2} S^z_{b} w^* -2 K_A K_B S^z_{2} S^z_{a} S^z_{b} S^z_{c} w -2 K_B K_B S^z_{3} S^z_{4} S^z_{a} S^z_{b} w -2 K_B K_B S^z_{3} S^z_{5} S^z_{a} S^z_{b} w^* +\\frac{1}{2} K_A K_B S^z_{3} S^z_{b} w -2 K_A K_B S^z_{3} S^z_{a} S^z_{b} S^z_{d} w^* -2 K_A K_B S^z_{4} S^z_{a} S^z_{b} S^z_{c} w^* -2 K_A K_B S^z_{6} S^z_{a} S^z_{b} S^z_{c} w -2 K_A K_B S^z_{4} S^z_{a} S^z_{b} S^z_{d} w -2 K_A K_B S^z_{5} S^z_{a} S^z_{b} S^z_{d} w^* $"
      ],
      "text/plain": [
       "<IPython.core.display.Latex object>"
      ]
     },
     "metadata": {},
     "output_type": "display_data"
    },
    {
     "name": "stdout",
     "output_type": "stream",
     "text": [
      "  -4 KB KB S1 S4 a b  +3 KB KB S1 S4  +3/2 KB KB S1 S5 w  +3/2 KB KB S6 S1 wb  +1 KA KB S1 b  +1 KA KB S1 a  +3/2 KA KB S1 d w  +3/2 KA KB S1 c wb  +3/2 KB KB S2 S4 wb  -4 KB KB S2 S5 a b  +3 KB KB S2 S5  +3/2 KB KB S6 S2 w  +1/2 KA KB S2 a wb  -4 KA KB S2 a b d  +3 KA KB S2 d  +3/2 KA KB S2 c w  +3/2 KB KB S3 S4 w  +3/2 KB KB S3 S5 wb  -4 KB KB S6 S3 a b  +3 KB KB S6 S3  +1/2 KA KB S3 a w  +3/2 KA KB S3 d wb  -4 KA KB S3 a b c  +3 KA KB S3 c  +1 KA KB S4 a  +1 KA KB S4 b  +1/2 KA KB S5 b w  +1/2 KA KB S6 b wb  +3/4 KA KA  -1 KA KA a b  +1 KA KA b d w  +1 KA KA b c wb  +3/2 KA KB S4 c wb  -4 KA KB S5 a b c  +3 KA KB S5 c  +3/2 KA KB S6 c w  +1 KA KA a c wb  -8 KA KA a b c d  +6 KA KA c d  +3/4 KA KA w  +3/2 KA KB S4 d w  +3/2 KA KB S5 d wb  -4 KA KB S6 a b d  +3 KA KB S6 d  +1 KA KA a d w  +3/4 KA KA wb  -2 KB KB S1 S5 a b wb  +3/2 KB KB S1 S5 wb  -2 KB KB S6 S1 a b w  +3/2 KB KB S6 S1 w  -2 KA KB S1 a b d wb  +3/2 KA KB S1 d wb  -2 KA KB S1 a b c w  +3/2 KA KB S1 c w  -2 KB KB S2 S4 a b w  +3/2 KB KB S2 S4 w  -2 KB KB S6 S2 a b wb  +3/2 KB KB S6 S2 wb  +1/2 KA KB S2 b w  +1/2 KA KB S2 a w  -2 KA KB S2 a b c wb  +3/2 KA KB S2 c wb  -2 KB KB S3 S4 a b wb  +3/2 KB KB S3 S4 wb  -2 KB KB S3 S5 a b w  +3/2 KB KB S3 S5 w  +1/2 KA KB S3 b wb  +1/2 KA KB S3 a wb  -2 KA KB S3 a b d w  +3/2 KA KB S3 d w  +1/2 KA KB S5 a wb  +1/2 KA KB S5 b wb  +1/2 KA KB S6 a w  +1/2 KA KB S6 b w  +1 KA KA a d wb  +1 KA KA b d wb  +1 KA KA a c w  +1 KA KA b c w  -2 KA KB S4 a b c w  +3/2 KA KB S4 c w  -2 KA KB S6 a b c wb  +3/2 KA KB S6 c wb  -1 KA KA a b wb  -2 KA KB S4 a b d wb  +3/2 KA KB S4 d wb  -2 KA KB S5 a b d w  +3/2 KA KB S5 d w  -1 KA KA a b w  +1/2 KA KB S5 a w  +1/2 KA KB S6 a wb  -2 KB KB S1 S5 a b w  -2 KB KB S6 S1 a b wb  -2 KA KB S1 a b d w  -2 KA KB S1 a b c wb  -2 KB KB S2 S4 a b wb  -2 KB KB S6 S2 a b w  +1/2 KA KB S2 b wb  -2 KA KB S2 a b c w  -2 KB KB S3 S4 a b w  -2 KB KB S3 S5 a b wb  +1/2 KA KB S3 b w  -2 KA KB S3 a b d wb  -2 KA KB S4 a b c wb  -2 KA KB S6 a b c w  -2 KA KB S4 a b d w  -2 KA KB S5 a b d wb\n"
     ]
    }
   ],
   "source": [
    "Zops = [a,b,c,d] + Sz\n",
    "\n",
    "\n",
    "x3 = x2.replaceall( *[(z*z,Fraction(1,4)) for z in Zops])\n",
    "x3.collect()\n",
    "# x3.show()\n",
    "print(x3)"
   ]
  },
  {
   "cell_type": "code",
   "execution_count": 9,
   "id": "bcdd8ee2-4e70-4fcf-b44c-95cd918ddbe1",
   "metadata": {},
   "outputs": [],
   "source": [
    "root3 = Operator('√3',r'\\sqrt{3}',scalar=True)\n",
    "\n",
    "def convert_to_rectangular(expr):\n",
    "    ca.move_right(expr, w)\n",
    "    ca.move_right(expr, w_bar)\n",
    "    coeff_w=expr.coefficient(w)\n",
    "    coeff_wb=expr.coefficient(w_bar)\n",
    "    \n",
    "    remainder = expr + -1*(coeff_w*w +coeff_wb*w_bar)\n",
    "    remainder.collect()\n",
    "    real = remainder + Fraction(-1,2)*(coeff_w + coeff_wb)\n",
    "    imag = Fraction(1,2)*(coeff_w + -1*coeff_wb)*root3\n",
    "    return real, imag\n",
    "\n",
    "\n",
    "x4, im = convert_to_rectangular(x3)\n",
    "assert im == 0"
   ]
  },
  {
   "cell_type": "code",
   "execution_count": 8,
   "id": "1ed7f49d-fc80-4f09-b48b-65cf02c1ef56",
   "metadata": {},
   "outputs": [
    {
     "data": {
      "text/latex": [
       "$-4 K_B K_B S^z_{1} S^z_{4} S^z_{a} S^z_{b} +3 K_B K_B S^z_{1} S^z_{4} +1 K_A K_B S^z_{1} S^z_{b} +1 K_A K_B S^z_{1} S^z_{a} -4 K_B K_B S^z_{2} S^z_{5} S^z_{a} S^z_{b} +3 K_B K_B S^z_{2} S^z_{5} -4 K_A K_B S^z_{2} S^z_{a} S^z_{b} S^z_{d} +3 K_A K_B S^z_{2} S^z_{d} -4 K_B K_B S^z_{6} S^z_{3} S^z_{a} S^z_{b} +3 K_B K_B S^z_{6} S^z_{3} -4 K_A K_B S^z_{3} S^z_{a} S^z_{b} S^z_{c} +3 K_A K_B S^z_{3} S^z_{c} +1 K_A K_B S^z_{4} S^z_{a} +1 K_A K_B S^z_{4} S^z_{b} -4 K_A K_B S^z_{5} S^z_{a} S^z_{b} S^z_{c} +3 K_A K_B S^z_{5} S^z_{c} -8 K_A K_A S^z_{a} S^z_{b} S^z_{c} S^z_{d} +6 K_A K_A S^z_{c} S^z_{d} -4 K_A K_B S^z_{6} S^z_{a} S^z_{b} S^z_{d} +3 K_A K_B S^z_{6} S^z_{d} -\\frac{3}{2} K_B K_B S^z_{1} S^z_{5} -\\frac{3}{2} K_A K_B S^z_{1} S^z_{d} -\\frac{3}{2} K_B K_B S^z_{6} S^z_{2} -\\frac{3}{2} K_A K_B S^z_{2} S^z_{c} -\\frac{3}{2} K_B K_B S^z_{3} S^z_{4} -\\frac{1}{2} K_A K_B S^z_{3} S^z_{a} -\\frac{1}{2} K_A K_B S^z_{5} S^z_{b} -1 K_A K_A S^z_{b} S^z_{d} -\\frac{3}{2} K_A K_B S^z_{6} S^z_{c} -\\frac{3}{2} K_A K_B S^z_{4} S^z_{d} -1 K_A K_A S^z_{a} S^z_{d} +2 K_B K_B S^z_{6} S^z_{1} S^z_{a} S^z_{b} -\\frac{3}{2} K_B K_B S^z_{6} S^z_{1} +2 K_A K_B S^z_{1} S^z_{a} S^z_{b} S^z_{c} -\\frac{3}{2} K_A K_B S^z_{1} S^z_{c} +2 K_B K_B S^z_{2} S^z_{4} S^z_{a} S^z_{b} -\\frac{3}{2} K_B K_B S^z_{2} S^z_{4} -\\frac{1}{2} K_A K_B S^z_{2} S^z_{b} -\\frac{1}{2} K_A K_B S^z_{2} S^z_{a} +2 K_B K_B S^z_{3} S^z_{5} S^z_{a} S^z_{b} -\\frac{3}{2} K_B K_B S^z_{3} S^z_{5} +2 K_A K_B S^z_{3} S^z_{a} S^z_{b} S^z_{d} -\\frac{3}{2} K_A K_B S^z_{3} S^z_{d} -\\frac{1}{2} K_A K_B S^z_{6} S^z_{a} -\\frac{1}{2} K_A K_B S^z_{6} S^z_{b} -1 K_A K_A S^z_{a} S^z_{c} -1 K_A K_A S^z_{b} S^z_{c} +2 K_A K_B S^z_{4} S^z_{a} S^z_{b} S^z_{c} -\\frac{3}{2} K_A K_B S^z_{4} S^z_{c} +2 K_A K_B S^z_{5} S^z_{a} S^z_{b} S^z_{d} -\\frac{3}{2} K_A K_B S^z_{5} S^z_{d} -\\frac{1}{2} K_A K_B S^z_{5} S^z_{a} +2 K_B K_B S^z_{1} S^z_{5} S^z_{a} S^z_{b} +2 K_A K_B S^z_{1} S^z_{a} S^z_{b} S^z_{d} +2 K_B K_B S^z_{6} S^z_{2} S^z_{a} S^z_{b} +2 K_A K_B S^z_{2} S^z_{a} S^z_{b} S^z_{c} +2 K_B K_B S^z_{3} S^z_{4} S^z_{a} S^z_{b} -\\frac{1}{2} K_A K_B S^z_{3} S^z_{b} +2 K_A K_B S^z_{6} S^z_{a} S^z_{b} S^z_{c} +2 K_A K_B S^z_{4} S^z_{a} S^z_{b} S^z_{d} $"
      ],
      "text/plain": [
       "<IPython.core.display.Latex object>"
      ]
     },
     "metadata": {},
     "output_type": "display_data"
    }
   ],
   "source": [
    "x4.collect()\n",
    "x4.show()"
   ]
  },
  {
   "cell_type": "code",
   "execution_count": 13,
   "id": "18f31014-3836-42e0-97b6-5ce2fe4dca6f",
   "metadata": {},
   "outputs": [
    {
     "data": {
      "text/latex": [
       "$-4 K_B K_B S^z_{1} S^z_{4} S^z_{a} S^z_{b} -4 K_B K_B S^z_{2} S^z_{5} S^z_{a} S^z_{b} -4 K_B K_B S^z_{6} S^z_{3} S^z_{a} S^z_{b} -\\frac{5}{2} K_A K_B S^z_{2} S^z_{c} -\\frac{5}{2} K_A K_B S^z_{3} S^z_{d} -\\frac{5}{2} K_A K_B S^z_{5} S^z_{d} -\\frac{5}{2} K_A K_B S^z_{6} S^z_{c} -\\frac{3}{2} K_B K_B S^z_{1} S^z_{5} -\\frac{3}{2} K_B K_B S^z_{6} S^z_{2} -\\frac{3}{2} K_B K_B S^z_{3} S^z_{4} -\\frac{3}{2} K_B K_B S^z_{6} S^z_{1} -\\frac{3}{2} K_B K_B S^z_{2} S^z_{4} -\\frac{3}{2} K_B K_B S^z_{3} S^z_{5} -1 K_A K_B S^z_{1} S^z_{d} -1 K_A K_A S^z_{b} S^z_{d} -1 K_A K_B S^z_{4} S^z_{d} -1 K_A K_A S^z_{a} S^z_{d} -1 K_A K_B S^z_{1} S^z_{c} -1 K_A K_A S^z_{a} S^z_{c} -1 K_A K_A S^z_{b} S^z_{c} -1 K_A K_B S^z_{4} S^z_{c} -\\frac{1}{2} K_A K_A -\\frac{1}{2} K_A K_B S^z_{3} S^z_{a} -\\frac{1}{2} K_A K_B S^z_{5} S^z_{b} -\\frac{1}{2} K_A K_B S^z_{2} S^z_{b} -\\frac{1}{2} K_A K_B S^z_{2} S^z_{a} -\\frac{1}{2} K_A K_B S^z_{6} S^z_{a} -\\frac{1}{2} K_A K_B S^z_{6} S^z_{b} -\\frac{1}{2} K_A K_B S^z_{5} S^z_{a} -\\frac{1}{2} K_A K_B S^z_{3} S^z_{b} +1 K_A K_B S^z_{1} S^z_{b} +1 K_A K_B S^z_{1} S^z_{a} +1 K_A K_B S^z_{4} S^z_{a} +1 K_A K_B S^z_{4} S^z_{b} +2 K_B K_B S^z_{6} S^z_{1} S^z_{a} S^z_{b} +2 K_B K_B S^z_{2} S^z_{4} S^z_{a} S^z_{b} +2 K_B K_B S^z_{3} S^z_{5} S^z_{a} S^z_{b} +2 K_B K_B S^z_{1} S^z_{5} S^z_{a} S^z_{b} +2 K_B K_B S^z_{6} S^z_{2} S^z_{a} S^z_{b} +2 K_B K_B S^z_{3} S^z_{4} S^z_{a} S^z_{b} +3 K_B K_B S^z_{1} S^z_{4} +3 K_B K_B S^z_{2} S^z_{5} +3 K_B K_B S^z_{6} S^z_{3} +\\frac{7}{2} K_A K_B S^z_{2} S^z_{d} +\\frac{7}{2} K_A K_B S^z_{3} S^z_{c} +\\frac{7}{2} K_A K_B S^z_{5} S^z_{c} +\\frac{7}{2} K_A K_B S^z_{6} S^z_{d} +6 K_A K_A S^z_{c} S^z_{d} $"
      ],
      "text/plain": [
       "<IPython.core.display.Latex object>"
      ]
     },
     "metadata": {},
     "output_type": "display_data"
    }
   ],
   "source": [
    "# enforce an ice rule\n",
    "\n",
    "x5 = x4.replaceall((a*b*c*d, Fraction(1,16)),(a*b*c, Fraction(1,4)*d), (a*b*d, Fraction(1,4)*c),(a*c*d, Fraction(1,4)*b),(b*c*d, Fraction(1,4)*a))\n",
    "x5.collect()\n",
    "x5.sort('multiplier')\n",
    "x5.show()"
   ]
  },
  {
   "cell_type": "code",
   "execution_count": 79,
   "id": "cea488c7-dad4-4724-822a-16e84abe4276",
   "metadata": {},
   "outputs": [],
   "source": [
    "# enforce yet more ice rules\n",
    "x6 = x5.replaceall( (Sz[1], -1*(Sz[3]+Sz[2]+a)), (Sz[4], -1*(Sz[0]+Sz[5]+b)))\n",
    "order_scalars(x6)\n",
    "x6 = x6.replaceall( (a*a, Fraction(1,4)), (b*b, Fraction(1,4)) )\n",
    "x6.collect()"
   ]
  },
  {
   "cell_type": "code",
   "execution_count": 80,
   "id": "06f47be8-3b86-4674-bbc8-c7e19926b9ac",
   "metadata": {},
   "outputs": [],
   "source": [
    "from itertools import permutations\n",
    "\n",
    "quartic = Expression()\n",
    "quad = Expression()\n",
    "\n",
    "for t in x6.terms:\n",
    "    if len(t) == 6:\n",
    "        quartic += t\n",
    "    else:\n",
    "        quad += t\n",
    "    \n",
    "assert quad + quartic == x6"
   ]
  },
  {
   "cell_type": "code",
   "execution_count": 81,
   "id": "48d168d7-02ac-4183-8ed8-6512eef8a2b0",
   "metadata": {},
   "outputs": [
    {
     "name": "stdout",
     "output_type": "stream",
     "text": [
      "  -3/2 KB KB S3 a  -3/2 KB KB S2 a  -3/2 KB KB S6 b  -3/2 KB KB S5 b  -1/4 KB KB  -3/2 KA KB S2 c  -3/2 KA KB S3 d  -3/2 KA KB S5 d  -3/2 KA KB S6 c  +9/2 KB KB S3 S5  +9 KB KB S2 S5  +9/2 KB KB S5 a  +9 KB KB S6 S3  +9/2 KB KB S3 b  +9/2 KB KB S6 a  +9/2 KB KB S6 S2  +9/2 KB KB S2 b  +9/2 KA KB S2 d  +1 KA KB a d  -1 KA KA b d  +9/2 KA KB S6 d  +1 KA KB b d  -1 KA KA a d  +9/2 KA KB S3 c  +1 KA KB a c  -1 KA KA a c  -1 KA KA b c  +9/2 KA KB S5 c  +1 KA KB b c  -1/2 KA KA  -3/2 KA KB S3 a  -3/2 KA KB S5 b  -3/2 KA KB S2 b  -3/2 KA KB S2 a  -3/2 KA KB S6 a  -3/2 KA KB S6 b  -3/2 KA KB S5 a  -3/2 KA KB S3 b  -2 KA KB a b  -1/2 KA KB  +3 KB KB a b  +6 KA KA c d\n"
     ]
    }
   ],
   "source": [
    "print(quad)"
   ]
  },
  {
   "cell_type": "code",
   "execution_count": 86,
   "id": "296ea158-09b6-48a7-88fc-9278c86e9467",
   "metadata": {},
   "outputs": [
    {
     "name": "stdout",
     "output_type": "stream",
     "text": [
      "  -12 KB KB S6 S3  -6 KB KB S3 S5  -6 KB KB S6 S2  -12 KB KB S2 S5 * +1 a b\n"
     ]
    }
   ],
   "source": [
    "# quartic.show()\n",
    "y1, y2 = quartic.factor()\n",
    "print(y1,\"*\", y2)"
   ]
  },
  {
   "cell_type": "code",
   "execution_count": null,
   "id": "9e25359c-026f-4374-8db8-65f9ab25e95c",
   "metadata": {},
   "outputs": [],
   "source": []
  }
 ],
 "metadata": {
  "kernelspec": {
   "display_name": "Python 3 (ipykernel)",
   "language": "python",
   "name": "python3"
  },
  "language_info": {
   "codemirror_mode": {
    "name": "ipython",
    "version": 3
   },
   "file_extension": ".py",
   "mimetype": "text/x-python",
   "name": "python",
   "nbconvert_exporter": "python",
   "pygments_lexer": "ipython3",
   "version": "3.11.5"
  }
 },
 "nbformat": 4,
 "nbformat_minor": 5
}
