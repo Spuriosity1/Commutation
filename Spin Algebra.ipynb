{
 "cells": [
  {
   "cell_type": "code",
   "execution_count": 7,
   "id": "321ca776-398e-45a1-8cea-d75684f7cd14",
   "metadata": {},
   "outputs": [
    {
     "data": {
      "text/latex": [
       "$  +1 S^+ S^- S^z  +1 S^- S^+ S^z  +1 S^+ S^-  -1 S^+ S^-  -1 S^- S^+  +1 S^- S^+$"
      ],
      "text/plain": [
       "<IPython.core.display.Latex object>"
      ]
     },
     "metadata": {},
     "output_type": "display_data"
    },
    {
     "data": {
      "text/latex": [
       "$  +1 S^+ S^- S^z  +1 S^- S^+ S^z$"
      ],
      "text/plain": [
       "<IPython.core.display.Latex object>"
      ]
     },
     "metadata": {},
     "output_type": "display_data"
    }
   ],
   "source": [
    "from SpinTrain import Expression, CommutatorAlgebra\n",
    "\n",
    "Sz  = Expression('S^z')\n",
    "Sup = Expression('S^+')\n",
    "Sdn = Expression('S^-')\n",
    "\n",
    "ca = CommutatorAlgebra()\n",
    "ca[Sz, Sup] = Sup\n",
    "ca[Sz, Sdn] = -Sdn\n",
    "ca[Sup, Sdn] = 2*Sz\n",
    "\n",
    "\n",
    "x = ca.move_right(Sz*(Sup*Sdn + Sdn*Sup), 'S^z')\n",
    "# unsimplified: just do everyhting simple-mindedly\n",
    "x.show()\n",
    "# simplified: cleans the mess up a bit\n",
    "x.collect()\n",
    "x.show()"
   ]
  },
  {
   "cell_type": "code",
   "execution_count": null,
   "id": "27d74af8-773d-4112-a0d6-96d9f6e45edd",
   "metadata": {},
   "outputs": [],
   "source": []
  }
 ],
 "metadata": {
  "kernelspec": {
   "display_name": "Python 3.9.10 64-bit",
   "language": "python",
   "name": "python3910jvsc74a57bd050292dbb1f747f7151d445135d392af3138fb3c65386d17d9510cb605222b10b"
  },
  "language_info": {
   "codemirror_mode": {
    "name": "ipython",
    "version": 3
   },
   "file_extension": ".py",
   "mimetype": "text/x-python",
   "name": "python",
   "nbconvert_exporter": "python",
   "pygments_lexer": "ipython3",
   "version": "3.9.10"
  }
 },
 "nbformat": 4,
 "nbformat_minor": 5
}
