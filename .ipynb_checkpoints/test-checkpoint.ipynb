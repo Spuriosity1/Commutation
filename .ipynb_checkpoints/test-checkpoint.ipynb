{
 "cells": [
  {
   "cell_type": "code",
   "execution_count": 5,
   "id": "c1fd920e-0153-4873-a071-3005425dba4d",
   "metadata": {},
   "outputs": [
    {
     "data": {
      "text/latex": [
       "$  +1 c a a b a b a d a a$"
      ],
      "text/plain": [
       "<IPython.core.display.Latex object>"
      ]
     },
     "metadata": {},
     "output_type": "display_data"
    },
    {
     "data": {
      "text/latex": [
       "$  +1 c a u u a d a a  +1 c a u v a d a a  +1 c a v u a d a a  +1 c a v v a d a a$"
      ],
      "text/plain": [
       "<IPython.core.display.Latex object>"
      ]
     },
     "metadata": {},
     "output_type": "display_data"
    }
   ],
   "source": [
    "from SpinTrain import *\n",
    "import numpy as np\n",
    "\n",
    "\n",
    "t = Term(['c','a', 'a', 'b','a', 'b', 'a','d','a','a'])\n",
    "x = Expression(t)\n",
    "x.show()\n",
    "# t.findall(['a','a'])\n",
    "x.substitute(Term(['a','b']), Expression('u','v')).show()"
   ]
  },
  {
   "cell_type": "code",
   "execution_count": null,
   "id": "a80ba78e-ef36-4075-89d3-7fd4407c6767",
   "metadata": {},
   "outputs": [],
   "source": []
  }
 ],
 "metadata": {
  "kernelspec": {
   "display_name": "Python 3.9.10 64-bit",
   "language": "python",
   "name": "python3910jvsc74a57bd050292dbb1f747f7151d445135d392af3138fb3c65386d17d9510cb605222b10b"
  },
  "language_info": {
   "codemirror_mode": {
    "name": "ipython",
    "version": 3
   },
   "file_extension": ".py",
   "mimetype": "text/x-python",
   "name": "python",
   "nbconvert_exporter": "python",
   "pygments_lexer": "ipython3",
   "version": "3.9.10"
  }
 },
 "nbformat": 4,
 "nbformat_minor": 5
}
