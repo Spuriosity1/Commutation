{
 "cells": [
  {
   "cell_type": "code",
   "execution_count": 1,
   "id": "376eb701-390d-4478-8c0b-3e7c3a302539",
   "metadata": {},
   "outputs": [],
   "source": [
    "from SpinTrain import *\n",
    "import numpy as np\n"
   ]
  },
  {
   "cell_type": "code",
   "execution_count": 2,
   "id": "707c9899-9d0b-48d0-a094-85499edbe5aa",
   "metadata": {},
   "outputs": [],
   "source": [
    "ca = CommutatorAlgebra()\n",
    "\n",
    "ca['S+_a', 'S-_a'] = Term([2, 'Sz_a'])\n",
    "ca['Sz_a', 'S+_a'] = Term(['S+_a'])\n",
    "ca['Sz_a', 'S-_a'] = Term([-1,'S-_a'])\n",
    "# by default assumes all objects are scalars"
   ]
  },
  {
   "cell_type": "code",
   "execution_count": 18,
   "id": "921743a2-9473-4726-81d9-37720596c7f7",
   "metadata": {},
   "outputs": [],
   "source": [
    "ca = CommutatorAlgebra()\n",
    "\n",
    "def define_comms(site):\n",
    "    plus  = 'S^+_{%s}' % site\n",
    "    minus = 'S^-_{%s}' % site\n",
    "    z     = 'S^z_{%s}' % site\n",
    "\n",
    "    ca[plus, minus] = Term([2, z])\n",
    "    ca[z, plus]  = Term([+1, plus])\n",
    "    ca[z, minus] = Term([-1, minus])\n",
    "    \n",
    "bond_zetas = [r'\\zeta_1', r'\\zeta_2', r'\\zeta_3']\n",
    "bond_zetabs = [r'\\zeta^*_1', r'\\zeta^*_2', r'\\zeta^*_3']\n",
    "\n",
    "WA = [1,2,3,4,5,6]\n",
    "WB = [1,2,3,4,5,6]\n",
    "\n",
    "WAb = [1,2,3,4,5,6]\n",
    "WBb = [1,2,3,4,5,6]\n",
    "\n",
    "# assigns A bonds to (h0h1), (h2h3), (h4h5)\n",
    "\n",
    "for i in range(6):\n",
    "    h = 'h%d' % i\n",
    "    v = 'v%d' % i\n",
    "    n = 'n%d' % i\n",
    "    \n",
    "    hpp = 'h%d' % ((i+1)%6)\n",
    "    \n",
    "    hp = 'h%d' % ((i-1)%6)\n",
    "    vp = 'v%d' % ((i-1)%6)\n",
    "    np = 'n%d' % ((i-1)%6)\n",
    "    \n",
    "    define_comms(h)\n",
    "    define_comms(v)\n",
    "    define_comms(n)\n",
    "    \n",
    "\n",
    "    \n",
    "    \n",
    "    w1 = Expression([bond_zetas[i%3], 'S^z_{%s}' % hpp],\n",
    "                    [bond_zetas[(i+1)%3], 'S^z_{%s}' % n],\n",
    "                    [bond_zetas[(i-1)%3], 'S^z_{%s}' % v])\n",
    "    w2 = Expression([bond_zetas[(i-1)%3], 'S^z_{%s}' % hp],\n",
    "                    [bond_zetas[(i+1)%3], 'S^z_{%s}' % np],\n",
    "                    [bond_zetas[i%3], 'S^z_{%s}' % vp])\n",
    "    w1b = Expression([bond_zetabs[i%3], 'S^z_{%s}' % hpp],\n",
    "                    [bond_zetabs[(i+1)%3], 'S^z_{%s}' % n],\n",
    "                    [bond_zetabs[(i-1)%3], 'S^z_{%s}' % v])\n",
    "    w2b = Expression([bond_zetabs[(i-1)%3], 'S^z_{%s}' % hp],\n",
    "                    [bond_zetabs[(i+1)%3], 'S^z_{%s}' % np],\n",
    "                    [bond_zetabs[i%3], 'S^z_{%s}' % vp])\n",
    "    \n",
    "    if i %2 == 0:\n",
    "        WA[i], WB[i] = w1, w2\n",
    "    else:\n",
    "        WA[i], WB[i] = w2, w1\n",
    "\n",
    "def tostar(x):\n",
    "    res = x.copy()\n",
    "    for i in range(1,4):\n",
    "        s = r'\\zeta_%d' % i\n",
    "        sb = r'\\zeta^*_%d' % i\n",
    "        res = res.substitute(s, Expression(sb))\n",
    "    return res\n",
    "        \n",
    "# calculate the complex conjugate\n",
    "for i in range(6):\n",
    "    WAb[i] = tostar(WA[i])\n",
    "    WBb[i] = tostar(WB[i])\n",
    "        \n"
   ]
  },
  {
   "cell_type": "code",
   "execution_count": 19,
   "id": "ae253ff7-45a8-4988-8e98-37e90719b642",
   "metadata": {},
   "outputs": [
    {
     "name": "stdout",
     "output_type": "stream",
     "text": [
      "0\n"
     ]
    },
    {
     "data": {
      "text/latex": [
       "$  +1 K_A \\zeta_1 S^z_{h1}  +1 K_A \\zeta_2 S^z_{n0}  +1 K_A \\zeta_3 S^z_{v0}  +1 K_B \\zeta_3 S^z_{h5}  +1 K_B \\zeta_2 S^z_{n5}  +1 K_B \\zeta_1 S^z_{v5}$"
      ],
      "text/plain": [
       "<IPython.core.display.Latex object>"
      ]
     },
     "metadata": {},
     "output_type": "display_data"
    },
    {
     "data": {
      "text/latex": [
       "$  +1 K_A \\zeta^*_1 S^z_{h1}  +1 K_A \\zeta^*_2 S^z_{n0}  +1 K_A \\zeta^*_3 S^z_{v0}  +1 K_B \\zeta^*_3 S^z_{h5}  +1 K_B \\zeta^*_2 S^z_{n5}  +1 K_B \\zeta^*_1 S^z_{v5}$"
      ],
      "text/plain": [
       "<IPython.core.display.Latex object>"
      ]
     },
     "metadata": {},
     "output_type": "display_data"
    },
    {
     "name": "stdout",
     "output_type": "stream",
     "text": [
      "1\n"
     ]
    },
    {
     "data": {
      "text/latex": [
       "$  +1 K_A \\zeta_1 S^z_{h0}  +1 K_A \\zeta_3 S^z_{n0}  +1 K_A \\zeta_2 S^z_{v0}  +1 K_B \\zeta_2 S^z_{h2}  +1 K_B \\zeta_3 S^z_{n1}  +1 K_B \\zeta_1 S^z_{v1}$"
      ],
      "text/plain": [
       "<IPython.core.display.Latex object>"
      ]
     },
     "metadata": {},
     "output_type": "display_data"
    },
    {
     "data": {
      "text/latex": [
       "$  +1 K_A \\zeta^*_1 S^z_{h0}  +1 K_A \\zeta^*_3 S^z_{n0}  +1 K_A \\zeta^*_2 S^z_{v0}  +1 K_B \\zeta^*_2 S^z_{h2}  +1 K_B \\zeta^*_3 S^z_{n1}  +1 K_B \\zeta^*_1 S^z_{v1}$"
      ],
      "text/plain": [
       "<IPython.core.display.Latex object>"
      ]
     },
     "metadata": {},
     "output_type": "display_data"
    },
    {
     "name": "stdout",
     "output_type": "stream",
     "text": [
      "2\n"
     ]
    },
    {
     "data": {
      "text/latex": [
       "$  +1 K_A \\zeta_3 S^z_{h3}  +1 K_A \\zeta_1 S^z_{n2}  +1 K_A \\zeta_2 S^z_{v2}  +1 K_B \\zeta_2 S^z_{h1}  +1 K_B \\zeta_1 S^z_{n1}  +1 K_B \\zeta_3 S^z_{v1}$"
      ],
      "text/plain": [
       "<IPython.core.display.Latex object>"
      ]
     },
     "metadata": {},
     "output_type": "display_data"
    },
    {
     "data": {
      "text/latex": [
       "$  +1 K_A \\zeta^*_3 S^z_{h3}  +1 K_A \\zeta^*_1 S^z_{n2}  +1 K_A \\zeta^*_2 S^z_{v2}  +1 K_B \\zeta^*_2 S^z_{h1}  +1 K_B \\zeta^*_1 S^z_{n1}  +1 K_B \\zeta^*_3 S^z_{v1}$"
      ],
      "text/plain": [
       "<IPython.core.display.Latex object>"
      ]
     },
     "metadata": {},
     "output_type": "display_data"
    },
    {
     "name": "stdout",
     "output_type": "stream",
     "text": [
      "3\n"
     ]
    },
    {
     "data": {
      "text/latex": [
       "$  +1 K_A \\zeta_3 S^z_{h2}  +1 K_A \\zeta_2 S^z_{n2}  +1 K_A \\zeta_1 S^z_{v2}  +1 K_B \\zeta_1 S^z_{h4}  +1 K_B \\zeta_2 S^z_{n3}  +1 K_B \\zeta_3 S^z_{v3}$"
      ],
      "text/plain": [
       "<IPython.core.display.Latex object>"
      ]
     },
     "metadata": {},
     "output_type": "display_data"
    },
    {
     "data": {
      "text/latex": [
       "$  +1 K_A \\zeta^*_3 S^z_{h2}  +1 K_A \\zeta^*_2 S^z_{n2}  +1 K_A \\zeta^*_1 S^z_{v2}  +1 K_B \\zeta^*_1 S^z_{h4}  +1 K_B \\zeta^*_2 S^z_{n3}  +1 K_B \\zeta^*_3 S^z_{v3}$"
      ],
      "text/plain": [
       "<IPython.core.display.Latex object>"
      ]
     },
     "metadata": {},
     "output_type": "display_data"
    },
    {
     "name": "stdout",
     "output_type": "stream",
     "text": [
      "4\n"
     ]
    },
    {
     "data": {
      "text/latex": [
       "$  +1 K_A \\zeta_2 S^z_{h5}  +1 K_A \\zeta_3 S^z_{n4}  +1 K_A \\zeta_1 S^z_{v4}  +1 K_B \\zeta_1 S^z_{h3}  +1 K_B \\zeta_3 S^z_{n3}  +1 K_B \\zeta_2 S^z_{v3}$"
      ],
      "text/plain": [
       "<IPython.core.display.Latex object>"
      ]
     },
     "metadata": {},
     "output_type": "display_data"
    },
    {
     "data": {
      "text/latex": [
       "$  +1 K_A \\zeta^*_2 S^z_{h5}  +1 K_A \\zeta^*_3 S^z_{n4}  +1 K_A \\zeta^*_1 S^z_{v4}  +1 K_B \\zeta^*_1 S^z_{h3}  +1 K_B \\zeta^*_3 S^z_{n3}  +1 K_B \\zeta^*_2 S^z_{v3}$"
      ],
      "text/plain": [
       "<IPython.core.display.Latex object>"
      ]
     },
     "metadata": {},
     "output_type": "display_data"
    },
    {
     "name": "stdout",
     "output_type": "stream",
     "text": [
      "5\n"
     ]
    },
    {
     "data": {
      "text/latex": [
       "$  +1 K_A \\zeta_2 S^z_{h4}  +1 K_A \\zeta_1 S^z_{n4}  +1 K_A \\zeta_3 S^z_{v4}  +1 K_B \\zeta_3 S^z_{h0}  +1 K_B \\zeta_1 S^z_{n5}  +1 K_B \\zeta_2 S^z_{v5}$"
      ],
      "text/plain": [
       "<IPython.core.display.Latex object>"
      ]
     },
     "metadata": {},
     "output_type": "display_data"
    },
    {
     "data": {
      "text/latex": [
       "$  +1 K_A \\zeta^*_2 S^z_{h4}  +1 K_A \\zeta^*_1 S^z_{n4}  +1 K_A \\zeta^*_3 S^z_{v4}  +1 K_B \\zeta^*_3 S^z_{h0}  +1 K_B \\zeta^*_1 S^z_{n5}  +1 K_B \\zeta^*_2 S^z_{v5}$"
      ],
      "text/plain": [
       "<IPython.core.display.Latex object>"
      ]
     },
     "metadata": {},
     "output_type": "display_data"
    }
   ],
   "source": [
    "Z    = [0,0,0,0,0,0]\n",
    "Zbar = [0,0,0,0,0,0]\n",
    "\n",
    "for i in range(6):\n",
    "\n",
    "    Z[i] =  Term(['K_A'])*WA[i]+Term(['K_B'])*WB[i]\n",
    "    Zbar[i] =  Term(['K_A'])*WAb[i]+Term(['K_B'])*WBb[i]\n",
    "#     Z[i] =  Term(['K_A'])*WA[h]\n",
    "#     Zbar[i] =  Term(['K_A'])*WAb[h]\n",
    "    \n",
    "for k in range(6):\n",
    "    print(k)\n",
    "    Z[k].show()\n",
    "    Zbar[k].show()"
   ]
  },
  {
   "cell_type": "code",
   "execution_count": 21,
   "id": "309008f7-fada-4212-bd10-3ddbf4eb0187",
   "metadata": {},
   "outputs": [],
   "source": [
    "# Construct the new commutator algebra\n",
    "# [Za, Zb = ???]\n",
    "cb = CommutatorAlgebra()\n",
    "\n",
    "def simplifyHere(x):\n",
    "    for i in range(6):\n",
    "        ca.move_left(x, 'S^z_{n%s}' % i)\n",
    "        ca.move_left(x, 'S^z_{v%s}' % i)\n",
    "        ca.move_left(x, 'S^z_{h%s}' % i)\n",
    "\n",
    "    ca.move_left(x, 'K_A')\n",
    "    ca.move_left(x, 'K_B')\n",
    "    ca.move_left(x, '\\\\zeta_1')\n",
    "    ca.move_left(x, '\\\\zeta_2')\n",
    "    ca.move_left(x, '\\\\zeta_3')\n",
    "\n",
    "    x.collect()\n",
    "\n",
    "for j in range(6):\n",
    "    for spinstr in ['S^+_{h%d}' % ((j-1)%6), 'S^-_{h%d}' % ((j-1)%6),\n",
    "                    'S^+_{h%d}' % ((j+1)%6), 'S^-_{h%d}' % ((j+1)%6)]:\n",
    "#     for spinstr in ['S^+_{h%d}' % ((j)%6), 'S^-_{h%d}' % ((j)%6)]:\n",
    "    \n",
    "    \n",
    "        S = Term([spinstr])\n",
    "\n",
    "        x1 = S*Z[j] + (-Z[j]*S)\n",
    "        x2 = S*Zbar[j] + (-Zbar[j]*S)\n",
    "\n",
    "        ca.move_right(x1, spinstr)\n",
    "        simplifyHere(x1)\n",
    "        ca.move_right(x2, spinstr)\n",
    "        simplifyHere(x2)\n",
    "\n",
    "        cb[spinstr, 'Z_{h%d}' % j] = x1\n",
    "        cb[spinstr, 'Z^*_{h%d}' % j] = x2\n",
    "        \n",
    "#         print('['+spinstr+', Z'+str(j)+ '] =')\n",
    "#         x1.show()\n",
    "#         print('['+spinstr+', Z*'+str(j)+ '] =')\n",
    "#         x2.show()\n"
   ]
  },
  {
   "cell_type": "code",
   "execution_count": 24,
   "id": "e9c62ad9-9599-473b-a375-bbfcc03183e6",
   "metadata": {},
   "outputs": [],
   "source": [
    "cwring = []\n",
    "ccwring = []\n",
    "\n",
    "def separateScalars(x):\n",
    "    ca.move_left(x, '\\\\zeta_1')\n",
    "    ca.move_left(x, '\\\\zeta_2')\n",
    "    ca.move_left(x, '\\\\zeta_3')\n",
    "    ca.move_left(x, '\\\\zeta^*_1')\n",
    "    ca.move_left(x, '\\\\zeta^*_2')\n",
    "    ca.move_left(x, '\\\\zeta^*_3')\n",
    "    ca.move_left(x, 'K_A')\n",
    "    ca.move_left(x, 'K_B')\n",
    "    ca.move_left(x, 'U_1')\n",
    "    ca.move_left(x, 'U_2')\n",
    "    ca.move_left(x, 'U_3')\n",
    "\n",
    "def rightyHops(x):\n",
    "    for l in range(6):\n",
    "        cb.move_right(x, 'S^+_{h%d}'%l)\n",
    "        cb.move_right(x, 'S^-_{h%d}'%l)\n",
    "    \n",
    "def leftyZ(x):\n",
    "    for l in range(6):\n",
    "        cb.move_left(Hring, 'Z_{h%d}'%l)\n",
    "        cb.move_left(Hring, 'Z^*_{h%d}'%l)\n",
    "        \n",
    "    \n",
    "for i in range(6):\n",
    "\n",
    "\n",
    "    h0 = 'h%d' % i\n",
    "    h1 = 'h%d' % ((i+1)%6)\n",
    "    h2 = 'h%d' % ((i+2)%6)\n",
    "    h3 = 'h%d' % ((i+3)%6)\n",
    "    h4 = 'h%d' % ((i+4)%6)\n",
    "    h5 = 'h%d' % ((i+5)%6)\n",
    "\n",
    "\n",
    "    F = Expression(['S^-_{%s}' % h0, 'S^+_{%s}' % h1])\n",
    "    E = Expression(['S^-_{%s}' % h2, 'S^+_{%s}' % h3])\n",
    "    f = Term('Z^*_{%s}'% h4)*Expression(['S^-_{%s}' % h4])\n",
    "    e = Term('Z_{%s}'% h5)*Expression(['S^+_{%s}' % h5])\n",
    "\n",
    "    Hring = Expression()\n",
    "    \n",
    "    \n",
    "    if i%2==0:\n",
    "        # A-hops\n",
    "        Hring += Term('U_{1A}')*(f*F*E*e + e*E*F*f) \n",
    "        Hring += Term('U_{2A}')*(e*f*E*F + f*e*E*F + E*F*e*f + E*F*f*e)\n",
    "        Hring += Term('U_{3A}')*(E*f*e*F + F*e*f*E)\n",
    "        Hring =  Term(['J_{\\perp A}','J_{\\perp A}'])*Hring\n",
    "    else:\n",
    "        Hring += Term('U_{1B}')*(f*F*E*e + e*E*F*f) \n",
    "        Hring += Term('U_{2B}')*(e*f*E*F + f*e*E*F + E*F*e*f + E*F*f*e)\n",
    "        Hring += Term('U_{3B}')*(E*f*e*F + F*e*f*E)\n",
    "        Hring =  Term(['J_{\\perp B}','J_{\\perp B}'])*Hring\n",
    "    \n",
    "    separateScalars(Hring)    \n",
    "    rightyHops(Hring)\n",
    "    leftyZ(Hring)\n",
    "    separateScalars(Hring)    \n",
    "    Hring.collect()\n",
    "    ccwring.append(Hring)\n",
    "    \n",
    "    # and the other direction (h.c. nontrivial)\n",
    "    F = Expression(['S^+_{%s}' % h0, 'S^-_{%s}' % h1])\n",
    "    E = Expression(['S^+_{%s}' % h2, 'S^-_{%s}' % h3])\n",
    "    f = Term('Z_{%s}'% h4)*Expression(['S^+_{%s}' % h4])\n",
    "    e = Term('Z^*_{%s}'% h5)*Expression(['S^-_{%s}' % h5])\n",
    "\n",
    "    # calculate all the different contributions from the different energy sectors\n",
    "\n",
    "    Hring = Expression()\n",
    "    Hring += Term('U_1')*(f*F*E*e + e*E*F*f) \n",
    "    Hring += Term('U_2')*(e*f*E*F + f*e*E*F + E*F*e*f + E*F*f*e)\n",
    "    Hring += Term('U_2')*(E*f*e*F + F*e*f*E)\n",
    "\n",
    "    separateScalars(Hring)    \n",
    "    rightyHops(Hring)\n",
    "    leftyZ(Hring)\n",
    "    separateScalars(Hring)    \n",
    "    Hring.collect()\n",
    "    cwring.append(Hring)"
   ]
  },
  {
   "cell_type": "code",
   "execution_count": 42,
   "id": "8d36d0a6-119b-4395-b31d-d0dc926c0818",
   "metadata": {},
   "outputs": [],
   "source": [
    "grand = Expression()\n",
    "for i in range(6):\n",
    "    grand += cwring[i]+ccwring[i]\n",
    "\n",
    "grand.collect()\n",
    "grand.sort()\n",
    "# grand.show()\n",
    "\n",
    "O = Term(grand.terms[0].ops[-6:])\n",
    "r1 = grand.coefficient(O)\n"
   ]
  },
  {
   "cell_type": "code",
   "execution_count": 53,
   "id": "d669fcf2-242f-4322-b846-66accdea5347",
   "metadata": {},
   "outputs": [
    {
     "data": {
      "text/latex": [
       "$  -4 U_2 K_B K_A \\zeta^*_2 \\zeta_1  -4 U_2 K_B K_A \\zeta^*_3 \\zeta_2  -4 U_2 K_B K_A \\zeta^*_1 \\zeta_3  -3 U_2 K_B \\zeta^*_3 Z_{h4}  -3 U_2 K_A \\zeta^*_2 Z_{h4}  -3 U_2 K_A \\zeta^*_1 Z_{h0}  -3 U_2 K_B \\zeta^*_2 Z_{h0}  -3 U_2 K_A \\zeta^*_3 Z_{h2}  -3 U_2 K_B \\zeta^*_1 Z_{h2}  -2 U_2 K_B K_B \\zeta^*_3 \\zeta_1  -2 U_2 K_B K_B \\zeta^*_2 \\zeta_3  -2 U_2 K_B K_B \\zeta^*_1 \\zeta_2  -2 K_B \\zeta^*_3 Z_{h0} J_{\\perp B} J_{\\perp B} U_{2B}  -2 K_B K_A \\zeta^*_3 \\zeta_1 J_{\\perp B} J_{\\perp B} U_{2B}  -2 K_B K_A \\zeta^*_3 \\zeta_1 J_{\\perp B} J_{\\perp B} U_{3B}  -2 K_A \\zeta^*_2 Z_{h0} J_{\\perp B} J_{\\perp B} U_{2B}  -2 K_A K_A \\zeta^*_2 \\zeta_1 J_{\\perp B} J_{\\perp B} U_{2B}  -2 K_B K_A \\zeta^*_2 \\zeta_3 J_{\\perp B} J_{\\perp B} U_{2B}  -2 K_B K_A \\zeta^*_2 \\zeta_3 J_{\\perp B} J_{\\perp B} U_{3B}  -2 K_A \\zeta^*_1 Z_{h2} J_{\\perp B} J_{\\perp B} U_{2B}  -2 K_B K_A \\zeta^*_1 \\zeta_2 J_{\\perp B} J_{\\perp B} U_{2B}  -2 K_B K_A \\zeta^*_1 \\zeta_2 J_{\\perp B} J_{\\perp B} U_{3B}  -2 K_B \\zeta^*_2 Z_{h2} J_{\\perp B} J_{\\perp B} U_{2B}  -2 K_A K_A \\zeta^*_1 \\zeta_3 J_{\\perp B} J_{\\perp B} U_{2B}  -2 K_A \\zeta^*_3 Z_{h4} J_{\\perp B} J_{\\perp B} U_{2B}  -2 K_B \\zeta^*_1 Z_{h4} J_{\\perp B} J_{\\perp B} U_{2B}  -2 K_A K_A \\zeta^*_3 \\zeta_2 J_{\\perp B} J_{\\perp B} U_{2B}  -1 U_1 K_B \\zeta^*_3 Z_{h4}  -1 U_1 K_A \\zeta^*_2 Z_{h4}  -1 U_1 K_A \\zeta^*_1 Z_{h0}  -1 U_1 K_B \\zeta^*_2 Z_{h0}  -1 U_1 K_A \\zeta^*_3 Z_{h2}  -1 U_1 K_B \\zeta^*_1 Z_{h2}  -1 K_B \\zeta^*_3 Z_{h0} J_{\\perp B} J_{\\perp B} U_{1B}  -1 K_B \\zeta^*_3 Z_{h0} J_{\\perp B} J_{\\perp B} U_{3B}  -1 K_A \\zeta^*_2 Z_{h0} J_{\\perp B} J_{\\perp B} U_{1B}  -1 K_A \\zeta^*_2 Z_{h0} J_{\\perp B} J_{\\perp B} U_{3B}  -1 K_A \\zeta^*_1 Z_{h2} J_{\\perp B} J_{\\perp B} U_{1B}  -1 K_A \\zeta^*_1 Z_{h2} J_{\\perp B} J_{\\perp B} U_{3B}  -1 K_B \\zeta^*_2 Z_{h2} J_{\\perp B} J_{\\perp B} U_{1B}  -1 K_B \\zeta^*_2 Z_{h2} J_{\\perp B} J_{\\perp B} U_{3B}  -1 K_A \\zeta^*_3 Z_{h4} J_{\\perp B} J_{\\perp B} U_{1B}  -1 K_A \\zeta^*_3 Z_{h4} J_{\\perp B} J_{\\perp B} U_{3B}  -1 K_B \\zeta^*_1 Z_{h4} J_{\\perp B} J_{\\perp B} U_{1B}  -1 K_B \\zeta^*_1 Z_{h4} J_{\\perp B} J_{\\perp B} U_{3B}  +1 U_1 K_B \\zeta_1 Z^*_{h5}  +1 U_1 K_A \\zeta_2 Z^*_{h5}  +1 U_1 K_A \\zeta_1 Z^*_{h1}  +1 U_1 K_B \\zeta_3 Z^*_{h1}  +1 U_1 K_B \\zeta_2 Z^*_{h3}  +1 U_1 K_A \\zeta_3 Z^*_{h3}  +1 K_A \\zeta_1 Z^*_{h5} J_{\\perp B} J_{\\perp B} U_{1B}  +1 K_A \\zeta_1 Z^*_{h5} J_{\\perp B} J_{\\perp B} U_{3B}  +1 K_B \\zeta_3 Z^*_{h5} J_{\\perp B} J_{\\perp B} U_{1B}  +1 K_B \\zeta_3 Z^*_{h5} J_{\\perp B} J_{\\perp B} U_{3B}  +1 K_B \\zeta_2 Z^*_{h1} J_{\\perp B} J_{\\perp B} U_{1B}  +1 K_B \\zeta_2 Z^*_{h1} J_{\\perp B} J_{\\perp B} U_{3B}  +1 K_A \\zeta_3 Z^*_{h1} J_{\\perp B} J_{\\perp B} U_{1B}  +1 K_A \\zeta_3 Z^*_{h1} J_{\\perp B} J_{\\perp B} U_{3B}  +1 K_B \\zeta_1 Z^*_{h3} J_{\\perp B} J_{\\perp B} U_{1B}  +1 K_B \\zeta_1 Z^*_{h3} J_{\\perp B} J_{\\perp B} U_{3B}  +1 K_A \\zeta_2 Z^*_{h3} J_{\\perp B} J_{\\perp B} U_{1B}  +1 K_A \\zeta_2 Z^*_{h3} J_{\\perp B} J_{\\perp B} U_{3B}  +2 U_1 Z^*_{h5} Z_{h4}  +2 U_1 Z^*_{h1} Z_{h0}  +2 U_1 Z^*_{h3} Z_{h2}  +2 Z^*_{h5} Z_{h0} J_{\\perp B} J_{\\perp B} U_{1B}  +2 Z^*_{h5} Z_{h0} J_{\\perp B} J_{\\perp B} U_{3B}  +2 K_A \\zeta_1 Z^*_{h5} J_{\\perp B} J_{\\perp B} U_{2B}  +2 K_B \\zeta_3 Z^*_{h5} J_{\\perp B} J_{\\perp B} U_{2B}  +2 Z_{h2} Z^*_{h1} J_{\\perp B} J_{\\perp B} U_{1B}  +2 Z_{h2} Z^*_{h1} J_{\\perp B} J_{\\perp B} U_{3B}  +2 K_B \\zeta_2 Z^*_{h1} J_{\\perp B} J_{\\perp B} U_{2B}  +2 K_A \\zeta_3 Z^*_{h1} J_{\\perp B} J_{\\perp B} U_{2B}  +2 Z_{h4} Z^*_{h3} J_{\\perp B} J_{\\perp B} U_{1B}  +2 Z_{h4} Z^*_{h3} J_{\\perp B} J_{\\perp B} U_{3B}  +2 K_B \\zeta_1 Z^*_{h3} J_{\\perp B} J_{\\perp B} U_{2B}  +2 K_A \\zeta_2 Z^*_{h3} J_{\\perp B} J_{\\perp B} U_{2B}  +3 U_2 K_B \\zeta_1 Z^*_{h5}  +3 U_2 K_A \\zeta_2 Z^*_{h5}  +3 U_2 K_A \\zeta_1 Z^*_{h1}  +3 U_2 K_B \\zeta_3 Z^*_{h1}  +3 U_2 K_B \\zeta_2 Z^*_{h3}  +3 U_2 K_A \\zeta_3 Z^*_{h3}  +4 Z^*_{h5} Z_{h0} J_{\\perp B} J_{\\perp B} U_{2B}  +4 Z_{h2} Z^*_{h1} J_{\\perp B} J_{\\perp B} U_{2B}  +4 Z_{h4} Z^*_{h3} J_{\\perp B} J_{\\perp B} U_{2B}  +6 U_2 Z^*_{h5} Z_{h4}  +6 U_2 Z^*_{h1} Z_{h0}  +6 U_2 Z^*_{h3} Z_{h2}$"
      ],
      "text/plain": [
       "<IPython.core.display.Latex object>"
      ]
     },
     "metadata": {},
     "output_type": "display_data"
    },
    {
     "data": {
      "text/plain": [
       "True"
      ]
     },
     "execution_count": 53,
     "metadata": {},
     "output_type": "execute_result"
    }
   ],
   "source": [
    "ring1 = cwring[0]+cwring[2]+cwring[4]+ccwring[1]+ccwring[3]+ccwring[5]\n",
    "separateScalars(ring1)\n",
    "ring1.collect()\n",
    "ring1.sort()\n",
    "\n",
    "rpre = ring1.coefficient(O)\n",
    "rpre.show()\n",
    "x = r1 + -rpre\n",
    "x.collect()\n",
    "\n"
   ]
  },
  {
   "cell_type": "code",
   "execution_count": null,
   "id": "406f96f7-4bf2-4a7e-9c1b-345b14453953",
   "metadata": {},
   "outputs": [],
   "source": [
    "l = lambda t : t.ops[0] if len(t.ops)>0 else 0\n",
    "\n",
    "ls = [Term('Sz'),Term('Sx')]\n",
    "ls.sort(key=l)\n",
    "ls"
   ]
  },
  {
   "cell_type": "code",
   "execution_count": null,
   "id": "fca4a3c7-d0b7-4707-8ff1-ef078de91cb4",
   "metadata": {},
   "outputs": [],
   "source": [
    "l = [1,2,3,4,'a']\n",
    "l[-1:]"
   ]
  },
  {
   "cell_type": "code",
   "execution_count": null,
   "id": "e79be53d-88ac-4822-be4b-a34d4b1fd4cf",
   "metadata": {},
   "outputs": [],
   "source": []
  }
 ],
 "metadata": {
  "kernelspec": {
   "display_name": "Python 3",
   "language": "python",
   "name": "python3"
  },
  "language_info": {
   "codemirror_mode": {
    "name": "ipython",
    "version": 3
   },
   "file_extension": ".py",
   "mimetype": "text/x-python",
   "name": "python",
   "nbconvert_exporter": "python",
   "pygments_lexer": "ipython3",
   "version": "3.9.10"
  }
 },
 "nbformat": 4,
 "nbformat_minor": 5
}
