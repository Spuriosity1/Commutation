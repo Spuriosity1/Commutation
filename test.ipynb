{
 "cells": [
  {
   "cell_type": "code",
   "execution_count": 1,
   "id": "c1fd920e-0153-4873-a071-3005425dba4d",
   "metadata": {},
   "outputs": [
    {
     "data": {
      "text/latex": [
       "$  +1 c a a b a b a d a a$"
      ],
      "text/plain": [
       "<IPython.core.display.Latex object>"
      ]
     },
     "metadata": {},
     "output_type": "display_data"
    },
    {
     "data": {
      "text/latex": [
       "$  +1 c a u u a d a a  +1 c a u v a d a a  +1 c a v u a d a a  +1 c a v v a d a a$"
      ],
      "text/plain": [
       "<IPython.core.display.Latex object>"
      ]
     },
     "metadata": {},
     "output_type": "display_data"
    }
   ],
   "source": [
    "from SpinTrain import *\n",
    "import numpy as np\n",
    "\n",
    "\n",
    "t = Term(['c','a', 'a', 'b','a', 'b', 'a','d','a','a'])\n",
    "x = Expression(t)\n",
    "x.show()\n",
    "# t.findall(['a','a'])\n",
    "x.substitute(Term(['a','b']), Expression('u','v')).show()"
   ]
  },
  {
   "cell_type": "code",
   "execution_count": 3,
   "id": "a80ba78e-ef36-4075-89d3-7fd4407c6767",
   "metadata": {},
   "outputs": [
    {
     "data": {
      "text/latex": [
       "$  +1 a  +1 b  +1 a b$"
      ],
      "text/plain": [
       "<IPython.core.display.Latex object>"
      ]
     },
     "metadata": {},
     "output_type": "display_data"
    }
   ],
   "source": [
    "x = Expression(t, 'a', 'b', ['a','b'])\n",
    "\n",
    "\n",
    "x.drop('d')\n",
    "x.show()\n"
   ]
  },
  {
   "cell_type": "code",
   "execution_count": 6,
   "id": "5598dfe4-6d82-49ec-8de6-80a1992d83d3",
   "metadata": {},
   "outputs": [
    {
     "data": {
      "text/plain": [
       "2"
      ]
     },
     "execution_count": 6,
     "metadata": {},
     "output_type": "execute_result"
    }
   ],
   "source": [
    "L = [[1,2], [2,3,4,5,6], [0,1,4], [1,6], [6,6]]\n",
    "min([len(t) for t in L])"
   ]
  },
  {
   "cell_type": "code",
   "execution_count": 12,
   "id": "68bd4da4-b441-495b-86c3-892b314a6d5e",
   "metadata": {},
   "outputs": [
    {
     "name": "stdout",
     "output_type": "stream",
     "text": [
      "True\n"
     ]
    }
   ],
   "source": [
    "class dude:\n",
    "    def __init__(self):\n",
    "        pass\n",
    "    def ami(self, other):\n",
    "        print(isinstance(other, type(self)))\n",
    "    \n",
    "class shane(dude):\n",
    "    pass\n",
    "\n",
    "d = dude()\n",
    "d2 = dude()\n",
    "s = shane()\n",
    "d.ami(s)"
   ]
  },
  {
   "cell_type": "code",
   "execution_count": 17,
   "id": "f5e72f61-e75f-4432-bd8b-67b27378565d",
   "metadata": {},
   "outputs": [
    {
     "data": {
      "text/plain": [
       "True"
      ]
     },
     "execution_count": 17,
     "metadata": {},
     "output_type": "execute_result"
    }
   ],
   "source": [
    "isinstance('b',(int, str))"
   ]
  },
  {
   "cell_type": "code",
   "execution_count": 21,
   "id": "8b3411e1-8052-4d66-a387-a58724577a1e",
   "metadata": {},
   "outputs": [
    {
     "data": {
      "text/plain": [
       "SortedList(['2'])"
      ]
     },
     "execution_count": 21,
     "metadata": {},
     "output_type": "execute_result"
    }
   ],
   "source": [
    "from sortedcontainers import SortedList\n",
    "\n",
    "l = []\n",
    "l += ['1']\n",
    "l\n",
    "\n",
    "sl = SortedList([])\n",
    "sl += ['2']\n",
    "sl"
   ]
  },
  {
   "cell_type": "code",
   "execution_count": 28,
   "id": "2d8ec810-05f5-4f48-be9d-f25d653b4480",
   "metadata": {},
   "outputs": [
    {
     "name": "stdout",
     "output_type": "stream",
     "text": [
      "<__main__.B object at 0x10f3b9070>\n",
      "does extra stuff\n"
     ]
    }
   ],
   "source": [
    "from copy import deepcopy\n",
    "\n",
    "class A(object):\n",
    "    def __init__(self, *args):\n",
    "        assert all([type(a) is int for a in args])\n",
    "        self.data = list(args)\n",
    "\n",
    "    def copy(self):\n",
    "        cp = A()\n",
    "        cp.data = self.data.copy()\n",
    "        cp.__class__ = self.__class__\n",
    "        return cp\n",
    "\n",
    "class B(A):\n",
    "    def do_extra(self):\n",
    "        print('does extra stuff')\n",
    "        \n",
    "        \n",
    "b = B()\n",
    "l = b.copy()\n",
    "print(l)\n",
    "l.do_extra()"
   ]
  },
  {
   "cell_type": "code",
   "execution_count": 44,
   "id": "f4d19f67-c9ae-4acf-86ed-723a48909c6a",
   "metadata": {},
   "outputs": [
    {
     "name": "stdout",
     "output_type": "stream",
     "text": [
      "[[1, 2], [3, 4]]\n",
      "[[4, 2], [3, 4]]\n"
     ]
    }
   ],
   "source": [
    "class A:\n",
    "    def __init__(self):\n",
    "        self.X = [[1,2],[3,4]]\n",
    "\n",
    "    def set_commutator(self,l, r):\n",
    "        def setter(rhs):\n",
    "    #         assert isinstance(rhs, Expression)\n",
    "            self.X[l][r] = rhs\n",
    "        return setter\n",
    "    \n",
    "    def get_another(self):\n",
    "        A = self.__class__\n",
    "        return A()\n",
    "\n",
    "a = A()\n",
    "a.set_commutator(0,0)(4)\n",
    "b = a.get_another()\n",
    "print(b.X)\n",
    "\n",
    "\n",
    "print(a.X)"
   ]
  },
  {
   "cell_type": "code",
   "execution_count": 40,
   "id": "fe50a23c-2ce9-4b33-a2fe-5a3247e6a662",
   "metadata": {},
   "outputs": [
    {
     "data": {
      "text/plain": [
       "{1, 2}"
      ]
     },
     "execution_count": 40,
     "metadata": {},
     "output_type": "execute_result"
    }
   ],
   "source": [
    "s = set()\n",
    "s.add(1)\n",
    "s.add(1)\n",
    "s.add(2)\n",
    "s"
   ]
  },
  {
   "cell_type": "code",
   "execution_count": 41,
   "id": "b1d79b3e-c1ba-472e-9e6b-8d3afe8b858f",
   "metadata": {},
   "outputs": [
    {
     "ename": "SyntaxError",
     "evalue": "can't use starred expression here (<ipython-input-41-05e670d5629c>, line 1)",
     "output_type": "error",
     "traceback": [
      "\u001b[0;36m  File \u001b[0;32m\"<ipython-input-41-05e670d5629c>\"\u001b[0;36m, line \u001b[0;32m1\u001b[0m\n\u001b[0;31m    *[]\u001b[0m\n\u001b[0m    ^\u001b[0m\n\u001b[0;31mSyntaxError\u001b[0m\u001b[0;31m:\u001b[0m can't use starred expression here\n"
     ]
    }
   ],
   "source": [
    "*[]"
   ]
  },
  {
   "cell_type": "code",
   "execution_count": 42,
   "id": "d8615455-d8f7-47e6-8f60-cd5dee15e721",
   "metadata": {},
   "outputs": [
    {
     "data": {
      "text/plain": [
       "' 5 Hares and 6 Foxes'"
      ]
     },
     "execution_count": 42,
     "metadata": {},
     "output_type": "execute_result"
    }
   ],
   "source": [
    "'{} Hares and {} Foxes'.format(5,6)"
   ]
  },
  {
   "cell_type": "code",
   "execution_count": 50,
   "id": "f04216d8-3332-4cc0-97e5-cd1d587f081f",
   "metadata": {},
   "outputs": [
    {
     "data": {
      "text/plain": [
       "[1, 2, 3]"
      ]
     },
     "execution_count": 50,
     "metadata": {},
     "output_type": "execute_result"
    }
   ],
   "source": [
    "l = [1,2,3]\n",
    "r = [4,5,6]\n",
    "l += []\n",
    "l"
   ]
  },
  {
   "cell_type": "code",
   "execution_count": null,
   "id": "0fcf0a22-94ce-441c-b2ae-57d5c532abc2",
   "metadata": {},
   "outputs": [],
   "source": []
  }
 ],
 "metadata": {
  "kernelspec": {
   "display_name": "Python 3.9.10 64-bit",
   "language": "python",
   "name": "python3910jvsc74a57bd050292dbb1f747f7151d445135d392af3138fb3c65386d17d9510cb605222b10b"
  },
  "language_info": {
   "codemirror_mode": {
    "name": "ipython",
    "version": 3
   },
   "file_extension": ".py",
   "mimetype": "text/x-python",
   "name": "python",
   "nbconvert_exporter": "python",
   "pygments_lexer": "ipython3",
   "version": "3.9.10"
  }
 },
 "nbformat": 4,
 "nbformat_minor": 5
}
