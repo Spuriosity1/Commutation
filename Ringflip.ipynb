{
 "cells": [
  {
   "cell_type": "code",
   "execution_count": 1,
   "id": "fab758b3-96ba-47d3-8149-7e6c61ec6202",
   "metadata": {},
   "outputs": [],
   "source": [
    "from SpinTrain import *\n",
    "import numpy as np\n",
    "import matplotlib.pyplot as plt"
   ]
  },
  {
   "cell_type": "code",
   "execution_count": 2,
   "id": "c809b69f-409c-4222-a3f3-ff0c6e53e140",
   "metadata": {},
   "outputs": [],
   "source": [
    "# define the nine members of the ring\n",
    "\n",
    "h = []\n",
    "v = []\n",
    "n = []\n",
    "\n",
    "h_up = []\n",
    "h_dn = []\n",
    "\n",
    "for i in range(6):\n",
    "    h.append(    Operator('h%d'%i,  'S^z_{h%d}'%i))\n",
    "    h_up.append( Operator('h⁺%d'%i, 'S^+_{h%d}'%i))\n",
    "    h_dn.append( Operator('h⁻%d'%i, 'S^-_{h%d}'%i))\n",
    "    v.append(    Operator('v%d'%i,  'S^z_{v%d}'%i))\n",
    "    n.append(    Operator('n%d'%i,  'S^z_{n%d}'%i))\n",
    "\n",
    "# construct the commutator algebra\n",
    "ca = CommutatorAlgebra()\n",
    "\n",
    "def define_spinalg(plus, minus, z):\n",
    "    ca.set_commutator(plus, minus)(2*z)\n",
    "    ca.set_commutator(z, plus)( plus )\n",
    "    ca.set_commutator(z, minus)( -1*minus )\n",
    "    \n",
    "for i in range(6):\n",
    "    define_spinalg(h_up[i], h_dn[i], h[i])\n",
    "    ca.add_operator(v[i])#these commute\n",
    "    ca.add_operator(n[i])#these commute"
   ]
  },
  {
   "cell_type": "code",
   "execution_count": 3,
   "id": "b0459452-103b-42e4-ae91-25fc1bbeeca0",
   "metadata": {},
   "outputs": [],
   "source": [
    "# construct the zeta_i symbols   \n",
    "bond_zetas = [Operator('ζ%d'%i,r'\\zeta_%d'%i,scalar=True) for i in range(3)]\n",
    "bond_zetas_bar = [Operator('ζb%d'%i,r'\\zeta_%d^*'%i,scalar=True) for i in range(3)]\n",
    "\n",
    "KA = Operator('KA','K_A',scalar=True)\n",
    "KB = Operator('KB','K_B',scalar=True)\n",
    "\n",
    "def conjugate_zetas(x):\n",
    "    repl = []\n",
    "    for i in range(3):\n",
    "        repl.append((bond_zetas[i], bond_zetas_bar[i]))\n",
    "        repl.append((bond_zetas_bar[i], bond_zetas[i]))\n",
    "    return x.replaceall(*repl)\n",
    "\n",
    "\n",
    "\n",
    "def zeta(i):\n",
    "    return bond_zetas[i%3]\n",
    "\n",
    "# assigns A bonds to (h0h1), (h2h3), (h4h5) and constructs the Z expression\n",
    "Z = [0,0,0,0,0,0]\n",
    "for i in range(6):             \n",
    "    w1 = zeta(i)*h[(i+1)%6] + zeta(i+1)*n[i%6] +  zeta(i+2)*v[i%6]\n",
    "    w2 = zeta(i+2)*h[(i-1)%6] + zeta(i+1)*n[(i-1)%6] +  zeta(i)*v[(i-1)%6]\n",
    "    \n",
    "    if i %2 == 0:\n",
    "        Z[i] = KA*w1+KB*w2\n",
    "    else:\n",
    "        Z[i] = KB*w1+KA*w2"
   ]
  },
  {
   "cell_type": "code",
   "execution_count": 4,
   "id": "60cd38e8-9ad4-4c00-9e49-64fad899b7a5",
   "metadata": {
    "tags": []
   },
   "outputs": [
    {
     "data": {
      "text/plain": [
       "(-3.290021650635094,\n",
       " 0.8904546633369868,\n",
       " -2.2865820659909177,\n",
       " 2.2865820659909177)"
      ]
     },
     "execution_count": 4,
     "metadata": {},
     "output_type": "execute_result"
    },
    {
     "data": {
      "image/png": "[encoded data removed]",
      "text/plain": [
       "<Figure size 360x360 with 1 Axes>"
      ]
     },
     "metadata": {
      "needs_background": "light"
     },
     "output_type": "display_data"
    }
   ],
   "source": [
    "# Double check that the construction worked: plot it!\n",
    "\n",
    "rB = 1.4\n",
    "rA = 1\n",
    "\n",
    "b1 = rB*np.array([1,0])\n",
    "b2 = rB*np.array([1/2,np.sqrt(3)/2])\n",
    "\n",
    "a1 = rA*np.array([1,0])\n",
    "a2 = rA*np.array([1/2,np.sqrt(3)/2])\n",
    "\n",
    "c1 = (2/3)*(a2-0.5*a1)\n",
    "c2 = (2/3)*(a1-0.5*a2)\n",
    "\n",
    "h_locs=np.array([np.array([0,0]), a2-a1, a2-a1-b1, -a1-b1, -a1-b2, -b2])\n",
    "n_locs=np.array([c1*rA, a2-a1-c2*rB,c1*rA-a1-b1,-c1*rB-a1-b1,-b2-a1+c2*rA,-c1*rB])\n",
    "v_locs=np.array([a2, -a1+a2+b2-b1, a2-2*a1-b1, -b2-a1-b1, -b2-a2,b1-b2])\n",
    "\n",
    "fig, ax = plt.subplots(figsize=(5,5))\n",
    "\n",
    "ax.plot(*(h_locs.T),'ko')\n",
    "ax.plot(*(n_locs.T),'ko')\n",
    "ax.plot(*(v_locs.T),'ko')\n",
    "ax.set_aspect('equal','box')\n",
    "\n",
    "colors = {'ζ0': 'r', r'ζ1': 'g', r'ζ2': 'b'}\n",
    "points = {'h': h_locs, 'v': v_locs, 'n': n_locs}\n",
    "\n",
    "def arrow(f, i, **kwargs):\n",
    "    dx = f-i\n",
    "    ax.arrow(i[0],i[1],dx[0],dx[1],length_includes_head=True,head_width=0.2,**kwargs)\n",
    "\n",
    "    \n",
    "def plot_Z(i):\n",
    "    for t in Z[i].terms:\n",
    "        string = t.ops[-1].name\n",
    "        node_type = string[0]\n",
    "        num = int(string[1])\n",
    "        linw = 0\n",
    "        if t.ops[0].name == 'KA':\n",
    "            linw = 8\n",
    "            lins = '-'\n",
    "        elif t.ops[0].name == 'KB':\n",
    "            linw = 4\n",
    "            lins = ':'\n",
    "        arrow(h_locs[i],points[node_type][num],ls=lins,lw=linw,color=colors[t.ops[1].name])\n",
    "    \n",
    "# for i in range(6):\n",
    "for i in [0,2,4]:\n",
    "    plot_Z(i)\n",
    "    assert len(Z[i].terms) == 6\n",
    "    \n",
    "# fig, ax = plt.subplots(figsize=(5,5))\n",
    "# for i in [1,3,5]:\n",
    "#     plot_Z(i)\n",
    "#     assert len(Z[i].terms) == 6\n",
    "\n",
    "# fig, ax = plt.subplots(figsize=(5,5))\n",
    "# for i in [0,2,4]:\n",
    "#     plot_Z(i)\n",
    "#     assert len(Z[i].terms) == 6\n",
    "\n",
    "dxy = np.array([-0.09,-0.07])   \n",
    "\n",
    "boxdict = {'boxstyle':'Circle','facecolor':'white','edgecolor':'black'}\n",
    "\n",
    "for i in range(6):\n",
    "    ax.text(*(h_locs[i]+dxy),'h'+str(i), bbox={'boxstyle':'Circle','facecolor':'white','edgecolor':'black'})\n",
    "    ax.text(*(n_locs[i]+dxy),'n'+str(i), bbox={'boxstyle':'Circle','facecolor':'#dddddd','edgecolor':'black'})\n",
    "    ax.text(*(v_locs[i]+dxy),'v'+str(i), bbox={'boxstyle':'Circle','facecolor':'#9d9d9d','edgecolor':'black'})\n",
    "\n",
    "\n",
    "for key in colors:\n",
    "    plt.plot([], [], color=colors[key],label=key)\n",
    "    \n",
    "plt.legend()\n",
    "\n",
    "\n",
    "    \n",
    "# ax.set_xticks([])\n",
    "# ax.set_yticks([])\n",
    "# for s in ax.spines:\n",
    "#     ax.spines[s].set_visible('False')\n",
    "plt.axis('off')\n",
    "    \n",
    "# fig.savefig('./hexagon.pdf')\n",
    "\n",
    "# Conclusion: No double counting, and conectivity is correct"
   ]
  },
  {
   "cell_type": "code",
   "execution_count": 5,
   "id": "0ef335b2-21e3-46f4-aa13-ed87c93f55af",
   "metadata": {},
   "outputs": [],
   "source": [
    "# build a new commutator database for only the ladders and the Z's\n",
    "\n",
    "cz = CommutatorAlgebra()\n",
    "\n",
    "\n",
    "def calc_commutator(x1, x2):\n",
    "    x = x1*x2 + x2 * x1 * -1\n",
    "    x.move_scalars()\n",
    "    for i in range(6):\n",
    "        ca.move_right(x,h[i])\n",
    "        ca.move_right(x,v[i])\n",
    "        ca.move_right(x,n[i])\n",
    "        \n",
    "    for i in range(6):\n",
    "        ca.move_right(x,h_up[i])\n",
    "        ca.move_right(x,h_dn[i])\n",
    "    x.collect()\n",
    "    return x\n",
    "\n",
    "for i in range(6):\n",
    "    # self-consistency check\n",
    "    assert(calc_commutator(h_up[i],h_dn[i]) == 2*h[i])\n",
    "    assert(calc_commutator(h[i],h_up[i]) == h_up[i])\n",
    "    assert(calc_commutator(h[i],h_dn[i]) == -1*h_dn[i])\n",
    "#phew\n",
    "\n",
    "# define the **symbolic** z's and zbars\n",
    "Zs = [Operator('Zh%d'%i,'Z_{h%d}'%i) for i in range(6)]\n",
    "Zs_bar = [Operator('Zhb%d'%i,'Z^*_{h%d}'%i) for i in range(6)]\n",
    "\n",
    "for i in range(6):\n",
    "    # define the original spin algebra, if needed\n",
    "    cz.set_commutator(h_up[i], h_dn[i])(2*h[i])\n",
    "    cz.set_commutator(h[i], h_up[i])(h_up[i])\n",
    "    cz.set_commutator(h[i], h_dn[i])(-1*h_dn[i])\n",
    "    for j in range(6):\n",
    "        # re-express the knowledge in terms of symbol Zs\n",
    "        cz.set_commutator(Zs[j], h_up[i])(calc_commutator(Z[j],h_up[i]))\n",
    "        cz.set_commutator(Zs[j], h_dn[i])(calc_commutator(Z[j],h_dn[i]))\n",
    "        \n",
    "        cz.set_commutator(Zs_bar[j], h_up[i])(calc_commutator(conjugate_zetas(Z[j]),h_up[i]))\n",
    "        cz.set_commutator(Zs_bar[j], h_dn[i])(calc_commutator(conjugate_zetas(Z[j]),h_dn[i]))\n",
    "        \n",
    "        \n",
    "        assert calc_commutator(Z[i],h[i]) == 0\n",
    "        assert calc_commutator(conjugate_zetas(Z[i]),h[i]) == 0\n",
    "#         cz.set_commutator(Zs[i], h[i])(calc_commutator(Z[i],h[i]))\n"
   ]
  },
  {
   "cell_type": "code",
   "execution_count": 6,
   "id": "1577e55d-ad30-44ed-8218-300dd623af70",
   "metadata": {},
   "outputs": [
    {
     "data": {
      "text/latex": [
       "$+1 K_A \\zeta_0 S^+_{h1} $"
      ],
      "text/plain": [
       "<IPython.core.display.Latex object>"
      ]
     },
     "metadata": {},
     "output_type": "display_data"
    },
    {
     "data": {
      "text/latex": [
       "$+1 K_A \\zeta_0 S^+_{h1} $"
      ],
      "text/plain": [
       "<IPython.core.display.Latex object>"
      ]
     },
     "metadata": {},
     "output_type": "display_data"
    }
   ],
   "source": [
    "calc_commutator(Z[0],h_up[1]).show()\n",
    "cz.get_commutator(Zs[0],h_up[1]).show()"
   ]
  },
  {
   "cell_type": "code",
   "execution_count": 7,
   "id": "fc1b6b0a-5228-40c2-b4cd-bb4c89fea191",
   "metadata": {},
   "outputs": [
    {
     "name": "stdout",
     "output_type": "stream",
     "text": [
      "  +1 KA ζb0 h1  +1 KA ζb1 n0  +1 KA ζb2 v0  +1 KB ζb2 h5  +1 KB ζb1 n5  +1 KB ζb0 v5\n",
      "  +1 KA ζ0 h1  +1 KA ζ1 n0  +1 KA ζ2 v0  +1 KB ζ2 h5  +1 KB ζ1 n5  +1 KB ζ0 v5\n",
      "  +1 KB ζb1 h2  +1 KB ζb2 n1  +1 KB ζb0 v1  +1 KA ζb0 h0  +1 KA ζb2 n0  +1 KA ζb1 v0\n",
      "  +1 KB ζ1 h2  +1 KB ζ2 n1  +1 KB ζ0 v1  +1 KA ζ0 h0  +1 KA ζ2 n0  +1 KA ζ1 v0\n",
      "  +1 KA ζb2 h3  +1 KA ζb0 n2  +1 KA ζb1 v2  +1 KB ζb1 h1  +1 KB ζb0 n1  +1 KB ζb2 v1\n",
      "  +1 KA ζ2 h3  +1 KA ζ0 n2  +1 KA ζ1 v2  +1 KB ζ1 h1  +1 KB ζ0 n1  +1 KB ζ2 v1\n",
      "  +1 KB ζb0 h4  +1 KB ζb1 n3  +1 KB ζb2 v3  +1 KA ζb2 h2  +1 KA ζb1 n2  +1 KA ζb0 v2\n",
      "  +1 KB ζ0 h4  +1 KB ζ1 n3  +1 KB ζ2 v3  +1 KA ζ2 h2  +1 KA ζ1 n2  +1 KA ζ0 v2\n",
      "  +1 KA ζb1 h5  +1 KA ζb2 n4  +1 KA ζb0 v4  +1 KB ζb0 h3  +1 KB ζb2 n3  +1 KB ζb1 v3\n",
      "  +1 KA ζ1 h5  +1 KA ζ2 n4  +1 KA ζ0 v4  +1 KB ζ0 h3  +1 KB ζ2 n3  +1 KB ζ1 v3\n",
      "  +1 KB ζb2 h0  +1 KB ζb0 n5  +1 KB ζb1 v5  +1 KA ζb1 h4  +1 KA ζb0 n4  +1 KA ζb2 v4\n",
      "  +1 KB ζ2 h0  +1 KB ζ0 n5  +1 KB ζ1 v5  +1 KA ζ1 h4  +1 KA ζ0 n4  +1 KA ζ2 v4\n"
     ]
    }
   ],
   "source": [
    "# Double check that the Z[i] are doing what they should\n",
    "\n",
    "for i in range(6):\n",
    "#     Z[i].show()\n",
    "    zb = conjugate_zetas(Z[i])\n",
    "    print(zb)\n",
    "    print(conjugate_zetas(zb))\n",
    "    assert conjugate_zetas(zb) == Z[i]"
   ]
  },
  {
   "cell_type": "code",
   "execution_count": 8,
   "id": "62c0353a-35df-4463-9908-00484d2605ac",
   "metadata": {},
   "outputs": [],
   "source": [
    "# Define the coefficients (see overleaf 'QSI axion semiclassics' for details)\n",
    "\n",
    "U1AB = Operator('U1_AB', 'U_1(A,B)', scalar=True)\n",
    "U2AB = Operator('U2_AB', 'U_2(A,B)', scalar=True)\n",
    "U3AB = Operator('U3_AB', 'U_3(A,B)', scalar=True)\n",
    "U1BA = Operator('U1_BA', 'U_1(B,A)', scalar=True)\n",
    "U2BA = Operator('U2_BA', 'U_2(B,A)', scalar=True)\n",
    "U3BA = Operator('U3_BA', 'U_3(B,A)', scalar=True)\n",
    "U4 = Operator('U4', 'U_4', scalar=True)\n",
    "U5 = Operator('U5', 'U_5', scalar=True)\n",
    "\n",
    "JzA = Operator('JzA','J^z_A',scalar=True)\n",
    "JzB = Operator('JzB','J^z_B',scalar=True)\n",
    "\n",
    "\n",
    "\n",
    "JA = Operator('JA','J^\\perp_A',scalar=True)\n",
    "JB = Operator('JB','J^\\perp_B',scalar=True)\n",
    "\n",
    "ring_cw = []\n",
    "ring_ccw = []\n",
    "ring_direct = []\n",
    "\n",
    "for i in range(6):\n",
    "    e = h_up[(i+0)%6]*Zs[i%6]\n",
    "    f = h_dn[(i+1)%6]*Zs_bar[(i+1)%6]\n",
    "    E = h_up[(i+2)%6]*h_dn[(i+3)%6]\n",
    "    F = h_up[(i+4)%6]*h_dn[(i+5)%6]\n",
    "    \n",
    "    if i%2 == 0:\n",
    "        # E, F are A bonds\n",
    "        x =  JA*JA*U1AB*(f*E*F*e + e*F*E*f)\n",
    "        x += JA*JA*U2AB*(e*f*E*F + f*e*E*F + E*F*e*f + E*F*f*e)\n",
    "        x += JA*JA*U3AB*(F*e*f*E + E*f*e*F)\n",
    "    else:\n",
    "        x =  JB*JB*U1BA*(f*E*F*e + e*F*E*f)\n",
    "        x += JB*JB*U2BA*(e*f*E*F + f*e*E*F + E*F*e*f + E*F*f*e)\n",
    "        x += JB*JB*U3BA*(F*e*f*E + E*f*e*F)\n",
    "    \n",
    "    \n",
    "    ring_ccw.append(x)\n",
    "    \n",
    "    \n",
    "for i in range(6):\n",
    "    e = h_dn[(i+0)%6]*Zs_bar[i%6]\n",
    "    f = h_up[(i+1)%6]*Zs[(i+1)%6]\n",
    "    E = h_dn[(i+2)%6]*h_up[(i+3)%6]\n",
    "    F = h_dn[(i+4)%6]*h_up[(i+5)%6]\n",
    "    \n",
    "    if i%2 == 0:\n",
    "        # E, F are A bonds\n",
    "        x =  JA*JA*U1AB*(f*E*F*e + e*F*E*f)\n",
    "        x += JA*JA*U2AB*(e*f*E*F + f*e*E*F + E*F*e*f + E*F*f*e)\n",
    "        x += JA*JA*U3AB*(F*e*f*E + E*f*e*F)\n",
    "    else:\n",
    "        x =  JB*JB*U1BA*(f*E*F*e + e*F*E*f)\n",
    "        x += JB*JB*U2BA*(e*f*E*F + f*e*E*F + E*F*e*f + E*F*f*e)\n",
    "        x += JB*JB*U3BA*(F*e*f*E + E*f*e*F)\n",
    "    \n",
    "    \n",
    "    ring_cw.append(x)\n",
    "    \n",
    "for i in range(6):\n",
    "    p = h_up[i%6]*Zs[i%6]\n",
    "    m = h_dn[(i+3)%6]*Zs_bar[(i+3)%6]\n",
    "    T = h_dn[(i+1)%6]*h_up[(i+2)%6]\n",
    "    B = h_dn[(i-1)%6]*h_up[(i-2)%6]\n",
    "    \n",
    "    \n",
    "    x = U4*(p*B*T*m + m*T*B*p)\n",
    "    if i%2 == 0:\n",
    "        x += U5*JzA*(p*T*m*B + m*T*p*B + B*m*T*p + B*p*T*m)\n",
    "        x += U5*JzB*(p*B*m*T + m*B*p*T + T*m*B*p + T*p*B*m)\n",
    "    else:\n",
    "        x += U5*JzB*(p*T*m*B + m*T*p*B + B*m*T*p + B*p*T*m)\n",
    "        x += U5*JzA*(p*B*m*T + m*B*p*T + T*m*B*p + T*p*B*m)\n",
    "    x += U5*(JzA+JzB)*Fraction(1,2)*(p*m*B*T + T*B*m*p)\n",
    "    x += U5*(JzA+JzB)*(T*p*m*B + B*m*p*T)\n",
    "    \n",
    "    x = JA*JB*x\n",
    "    ring_direct.append(x)\n"
   ]
  },
  {
   "cell_type": "code",
   "execution_count": 9,
   "id": "36054092-ca0a-44ff-82f0-765196a57df4",
   "metadata": {},
   "outputs": [],
   "source": [
    "scalar_order = [JA,JB,U1AB,U2AB,U3AB,U1BA,U2BA,U3BA,U4,U5,JzA,JzB,KA,KB]+bond_zetas + bond_zetas_bar\n",
    "\n",
    "#ad hoc simplifier functions\n",
    "# these impose a canonical order on all known symbols\n",
    "\n",
    "def move_h_right(expr):\n",
    "\n",
    "    for i in range(6):\n",
    "        cz.move_right(expr, h_up[i])\n",
    "        cz.move_right(expr, h_dn[i])\n",
    "        \n",
    "    expr.move_scalars()\n",
    "    for s in reversed(scalar_order):\n",
    "        cz.move_left(expr, s)\n",
    "        \n",
    "    expr.collect()\n",
    "    \n",
    "def move_h_left(expr):\n",
    "\n",
    "    for i in range(6):\n",
    "        cz.move_left(expr, h_dn[i])\n",
    "        cz.move_left(expr, h_up[i])\n",
    "        \n",
    "    expr.move_scalars()\n",
    "    for s in scalar_order:\n",
    "        cz.move_right(expr, s)\n",
    "        \n",
    "    expr.collect()\n",
    "\n",
    "        \n",
    "    \n",
    "    \n",
    "    \n"
   ]
  },
  {
   "cell_type": "code",
   "execution_count": 10,
   "id": "788201c2-630f-45fd-aff6-f9eb59ee40e0",
   "metadata": {},
   "outputs": [
    {
     "name": "stdout",
     "output_type": "stream",
     "text": [
      "Coefficient of  +1 h⁻0 h⁺1 h⁻2 h⁺3 h⁻4 h⁺5 :\n",
      "  +1 JA JA U1_AB Zh1 Zhb0  +1 JA JA U1_AB Zhb0 Zh1  +2 JA JA U2_AB Zhb0 Zh1  +2 JA JA U2_AB Zh1 Zhb0  +1 JA JA U3_AB Zhb0 Zh1  +1 JA JA U3_AB Zh1 Zhb0  +1 JA JA U1_AB KA ζ0 Zhb0  +2 JA JA U2_AB KA ζ0 Zhb0  +1 JA JA U3_AB KA ζ0 Zhb0  -1 JA JA U1_AB KA ζb0 Zh1  -2 JA JA U2_AB KA ζb0 Zh1  -1 JA JA U3_AB KA ζb0 Zh1  +1 JA JA U1_AB KB ζ1 Zhb0  +2 JA JA U2_AB KB ζ1 Zhb0  +1 JA JA U3_AB KB ζ1 Zhb0  -1 JA JA U2_AB KA KB ζ1 ζb0  -1 JA JA U3_AB KA KB ζ1 ζb0  -1 JA JA U1_AB KB ζb2 Zh1  -2 JA JA U2_AB KB ζb2 Zh1  -1 JA JA U3_AB KB ζb2 Zh1  -1 JA JA U2_AB KA KB ζ0 ζb2  -1 JA JA U3_AB KA KB ζ0 ζb2  -2 JA JA U2_AB KB KB ζ1 ζb2  +1 JB JB U1_BA Zhb2 Zh1  +1 JB JB U1_BA Zh1 Zhb2  +2 JB JB U2_BA Zh1 Zhb2  +2 JB JB U2_BA Zhb2 Zh1  +1 JB JB U3_BA Zh1 Zhb2  +1 JB JB U3_BA Zhb2 Zh1  +1 JB JB U1_BA KA ζ0 Zhb2  +2 JB JB U2_BA KA ζ0 Zhb2  +1 JB JB U3_BA KA ζ0 Zhb2  -1 JB JB U1_BA KB ζb1 Zh1  -2 JB JB U2_BA KB ζb1 Zh1  -1 JB JB U3_BA KB ζb1 Zh1  -1 JB JB U2_BA KA KB ζ0 ζb1  -1 JB JB U3_BA KA KB ζ0 ζb1  +1 JB JB U1_BA KB ζ1 Zhb2  +2 JB JB U2_BA KB ζ1 Zhb2  +1 JB JB U3_BA KB ζ1 Zhb2  -1 JB JB U1_BA KA ζb2 Zh1  -2 JB JB U2_BA KA ζb2 Zh1  -1 JB JB U3_BA KA ζb2 Zh1  -2 JB JB U2_BA KA KA ζ0 ζb2  -1 JB JB U2_BA KA KB ζ1 ζb2  -1 JB JB U3_BA KA KB ζ1 ζb2  +1 JA JB U4 Zh1 Zhb4  +1 JA JB U4 Zhb4 Zh1  +7/2 JA JB U5 JzB Zh1 Zhb4  +7/2 JA JB U5 JzB Zhb4 Zh1  +7/2 JA JB U5 JzA Zh1 Zhb4  +7/2 JA JB U5 JzA Zhb4 Zh1  +1 JA JB U4 KA ζ0 Zhb4  +7/2 JA JB U5 JzB KA ζ0 Zhb4  +7/2 JA JB U5 JzA KA ζ0 Zhb4  +1 JA JB U4 KB ζ1 Zhb4  +7/2 JA JB U5 JzB KB ζ1 Zhb4  +7/2 JA JB U5 JzA KB ζ1 Zhb4  -1 JA JB U4 KB ζb0 Zh1  -7/2 JA JB U5 JzB KB ζb0 Zh1  -7/2 JA JB U5 JzA KB ζb0 Zh1  -3/2 JA JB U5 JzB KA KB ζ0 ζb0  -3/2 JA JB U5 JzA KA KB ζ0 ζb0  -7/2 JA JB U5 JzA KB KB ζ1 ζb0  -3/2 JA JB U5 JzB KB KB ζ1 ζb0  -1 JA JB U4 KA ζb1 Zh1  -7/2 JA JB U5 JzB KA ζb1 Zh1  -7/2 JA JB U5 JzA KA ζb1 Zh1  -7/2 JA JB U5 JzB KA KA ζ0 ζb1  -3/2 JA JB U5 JzA KA KA ζ0 ζb1  -3/2 JA JB U5 JzB KA KB ζ1 ζb1  -3/2 JA JB U5 JzA KA KB ζ1 ζb1  +1 JA JA U1_AB Zh3 Zhb2  +1 JA JA U1_AB Zhb2 Zh3  +2 JA JA U2_AB Zhb2 Zh3  +2 JA JA U2_AB Zh3 Zhb2  +1 JA JA U3_AB Zhb2 Zh3  +1 JA JA U3_AB Zh3 Zhb2  -1 JA JA U1_AB KB ζb1 Zh3  -2 JA JA U2_AB KB ζb1 Zh3  -1 JA JA U3_AB KB ζb1 Zh3  +1 JA JA U1_AB KA ζ2 Zhb2  +2 JA JA U2_AB KA ζ2 Zhb2  +1 JA JA U3_AB KA ζ2 Zhb2  -1 JA JA U2_AB KA KB ζ2 ζb1  -1 JA JA U3_AB KA KB ζ2 ζb1  -1 JA JA U1_AB KA ζb2 Zh3  -2 JA JA U2_AB KA ζb2 Zh3  -1 JA JA U3_AB KA ζb2 Zh3  +1 JA JA U1_AB KB ζ0 Zhb2  +2 JA JA U2_AB KB ζ0 Zhb2  +1 JA JA U3_AB KB ζ0 Zhb2  -2 JA JA U2_AB KB KB ζ0 ζb1  -1 JA JA U2_AB KA KB ζ0 ζb2  -1 JA JA U3_AB KA KB ζ0 ζb2  +1 JB JB U1_BA Zhb4 Zh3  +1 JB JB U1_BA Zh3 Zhb4  +2 JB JB U2_BA Zh3 Zhb4  +2 JB JB U2_BA Zhb4 Zh3  +1 JB JB U3_BA Zh3 Zhb4  +1 JB JB U3_BA Zhb4 Zh3  +1 JB JB U1_BA KA ζ2 Zhb4  +2 JB JB U2_BA KA ζ2 Zhb4  +1 JB JB U3_BA KA ζ2 Zhb4  -1 JB JB U1_BA KB ζb0 Zh3  -2 JB JB U2_BA KB ζb0 Zh3  -1 JB JB U3_BA KB ζb0 Zh3  -1 JB JB U2_BA KA KB ζ2 ζb0  -1 JB JB U3_BA KA KB ζ2 ζb0  +1 JB JB U1_BA KB ζ0 Zhb4  +2 JB JB U2_BA KB ζ0 Zhb4  +1 JB JB U3_BA KB ζ0 Zhb4  -1 JB JB U1_BA KA ζb1 Zh3  -2 JB JB U2_BA KA ζb1 Zh3  -1 JB JB U3_BA KA ζb1 Zh3  -2 JB JB U2_BA KA KA ζ2 ζb1  -1 JB JB U2_BA KA KB ζ0 ζb1  -1 JB JB U3_BA KA KB ζ0 ζb1  +1 JA JB U4 Zh3 Zhb0  +1 JA JB U4 Zhb0 Zh3  +7/2 JA JB U5 JzB Zh3 Zhb0  +7/2 JA JB U5 JzB Zhb0 Zh3  +7/2 JA JB U5 JzA Zh3 Zhb0  +7/2 JA JB U5 JzA Zhb0 Zh3  -1 JA JB U4 KA ζb0 Zh3  -7/2 JA JB U5 JzB KA ζb0 Zh3  -7/2 JA JB U5 JzA KA ζb0 Zh3  +1 JA JB U4 KA ζ2 Zhb0  +7/2 JA JB U5 JzB KA ζ2 Zhb0  +7/2 JA JB U5 JzA KA ζ2 Zhb0  -7/2 JA JB U5 JzB KA KA ζ2 ζb0  -3/2 JA JB U5 JzA KA KA ζ2 ζb0  +1 JA JB U4 KB ζ0 Zhb0  +7/2 JA JB U5 JzB KB ζ0 Zhb0  +7/2 JA JB U5 JzA KB ζ0 Zhb0  -3/2 JA JB U5 JzB KA KB ζ0 ζb0  -3/2 JA JB U5 JzA KA KB ζ0 ζb0  -1 JA JB U4 KB ζb2 Zh3  -7/2 JA JB U5 JzB KB ζb2 Zh3  -7/2 JA JB U5 JzA KB ζb2 Zh3  -3/2 JA JB U5 JzB KA KB ζ2 ζb2  -3/2 JA JB U5 JzA KA KB ζ2 ζb2  -7/2 JA JB U5 JzA KB KB ζ0 ζb2  -3/2 JA JB U5 JzB KB KB ζ0 ζb2  +1 JA JA U1_AB Zh5 Zhb4  +1 JA JA U1_AB Zhb4 Zh5  +2 JA JA U2_AB Zhb4 Zh5  +2 JA JA U2_AB Zh5 Zhb4  +1 JA JA U3_AB Zhb4 Zh5  +1 JA JA U3_AB Zh5 Zhb4  +1 JA JA U1_AB KB ζ2 Zhb4  +2 JA JA U2_AB KB ζ2 Zhb4  +1 JA JA U3_AB KB ζ2 Zhb4  -1 JA JA U1_AB KB ζb0 Zh5  -2 JA JA U2_AB KB ζb0 Zh5  -1 JA JA U3_AB KB ζb0 Zh5  -2 JA JA U2_AB KB KB ζ2 ζb0  +1 JA JA U1_AB KA ζ1 Zhb4  +2 JA JA U2_AB KA ζ1 Zhb4  +1 JA JA U3_AB KA ζ1 Zhb4  -1 JA JA U2_AB KA KB ζ1 ζb0  -1 JA JA U3_AB KA KB ζ1 ζb0  -1 JA JA U1_AB KA ζb1 Zh5  -2 JA JA U2_AB KA ζb1 Zh5  -1 JA JA U3_AB KA ζb1 Zh5  -1 JA JA U2_AB KA KB ζ2 ζb1  -1 JA JA U3_AB KA KB ζ2 ζb1  +1 JB JB U1_BA Zhb0 Zh5  +1 JB JB U1_BA Zh5 Zhb0  +2 JB JB U2_BA Zh5 Zhb0  +2 JB JB U2_BA Zhb0 Zh5  +1 JB JB U3_BA Zh5 Zhb0  +1 JB JB U3_BA Zhb0 Zh5  +1 JB JB U1_BA KB ζ2 Zhb0  +2 JB JB U2_BA KB ζ2 Zhb0  +1 JB JB U3_BA KB ζ2 Zhb0  -1 JB JB U1_BA KA ζb0 Zh5  -2 JB JB U2_BA KA ζb0 Zh5  -1 JB JB U3_BA KA ζb0 Zh5  -1 JB JB U2_BA KA KB ζ2 ζb0  -1 JB JB U3_BA KA KB ζ2 ζb0  +1 JB JB U1_BA KA ζ1 Zhb0  +2 JB JB U2_BA KA ζ1 Zhb0  +1 JB JB U3_BA KA ζ1 Zhb0  -2 JB JB U2_BA KA KA ζ1 ζb0  -1 JB JB U1_BA KB ζb2 Zh5  -2 JB JB U2_BA KB ζb2 Zh5  -1 JB JB U3_BA KB ζb2 Zh5  -1 JB JB U2_BA KA KB ζ1 ζb2  -1 JB JB U3_BA KA KB ζ1 ζb2  +1 JA JB U4 Zh5 Zhb2  +1 JA JB U4 Zhb2 Zh5  +7/2 JA JB U5 JzB Zh5 Zhb2  +7/2 JA JB U5 JzB Zhb2 Zh5  +7/2 JA JB U5 JzA Zh5 Zhb2  +7/2 JA JB U5 JzA Zhb2 Zh5  +1 JA JB U4 KB ζ2 Zhb2  +7/2 JA JB U5 JzB KB ζ2 Zhb2  +7/2 JA JB U5 JzA KB ζ2 Zhb2  -1 JA JB U4 KB ζb1 Zh5  -7/2 JA JB U5 JzB KB ζb1 Zh5  -7/2 JA JB U5 JzA KB ζb1 Zh5  -7/2 JA JB U5 JzA KB KB ζ2 ζb1  -3/2 JA JB U5 JzB KB KB ζ2 ζb1  -1 JA JB U4 KA ζb2 Zh5  -7/2 JA JB U5 JzB KA ζb2 Zh5  -7/2 JA JB U5 JzA KA ζb2 Zh5  -3/2 JA JB U5 JzB KA KB ζ2 ζb2  -3/2 JA JB U5 JzA KA KB ζ2 ζb2  +1 JA JB U4 KA ζ1 Zhb2  +7/2 JA JB U5 JzB KA ζ1 Zhb2  +7/2 JA JB U5 JzA KA ζ1 Zhb2  -3/2 JA JB U5 JzB KA KB ζ1 ζb1  -3/2 JA JB U5 JzA KA KB ζ1 ζb1  -7/2 JA JB U5 JzB KA KA ζ1 ζb2  -3/2 JA JB U5 JzA KA KA ζ1 ζb2\n"
     ]
    }
   ],
   "source": [
    "odd_coeff = Expression()\n",
    "\n",
    "for i in range(0,6,2):\n",
    "    move_h_right(ring_cw[i])\n",
    "    move_h_right(ring_ccw[i+1])\n",
    "    move_h_right(ring_direct[i+1])\n",
    "\n",
    "ring_O = ring_cw[0].factor()[1]\n",
    "    \n",
    "for i in range(0,6,2):\n",
    "    f1, O1 = ring_cw[i].factor()\n",
    "    f2, O2 = ring_ccw[i+1].factor()\n",
    "    f3, O3 = ring_direct[i+1].factor()\n",
    "    \n",
    "    assert O1 == ring_O\n",
    "    assert O2 == ring_O\n",
    "    assert O3 == ring_O\n",
    "    # can never be too careful!\n",
    "    odd_coeff += f1\n",
    "    odd_coeff += f2\n",
    "    odd_coeff += f3\n",
    "\n",
    "\n",
    "# odd_coeff.show()\n",
    "print(\"Coefficient of \",ring_O,\":\")\n",
    "print(odd_coeff)\n"
   ]
  },
  {
   "cell_type": "code",
   "execution_count": 11,
   "id": "53f47fa2-7c22-46df-bcae-6452642b6f8f",
   "metadata": {},
   "outputs": [
    {
     "name": "stdout",
     "output_type": "stream",
     "text": [
      "Coefficient of  +1 h⁻5 h⁺4 h⁻3 h⁺2 h⁻1 h⁺0 :\n"
     ]
    }
   ],
   "source": [
    "even_coeff = Expression()\n",
    "\n",
    "# we now move the h's *left* in order to prove that we capture everything we want in the coefficient of O\n",
    "\n",
    "for i in range(1,6,2):\n",
    "    move_h_left(ring_cw[i])\n",
    "    move_h_left(ring_ccw[i-1])\n",
    "    move_h_left(ring_direct[i-1])\n",
    "\n",
    "ring_O_bar = ring_cw[1].factor('right')[0]\n",
    " \n",
    "# f, b = ring_cw[1].factor('right')\n",
    "# print(f)\n",
    "# print(b)\n",
    "    \n",
    "for i in range(1,6,2):\n",
    "    O1, f1 = ring_cw[i].factor('right')\n",
    "    O2, f2 = ring_ccw[i-1].factor('right')\n",
    "    O3, f3 = ring_direct[i-1].factor('right')\n",
    "\n",
    "    # makes sure we are actually getting the right coefficients\n",
    "    assert O1 == ring_O_bar\n",
    "    assert O2 == ring_O_bar\n",
    "    assert O3 == ring_O_bar\n",
    "\n",
    "    even_coeff += f1\n",
    "    even_coeff += f2\n",
    "    even_coeff += f3\n",
    "\n",
    "\n",
    "print(\"Coefficient of \",ring_O_bar,\":\")\n",
    "# print(even_coeff)"
   ]
  },
  {
   "cell_type": "code",
   "execution_count": 12,
   "id": "a452198c-ea62-48b7-aefc-304684beddb8",
   "metadata": {},
   "outputs": [],
   "source": [
    "# manual implemntation of complex conjugation\n",
    "def conjugate_zeta_Z(expr):\n",
    "    x = conjugate_zetas(expr)\n",
    "    repl = []\n",
    "    for i in range(6):\n",
    "        repl.append((Zs[i], Zs_bar[i]))\n",
    "        repl.append((Zs_bar[i], Zs[i]))\n",
    "    return x.replaceall(*repl)\n",
    "    \n",
    "    \n",
    "even_coeff_bar = conjugate_zeta_Z(even_coeff)\n",
    "move_h_right(even_coeff_bar)\n",
    "\n",
    "diff = even_coeff_bar + -1* odd_coeff\n",
    "diff.collect()\n",
    "assert diff == 0\n",
    "\n",
    "# therefore odd_coeff = even_coeff_bar\n",
    "# Hence We can halve the workload by exploiting hermiticity, and only worrying baout odd_coeff"
   ]
  },
  {
   "cell_type": "code",
   "execution_count": 13,
   "id": "85f2efc8-9c17-4127-bcff-1fc4230c1d1a",
   "metadata": {},
   "outputs": [],
   "source": [
    "# define the hexagon orientator\n",
    "\n",
    "hexa = Operator('w','w',scalar=True)\n",
    "hexa_bar = Operator('wb',r'w^*',scalar=True)\n",
    "\n",
    "# Replaces symbolic Z with its full expression\n",
    "def sub_for_Zs(expr):\n",
    "    repl = []\n",
    "    for i in range(6):\n",
    "        repl.append((Zs[i],Z[i]))\n",
    "        repl.append((Zs_bar[i],conjugate_zetas(Z[i])))\n",
    "    return expr.replaceall(*repl)\n",
    "\n",
    "# replaces zeta_i zeta_j^* -> w or w_bar depending on orientation\n",
    "def simplify_zetas(expr):\n",
    "    # only works if scalars are in canonical order\n",
    "    simpl = []\n",
    "    for i, z in enumerate(bond_zetas):\n",
    "        for j, zb in enumerate(bond_zetas_bar):\n",
    "            if i == j:\n",
    "                simpl.append((z*zb, 1))\n",
    "            elif i == (j+1) %3:\n",
    "                simpl.append((z*zb, hexa))\n",
    "            else:\n",
    "                simpl.append((z*zb, hexa_bar))\n",
    "    return expr.replaceall(*simpl).replaceall((hexa*hexa_bar, 1), (hexa_bar*hexa, 1))\n",
    "\n",
    "\n",
    "\n",
    "\n",
    "odd_full = sub_for_Zs(odd_coeff)\n",
    "move_h_right(odd_full)\n",
    "simplified_odd = simplify_zetas(odd_full)\n",
    "move_h_right(simplified_odd)\n",
    "# print(simplified_odd)"
   ]
  },
  {
   "cell_type": "code",
   "execution_count": 14,
   "id": "90da9f30-077a-4951-9e8c-7d380959e0c6",
   "metadata": {},
   "outputs": [
    {
     "name": "stdout",
     "output_type": "stream",
     "text": [
      "  +3 JA JA U1_AB KA KB w  +3/2 JA JA U1_AB KB KB wb  +4 JA JA U1_AB KA KB w n0 n1  -2 JA JA U1_AB KA KB n0 n1  +2 JA JA U1_AB KB KB w n1 n5  -4 JA JA U1_AB KB KB wb n1 n5  -2 JA JA U1_AB KA KB wb n0 n1  +2 JA JA U1_AB KB KB n1 n5  -3/2 JA JA U1_AB KA KA  +3/2 JA JA U1_AB KA KA w  +4 JA JA U1_AB KA KB w n0 n5  -2 JA JA U1_AB KA KB wb n0 n5  +3/2 JA JA U1_AB KA KA wb  -2 JA JA U1_AB KA KB n0 n5  -3 JA JA U2_AB KA KA  +8 JA JA U2_AB KA KB w n0 n1  -4 JA JA U2_AB KA KB wb n0 n1  +3 JA JA U2_AB KA KA w  -4 JA JA U2_AB KA KB n0 n1  +3 JA JA U2_AB KA KA wb  -3 JA JA U2_AB KB KB wb  +4 JA JA U2_AB KB KB w n1 n5  -8 JA JA U2_AB KB KB wb n1 n5  +8 JA JA U2_AB KA KB w n0 n5  -4 JA JA U2_AB KA KB n0 n5  +4 JA JA U2_AB KB KB n1 n5  -4 JA JA U2_AB KA KB wb n0 n5  -3 JA JA U3_AB KA KB w  -3/2 JA JA U3_AB KA KA  +4 JA JA U3_AB KA KB w n0 n1  -2 JA JA U3_AB KA KB wb n0 n1  +3/2 JA JA U3_AB KA KA w  -2 JA JA U3_AB KA KB n0 n1  +3/2 JA JA U3_AB KA KA wb  +3/2 JA JA U3_AB KB KB wb  +2 JA JA U3_AB KB KB w n1 n5  -4 JA JA U3_AB KB KB wb n1 n5  +4 JA JA U3_AB KA KB w n0 n5  -2 JA JA U3_AB KA KB n0 n5  +2 JA JA U3_AB KB KB n1 n5  -2 JA JA U3_AB KA KB wb n0 n5  +3 JB JB U1_BA KA KB wb  +3/2 JB JB U1_BA KA KA w  +4 JB JB U1_BA KA KB wb n1 n2  -2 JB JB U1_BA KA KB n1 n2  +2 JB JB U1_BA KA KA wb n0 n2  -4 JB JB U1_BA KA KA w n0 n2  -2 JB JB U1_BA KA KB w n1 n2  +2 JB JB U1_BA KA KA n0 n2  -3/2 JB JB U1_BA KB KB  +3/2 JB JB U1_BA KB KB wb  +4 JB JB U1_BA KA KB wb n0 n1  -2 JB JB U1_BA KA KB w n0 n1  +3/2 JB JB U1_BA KB KB w  -2 JB JB U1_BA KA KB n0 n1  -3 JB JB U2_BA KB KB  +8 JB JB U2_BA KA KB wb n1 n2  -4 JB JB U2_BA KA KB w n1 n2  +3 JB JB U2_BA KB KB wb  -4 JB JB U2_BA KA KB n1 n2  +3 JB JB U2_BA KB KB w  -3 JB JB U2_BA KA KA w  +4 JB JB U2_BA KA KA wb n0 n2  -8 JB JB U2_BA KA KA w n0 n2  +8 JB JB U2_BA KA KB wb n0 n1  -4 JB JB U2_BA KA KB n0 n1  +4 JB JB U2_BA KA KA n0 n2  -4 JB JB U2_BA KA KB w n0 n1  -3 JB JB U3_BA KA KB wb  -3/2 JB JB U3_BA KB KB  +4 JB JB U3_BA KA KB wb n1 n2  -2 JB JB U3_BA KA KB w n1 n2  +3/2 JB JB U3_BA KB KB wb  -2 JB JB U3_BA KA KB n1 n2  +3/2 JB JB U3_BA KB KB w  +3/2 JB JB U3_BA KA KA w  +2 JB JB U3_BA KA KA wb n0 n2  -4 JB JB U3_BA KA KA w n0 n2  +4 JB JB U3_BA KA KB wb n0 n1  -2 JB JB U3_BA KA KB n0 n1  +2 JB JB U3_BA KA KA n0 n2  -2 JB JB U3_BA KA KB w n0 n1  +3 JA JB U4 KA KB  +3/2 JA JB U4 KB KB w  +8 JA JB U4 KA KB n1 n4  -4 JA JB U4 KA KB wb n1 n4  +2 JA JB U4 KB KB n1 n3  -4 JA JB U4 KB KB w n1 n3  -4 JA JB U4 KA KB w n1 n4  +2 JA JB U4 KB KB wb n1 n3  +3/2 JA JB U4 KA KA wb  +2 JA JB U4 KA KA n0 n4  -4 JA JB U4 KA KA wb n0 n4  +8 JA JB U4 KA KB n0 n3  -4 JA JB U4 KA KB w n0 n3  +2 JA JB U4 KA KA w n0 n4  -4 JA JB U4 KA KB wb n0 n3  +3/2 JA JB U5 JzB KA KB  +3/4 JA JB U5 JzB KB KB w  +28 JA JB U5 JzB KA KB n1 n4  -14 JA JB U5 JzB KA KB wb n1 n4  +7 JA JB U5 JzB KB KB n1 n3  -14 JA JB U5 JzB KB KB w n1 n3  -14 JA JB U5 JzB KA KB w n1 n4  +7 JA JB U5 JzB KB KB wb n1 n3  -21/4 JA JB U5 JzB KA KA wb  +7 JA JB U5 JzB KA KA n0 n4  -14 JA JB U5 JzB KA KA wb n0 n4  +28 JA JB U5 JzB KA KB n0 n3  -14 JA JB U5 JzB KA KB w n0 n3  +7 JA JB U5 JzB KA KA w n0 n4  -14 JA JB U5 JzB KA KB wb n0 n3  +3/2 JA JB U5 JzA KA KB  -21/4 JA JB U5 JzA KB KB w  +28 JA JB U5 JzA KA KB n1 n4  -14 JA JB U5 JzA KA KB wb n1 n4  +7 JA JB U5 JzA KB KB n1 n3  -14 JA JB U5 JzA KB KB w n1 n3  -14 JA JB U5 JzA KA KB w n1 n4  +7 JA JB U5 JzA KB KB wb n1 n3  +3/4 JA JB U5 JzA KA KA wb  +7 JA JB U5 JzA KA KA n0 n4  -14 JA JB U5 JzA KA KA wb n0 n4  +28 JA JB U5 JzA KA KB n0 n3  -14 JA JB U5 JzA KA KB w n0 n3  +7 JA JB U5 JzA KA KA w n0 n4  -14 JA JB U5 JzA KA KB wb n0 n3  +4 JA JA U1_AB KA KB w n2 n3  -2 JA JA U1_AB KA KB n2 n3  +2 JA JA U1_AB KB KB w n1 n3  -4 JA JA U1_AB KB KB wb n1 n3  -2 JA JA U1_AB KA KB wb n2 n3  +2 JA JA U1_AB KB KB n1 n3  +4 JA JA U1_AB KA KB w n1 n2  -2 JA JA U1_AB KA KB wb n1 n2  -2 JA JA U1_AB KA KB n1 n2  +8 JA JA U2_AB KA KB w n2 n3  -4 JA JA U2_AB KA KB wb n2 n3  -4 JA JA U2_AB KA KB n2 n3  +4 JA JA U2_AB KB KB w n1 n3  -8 JA JA U2_AB KB KB wb n1 n3  +8 JA JA U2_AB KA KB w n1 n2  -4 JA JA U2_AB KA KB n1 n2  +4 JA JA U2_AB KB KB n1 n3  -4 JA JA U2_AB KA KB wb n1 n2  +4 JA JA U3_AB KA KB w n2 n3  -2 JA JA U3_AB KA KB wb n2 n3  -2 JA JA U3_AB KA KB n2 n3  +2 JA JA U3_AB KB KB w n1 n3  -4 JA JA U3_AB KB KB wb n1 n3  +4 JA JA U3_AB KA KB w n1 n2  -2 JA JA U3_AB KA KB n1 n2  +2 JA JA U3_AB KB KB n1 n3  -2 JA JA U3_AB KA KB wb n1 n2  +4 JB JB U1_BA KA KB wb n3 n4  -2 JB JB U1_BA KA KB n3 n4  +2 JB JB U1_BA KA KA wb n2 n4  -4 JB JB U1_BA KA KA w n2 n4  -2 JB JB U1_BA KA KB w n3 n4  +2 JB JB U1_BA KA KA n2 n4  +4 JB JB U1_BA KA KB wb n2 n3  -2 JB JB U1_BA KA KB w n2 n3  -2 JB JB U1_BA KA KB n2 n3  +8 JB JB U2_BA KA KB wb n3 n4  -4 JB JB U2_BA KA KB w n3 n4  -4 JB JB U2_BA KA KB n3 n4  +4 JB JB U2_BA KA KA wb n2 n4  -8 JB JB U2_BA KA KA w n2 n4  +8 JB JB U2_BA KA KB wb n2 n3  -4 JB JB U2_BA KA KB n2 n3  +4 JB JB U2_BA KA KA n2 n4  -4 JB JB U2_BA KA KB w n2 n3  +4 JB JB U3_BA KA KB wb n3 n4  -2 JB JB U3_BA KA KB w n3 n4  -2 JB JB U3_BA KA KB n3 n4  +2 JB JB U3_BA KA KA wb n2 n4  -4 JB JB U3_BA KA KA w n2 n4  +4 JB JB U3_BA KA KB wb n2 n3  -2 JB JB U3_BA KA KB n2 n3  +2 JB JB U3_BA KA KA n2 n4  -2 JB JB U3_BA KA KB w n2 n3  +2 JA JB U4 KB KB n3 n5  -4 JA JB U4 KB KB w n3 n5  +2 JA JB U4 KB KB wb n3 n5  +2 JA JB U4 KA KA n0 n2  -4 JA JB U4 KA KA wb n0 n2  +8 JA JB U4 KA KB n2 n5  -4 JA JB U4 KA KB w n2 n5  +2 JA JB U4 KA KA w n0 n2  -4 JA JB U4 KA KB wb n2 n5  +7 JA JB U5 JzB KB KB n3 n5  -14 JA JB U5 JzB KB KB w n3 n5  +7 JA JB U5 JzB KB KB wb n3 n5  +7 JA JB U5 JzB KA KA n0 n2  -14 JA JB U5 JzB KA KA wb n0 n2  +28 JA JB U5 JzB KA KB n2 n5  -14 JA JB U5 JzB KA KB w n2 n5  +7 JA JB U5 JzB KA KA w n0 n2  -14 JA JB U5 JzB KA KB wb n2 n5  +7 JA JB U5 JzA KB KB n3 n5  -14 JA JB U5 JzA KB KB w n3 n5  +7 JA JB U5 JzA KB KB wb n3 n5  +7 JA JB U5 JzA KA KA n0 n2  -14 JA JB U5 JzA KA KA wb n0 n2  +28 JA JB U5 JzA KA KB n2 n5  -14 JA JB U5 JzA KA KB w n2 n5  +7 JA JB U5 JzA KA KA w n0 n2  -14 JA JB U5 JzA KA KB wb n2 n5  +4 JA JA U1_AB KA KB w n4 n5  -2 JA JA U1_AB KA KB n4 n5  +2 JA JA U1_AB KB KB w n3 n5  -4 JA JA U1_AB KB KB wb n3 n5  -2 JA JA U1_AB KA KB wb n4 n5  +2 JA JA U1_AB KB KB n3 n5  +4 JA JA U1_AB KA KB w n3 n4  -2 JA JA U1_AB KA KB wb n3 n4  -2 JA JA U1_AB KA KB n3 n4  +8 JA JA U2_AB KA KB w n4 n5  -4 JA JA U2_AB KA KB wb n4 n5  -4 JA JA U2_AB KA KB n4 n5  +4 JA JA U2_AB KB KB w n3 n5  -8 JA JA U2_AB KB KB wb n3 n5  +8 JA JA U2_AB KA KB w n3 n4  -4 JA JA U2_AB KA KB n3 n4  +4 JA JA U2_AB KB KB n3 n5  -4 JA JA U2_AB KA KB wb n3 n4  +4 JA JA U3_AB KA KB w n4 n5  -2 JA JA U3_AB KA KB wb n4 n5  -2 JA JA U3_AB KA KB n4 n5  +2 JA JA U3_AB KB KB w n3 n5  -4 JA JA U3_AB KB KB wb n3 n5  +4 JA JA U3_AB KA KB w n3 n4  -2 JA JA U3_AB KA KB n3 n4  +2 JA JA U3_AB KB KB n3 n5  -2 JA JA U3_AB KA KB wb n3 n4  +4 JB JB U1_BA KA KB wb n0 n5  -2 JB JB U1_BA KA KB n0 n5  +2 JB JB U1_BA KA KA wb n0 n4  -4 JB JB U1_BA KA KA w n0 n4  -2 JB JB U1_BA KA KB w n0 n5  +2 JB JB U1_BA KA KA n0 n4  +4 JB JB U1_BA KA KB wb n4 n5  -2 JB JB U1_BA KA KB w n4 n5  -2 JB JB U1_BA KA KB n4 n5  +8 JB JB U2_BA KA KB wb n0 n5  -4 JB JB U2_BA KA KB w n0 n5  -4 JB JB U2_BA KA KB n0 n5  +4 JB JB U2_BA KA KA wb n0 n4  -8 JB JB U2_BA KA KA w n0 n4  +8 JB JB U2_BA KA KB wb n4 n5  -4 JB JB U2_BA KA KB n4 n5  +4 JB JB U2_BA KA KA n0 n4  -4 JB JB U2_BA KA KB w n4 n5  +4 JB JB U3_BA KA KB wb n0 n5  -2 JB JB U3_BA KA KB w n0 n5  -2 JB JB U3_BA KA KB n0 n5  +2 JB JB U3_BA KA KA wb n0 n4  -4 JB JB U3_BA KA KA w n0 n4  +4 JB JB U3_BA KA KB wb n4 n5  -2 JB JB U3_BA KA KB n4 n5  +2 JB JB U3_BA KA KA n0 n4  -2 JB JB U3_BA KA KB w n4 n5  +2 JA JB U4 KB KB n1 n5  -4 JA JB U4 KB KB w n1 n5  +2 JA JB U4 KB KB wb n1 n5  +2 JA JB U4 KA KA n2 n4  -4 JA JB U4 KA KA wb n2 n4  +2 JA JB U4 KA KA w n2 n4  +7 JA JB U5 JzB KB KB n1 n5  -14 JA JB U5 JzB KB KB w n1 n5  +7 JA JB U5 JzB KB KB wb n1 n5  +7 JA JB U5 JzB KA KA n2 n4  -14 JA JB U5 JzB KA KA wb n2 n4  +7 JA JB U5 JzB KA KA w n2 n4  +7 JA JB U5 JzA KB KB n1 n5  -14 JA JB U5 JzA KB KB w n1 n5  +7 JA JB U5 JzA KB KB wb n1 n5  +7 JA JB U5 JzA KA KA n2 n4  -14 JA JB U5 JzA KA KA wb n2 n4  +7 JA JB U5 JzA KA KA w n2 n4\n"
     ]
    }
   ],
   "source": [
    "# replace S^2 -> 1/4\n",
    "def cancel_spinsquare(expr):\n",
    "    repl = []\n",
    "    for i in range(6):\n",
    "        # spins square to 1/4\n",
    "        repl.append((n[i]*n[i], Fraction(1,4)))\n",
    "        repl.append((v[i]*v[i], Fraction(1,4)))\n",
    "        repl.append((h[i]*h[i], Fraction(1,4)))\n",
    "    x= expr.replaceall(*repl)\n",
    "    x.collect()\n",
    "    return x\n",
    "\n",
    "\n",
    "\n",
    "repl = []\n",
    "for i in range(6):\n",
    "    # absorb S^z into the O operator\n",
    "    if ring_O.ops[i] == h_up[i]:\n",
    "        repl.append((h[i], Fraction(1,2)))\n",
    "    elif ring_O.ops[i] == h_dn[i]:\n",
    "        repl.append((h[i], Fraction(-1,2)))\n",
    "\n",
    "\n",
    "# impose the ice condition\n",
    "for i in range(6):\n",
    "    repl.append((v[i], -1*n[i]))\n",
    "\n",
    "replaced = simplified_odd.replaceall(*repl)\n",
    "\n",
    "for i in range(6):\n",
    "    ca.move_right(replaced, n[i])\n",
    "\n",
    "\n",
    "replaced.collect()\n",
    "    \n",
    "absorbed_odd = cancel_spinsquare(replaced)\n",
    "        \n",
    "print(absorbed_odd)\n",
    "\n",
    "# print(simplified_odd.coefficient(JA*JA*U1AB,'right').coefficient(n[0]*n[0]))"
   ]
  },
  {
   "cell_type": "code",
   "execution_count": 15,
   "id": "d1840966-40bd-4f5e-a7f2-82973968438c",
   "metadata": {},
   "outputs": [
    {
     "name": "stdout",
     "output_type": "stream",
     "text": [
      "c1 = +n0n1[  +6 KA KB w] +n1n2[  +6 KA KB w] +n2n3[  +6 KA KB w] +n3n4[  +6 KA KB w] +n4n5[  +6 KA KB w] +n0n5[  +6 KA KB w]\n",
      "c2 = +n0n1[  +12 KA KB w] +n1n2[  +12 KA KB w] +n2n3[  +12 KA KB w] +n3n4[  +12 KA KB w] +n4n5[  +12 KA KB w] +n0n5[  +12 KA KB w]\n",
      "c3 = +n0n1[  +6 KA KB w] +n1n2[  +6 KA KB w] +n2n3[  +6 KA KB w] +n3n4[  +6 KA KB w] +n4n5[  +6 KA KB w] +n0n5[  +6 KA KB w]\n",
      "c1p = +n0n1[  +6 KA KB wb] +n1n2[  +6 KA KB wb] +n2n3[  +6 KA KB wb] +n3n4[  +6 KA KB wb] +n4n5[  +6 KA KB wb] +n0n5[  +6 KA KB wb]\n",
      "c2p = +n0n1[  +12 KA KB wb] +n1n2[  +12 KA KB wb] +n2n3[  +12 KA KB wb] +n3n4[  +12 KA KB wb] +n4n5[  +12 KA KB wb] +n0n5[  +12 KA KB wb]\n",
      "c3p = +n0n1[  +6 KA KB wb] +n1n2[  +6 KA KB wb] +n2n3[  +6 KA KB wb] +n3n4[  +6 KA KB wb] +n4n5[  +6 KA KB wb] +n0n5[  +6 KA KB wb]\n"
     ]
    }
   ],
   "source": [
    "absorbed_odd.sort('multiplier')\n",
    "\n",
    "# this is just for visual inspection\n",
    "\n",
    "coeff_1 = absorbed_odd.coefficient(JA*JA*U1AB,'right')\n",
    "coeff_2 = absorbed_odd.coefficient(JA*JA*U2AB,'right')\n",
    "coeff_3 = absorbed_odd.coefficient(JA*JA*U3AB,'right')\n",
    "\n",
    "coeff_1p = absorbed_odd.coefficient(JB*JB*U1BA,'right')\n",
    "coeff_2p = absorbed_odd.coefficient(JB*JB*U2BA,'right')\n",
    "coeff_3p = absorbed_odd.coefficient(JB*JB*U3BA,'right')\n",
    "\n",
    "# x13 = coeff_1 + -1*coeff_3\n",
    "# x12 = coeff_1 + -1*coeff_2\n",
    "# x32 = coeff_3 + -1*coeff_2\n",
    "\n",
    "# x13.collect()\n",
    "# x12.collect()\n",
    "# x32.collect()\n",
    "\n",
    "# x13.sort()\n",
    "# x12.sort()\n",
    "# x32.sort()\n",
    "\n",
    "s = 'c1 ='\n",
    "\n",
    "c1_subbed = coeff_1.sub(hexa_bar,-1*(hexa+1))\n",
    "for i in range(6):\n",
    "    if i <5:\n",
    "        s+= ' +'+str(n[i])+str(n[i+1])+'['\n",
    "        s += str(c1_subbed.coefficient(n[i]*n[i+1]))+']'\n",
    "    else:\n",
    "        s+= ' +'+str(n[0])+str(n[5])+'['\n",
    "        s += str(c1_subbed.coefficient(n[0]*n[5]))+']'\n",
    "print(s)\n",
    "\n",
    "\n",
    "s = 'c2 ='\n",
    "c2_subbed = coeff_2.sub(hexa_bar,-1*(hexa+1))\n",
    "for i in range(6):\n",
    "    if i <5:\n",
    "        s+= ' +'+str(n[i])+str(n[i+1])+'['\n",
    "        s += str(c2_subbed.coefficient(n[i]*n[i+1]))+']'\n",
    "    else:\n",
    "        s+= ' +'+str(n[0])+str(n[5])+'['\n",
    "        s += str(c2_subbed.coefficient(n[0]*n[5]))+']'\n",
    "print(s)\n",
    "\n",
    "s = 'c3 ='\n",
    "c3_subbed = coeff_3.sub(hexa_bar,-1*(hexa+1))\n",
    "for i in range(6):\n",
    "    if i <5:\n",
    "        s+= ' +'+str(n[i])+str(n[i+1])+'['\n",
    "        s += str(c3_subbed.coefficient(n[i]*n[i+1]))+']'\n",
    "    else:\n",
    "        s+= ' +'+str(n[0])+str(n[5])+'['\n",
    "        s += str(c3_subbed.coefficient(n[0]*n[5]))+']'\n",
    "print(s)\n",
    "\n",
    "s = 'c1p ='\n",
    "\n",
    "c1p_subbed = coeff_1p.sub(hexa,-1*(hexa_bar+1))\n",
    "for i in range(6):\n",
    "    if i <5:\n",
    "        s+= ' +'+str(n[i])+str(n[i+1])+'['\n",
    "        s += str(c1p_subbed.coefficient(n[i]*n[i+1]))+']'\n",
    "    else:\n",
    "        s+= ' +'+str(n[0])+str(n[5])+'['\n",
    "        s += str(c1p_subbed.coefficient(n[0]*n[5]))+']'\n",
    "print(s)\n",
    "\n",
    "\n",
    "s = 'c2p ='\n",
    "c2p_subbed = coeff_2p.sub(hexa,-1*(hexa_bar+1))\n",
    "for i in range(6):\n",
    "    if i <5:\n",
    "        s+= ' +'+str(n[i])+str(n[i+1])+'['\n",
    "        s += str(c2p_subbed.coefficient(n[i]*n[i+1]))+']'\n",
    "    else:\n",
    "        s+= ' +'+str(n[0])+str(n[5])+'['\n",
    "        s += str(c2p_subbed.coefficient(n[0]*n[5]))+']'\n",
    "print(s)\n",
    "\n",
    "s = 'c3p ='\n",
    "c3p_subbed = coeff_3p.sub(hexa,-1*(hexa_bar+1))\n",
    "for i in range(6):\n",
    "    if i <5:\n",
    "        s+= ' +'+str(n[i])+str(n[i+1])+'['\n",
    "        s += str(c3p_subbed.coefficient(n[i]*n[i+1]))+']'\n",
    "    else:\n",
    "        s+= ' +'+str(n[0])+str(n[5])+'['\n",
    "        s += str(c3p_subbed.coefficient(n[0]*n[5]))+']'\n",
    "print(s)\n"
   ]
  },
  {
   "cell_type": "code",
   "execution_count": 18,
   "id": "6a0fc57f-3ede-4934-8462-612b1dbb5ae5",
   "metadata": {},
   "outputs": [
    {
     "name": "stdout",
     "output_type": "stream",
     "text": [
      "  -2 JA JA U1_AB KA KB  +4 JA JA U1_AB KA KB w  -2 JA JA U1_AB KA KB wb  -4 JA JA U2_AB KA KB  +8 JA JA U2_AB KA KB w  -4 JA JA U2_AB KA KB wb  -2 JA JA U3_AB KA KB  +4 JA JA U3_AB KA KB w  -2 JA JA U3_AB KA KB wb  -2 JB JB U1_BA KA KB  -2 JB JB U1_BA KA KB w  +4 JB JB U1_BA KA KB wb  -4 JB JB U2_BA KA KB  -4 JB JB U2_BA KA KB w  +8 JB JB U2_BA KA KB wb  -2 JB JB U3_BA KA KB  -2 JB JB U3_BA KA KB w  +4 JB JB U3_BA KA KB wb\n",
      "  +2 JA JB U4 KA KA  +2 JA JB U4 KA KA w  -4 JA JB U4 KA KA wb  +7 JA JB U5 JzA KA KA  +7 JA JB U5 JzA KA KA w  -14 JA JB U5 JzA KA KA wb  +7 JA JB U5 JzB KA KA  +7 JA JB U5 JzB KA KA w  -14 JA JB U5 JzB KA KA wb  +2 JB JB U1_BA KA KA  -4 JB JB U1_BA KA KA w  +2 JB JB U1_BA KA KA wb  +4 JB JB U2_BA KA KA  -8 JB JB U2_BA KA KA w  +4 JB JB U2_BA KA KA wb  +2 JB JB U3_BA KA KA  -4 JB JB U3_BA KA KA w  +2 JB JB U3_BA KA KA wb\n",
      "  +2 JA JA U1_AB KB KB  +2 JA JA U1_AB KB KB w  -4 JA JA U1_AB KB KB wb  +4 JA JA U2_AB KB KB  +4 JA JA U2_AB KB KB w  -8 JA JA U2_AB KB KB wb  +2 JA JA U3_AB KB KB  +2 JA JA U3_AB KB KB w  -4 JA JA U3_AB KB KB wb  +2 JA JB U4 KB KB  -4 JA JB U4 KB KB w  +2 JA JB U4 KB KB wb  +7 JA JB U5 JzA KB KB  -14 JA JB U5 JzA KB KB w  +7 JA JB U5 JzA KB KB wb  +7 JA JB U5 JzB KB KB  -14 JA JB U5 JzB KB KB w  +7 JA JB U5 JzB KB KB wb\n",
      "  +8 JA JB U4 KA KB  -4 JA JB U4 KA KB w  -4 JA JB U4 KA KB wb  +28 JA JB U5 JzA KA KB  -14 JA JB U5 JzA KA KB w  -14 JA JB U5 JzA KA KB wb  +28 JA JB U5 JzB KA KB  -14 JA JB U5 JzB KA KB w  -14 JA JB U5 JzB KA KB wb\n",
      "  -21/4 JA JB U5 JzB KA KA wb  -21/4 JA JB U5 JzA KB KB w  -3 JA JA U2_AB KA KA  -3 JA JA U2_AB KB KB wb  -3 JA JA U3_AB KA KB w  -3 JB JB U2_BA KB KB  -3 JB JB U2_BA KA KA w  -3 JB JB U3_BA KA KB wb  -3/2 JA JA U1_AB KA KA  -3/2 JA JA U3_AB KA KA  -3/2 JB JB U1_BA KB KB  -3/2 JB JB U3_BA KB KB  +3/4 JA JB U5 JzB KB KB w  +3/4 JA JB U5 JzA KA KA wb  +3/2 JA JA U1_AB KB KB wb  +3/2 JA JA U1_AB KA KA w  +3/2 JA JA U1_AB KA KA wb  +3/2 JA JA U3_AB KA KA w  +3/2 JA JA U3_AB KA KA wb  +3/2 JA JA U3_AB KB KB wb  +3/2 JB JB U1_BA KA KA w  +3/2 JB JB U1_BA KB KB wb  +3/2 JB JB U1_BA KB KB w  +3/2 JB JB U3_BA KB KB wb  +3/2 JB JB U3_BA KB KB w  +3/2 JB JB U3_BA KA KA w  +3/2 JA JB U4 KB KB w  +3/2 JA JB U4 KA KA wb  +3/2 JA JB U5 JzB KA KB  +3/2 JA JB U5 JzA KA KB  +3 JA JA U1_AB KA KB w  +3 JA JA U2_AB KA KA w  +3 JA JA U2_AB KA KA wb  +3 JB JB U1_BA KA KB wb  +3 JB JB U2_BA KB KB wb  +3 JB JB U2_BA KB KB w  +3 JA JB U4 KA KB\n"
     ]
    }
   ],
   "source": [
    "# subbed = absorbed_odd.sub(hexa_bar,-1*(hexa+1))\n",
    "\n",
    "NN_pairs = []\n",
    "NNN_pairs = []\n",
    "NNNN_pairs = []\n",
    "\n",
    "for i in range(6):\n",
    "    j = i+1\n",
    "    if j == 6:\n",
    "        i,j = 0,5\n",
    "    \n",
    "    NN_pairs.append(absorbed_odd.coefficient(n[i]*n[j]))\n",
    "    \n",
    "for i in range(6):\n",
    "    J2 = i+2\n",
    "    if J2 == 6:\n",
    "        i,J2 = 0,4\n",
    "    elif J2 == 7:\n",
    "        i,J2 = 1,5\n",
    "    \n",
    "    NNN_pairs.append(absorbed_odd.coefficient(n[i]*n[J2]))\n",
    "    \n",
    "\n",
    "    \n",
    "NNNN_pairs=[\n",
    "    absorbed_odd.coefficient(n[0]*n[3]),\n",
    "    absorbed_odd.coefficient(n[1]*n[4]),\n",
    "    absorbed_odd.coefficient(n[2]*n[5])\n",
    "]\n",
    "    \n",
    "for nn, nnn, nnnn in zip(NN_pairs, NNN_pairs, NNNN_pairs):\n",
    "    nn.sort()\n",
    "    nnn.sort()\n",
    "    nnnn.sort()\n",
    "\n",
    "    \n",
    "assert all([n == NN_pairs[0] for n in NN_pairs])\n",
    "assert all([n == NNNN_pairs[0] for n in NNNN_pairs])\n",
    "    \n",
    "assert NNN_pairs[0] == NNN_pairs[2] and NNN_pairs[4] == NNN_pairs[2]\n",
    "assert NNN_pairs[1] == NNN_pairs[3] and NNN_pairs[3] == NNN_pairs[5]\n",
    "\n",
    "print(NN_pairs[0])\n",
    "print(NNN_pairs[0])\n",
    "print(NNN_pairs[1])\n",
    "print(NNNN_pairs[0])\n",
    "\n",
    "# any leftovers:\n",
    "remainder = absorbed_odd + -1*NN_pairs[0]*(n[0]*n[1] + n[1]*n[2] + n[2]*n[3] + n[3]*n[4] + n[4]*n[5] + n[0]*n[5])\n",
    "remainder += -1*NNN_pairs[0]*(n[0]*n[2] + n[2]*n[4] + n[0]*n[4])\n",
    "remainder += -1*NNN_pairs[1]*(n[1]*n[3] + n[3]*n[5] + n[1]*n[5])\n",
    "remainder += -1*NNNN_pairs[0]*(n[0]*n[3] + n[1]*n[4] + n[2]*n[5])\n",
    "remainder.collect()\n",
    "\n",
    "print(remainder)\n",
    "\n",
    "\n",
    "assert remainder.is_scalar\n",
    "    "
   ]
  },
  {
   "cell_type": "code",
   "execution_count": 39,
   "id": "fa6a5570-f69d-4540-b379-c49aac872431",
   "metadata": {},
   "outputs": [
    {
     "name": "stdout",
     "output_type": "stream",
     "text": [
      "Real Part:\n"
     ]
    },
    {
     "data": {
      "text/latex": [
       "$+\\frac{21}{8} J^\\perp_A J^\\perp_B U_5 J^z_A K_B K_B +\\frac{3}{2} J^\\perp_A J^\\perp_A U_3(A,B) K_A K_B +\\frac{3}{2} J^\\perp_B J^\\perp_B U_2(B,A) K_A K_A -\\frac{3}{8} J^\\perp_A J^\\perp_B U_5 J^z_B K_B K_B -3 J^\\perp_A J^\\perp_A U_1(A,B) K_A K_A -3 J^\\perp_A J^\\perp_A U_3(A,B) K_A K_A -\\frac{3}{4} J^\\perp_B J^\\perp_B U_1(B,A) K_A K_A -3 J^\\perp_B J^\\perp_B U_1(B,A) K_B K_B -3 J^\\perp_B J^\\perp_B U_3(B,A) K_B K_B -\\frac{3}{4} J^\\perp_B J^\\perp_B U_3(B,A) K_A K_A -\\frac{3}{4} J^\\perp_A J^\\perp_B U_4 K_B K_B -\\frac{3}{2} J^\\perp_A J^\\perp_A U_1(A,B) K_A K_B -6 J^\\perp_A J^\\perp_A U_2(A,B) K_A K_A -6 J^\\perp_B J^\\perp_B U_2(B,A) K_B K_B +\\frac{21}{8} J^\\perp_A J^\\perp_B U_5 J^z_B K_A K_A +\\frac{3}{2} J^\\perp_A J^\\perp_A U_2(A,B) K_B K_B +\\frac{3}{2} J^\\perp_B J^\\perp_B U_3(B,A) K_A K_B -\\frac{3}{8} J^\\perp_A J^\\perp_B U_5 J^z_A K_A K_A -\\frac{3}{4} J^\\perp_A J^\\perp_A U_1(A,B) K_B K_B -\\frac{3}{4} J^\\perp_A J^\\perp_A U_3(A,B) K_B K_B -\\frac{3}{4} J^\\perp_A J^\\perp_B U_4 K_A K_A -\\frac{3}{2} J^\\perp_B J^\\perp_B U_1(B,A) K_A K_B +\\frac{3}{2} J^\\perp_A J^\\perp_B U_5 J^z_B K_A K_B +\\frac{3}{2} J^\\perp_A J^\\perp_B U_5 J^z_A K_A K_B +3 J^\\perp_A J^\\perp_B U_4 K_A K_B $"
      ],
      "text/plain": [
       "<IPython.core.display.Latex object>"
      ]
     },
     "metadata": {},
     "output_type": "display_data"
    },
    {
     "name": "stdout",
     "output_type": "stream",
     "text": [
      "  +21/8 JA JB U5 JzA KB KB  +3/2 JA JA U3_AB KA KB  +3/2 JB JB U2_BA KA KA  -3/8 JA JB U5 JzB KB KB  -3 JA JA U1_AB KA KA  -3 JA JA U3_AB KA KA  -3/4 JB JB U1_BA KA KA  -3 JB JB U1_BA KB KB  -3 JB JB U3_BA KB KB  -3/4 JB JB U3_BA KA KA  -3/4 JA JB U4 KB KB  -3/2 JA JA U1_AB KA KB  -6 JA JA U2_AB KA KA  -6 JB JB U2_BA KB KB  +21/8 JA JB U5 JzB KA KA  +3/2 JA JA U2_AB KB KB  +3/2 JB JB U3_BA KA KB  -3/8 JA JB U5 JzA KA KA  -3/4 JA JA U1_AB KB KB  -3/4 JA JA U3_AB KB KB  -3/4 JA JB U4 KA KA  -3/2 JB JB U1_BA KA KB  +3/2 JA JB U5 JzB KA KB  +3/2 JA JB U5 JzA KA KB  +3 JA JB U4 KA KB\n",
      "\n",
      "Imaginary Part:\n"
     ]
    },
    {
     "data": {
      "text/latex": [
       "$-\\frac{21}{8} J^\\perp_A J^\\perp_B U_5 J^z_A K_B K_B \\sqrt{3} -\\frac{3}{2} J^\\perp_A J^\\perp_A U_3(A,B) K_A K_B \\sqrt{3} -\\frac{3}{2} J^\\perp_B J^\\perp_B U_2(B,A) K_A K_A \\sqrt{3} +\\frac{3}{8} J^\\perp_A J^\\perp_B U_5 J^z_B K_B K_B \\sqrt{3} +\\frac{3}{4} J^\\perp_A J^\\perp_A U_1(A,B) K_A K_A \\sqrt{3} +\\frac{3}{4} J^\\perp_A J^\\perp_A U_3(A,B) K_A K_A \\sqrt{3} +\\frac{3}{4} J^\\perp_B J^\\perp_B U_1(B,A) K_A K_A \\sqrt{3} +\\frac{3}{4} J^\\perp_B J^\\perp_B U_1(B,A) K_B K_B \\sqrt{3} +\\frac{3}{4} J^\\perp_B J^\\perp_B U_3(B,A) K_B K_B \\sqrt{3} +\\frac{3}{4} J^\\perp_B J^\\perp_B U_3(B,A) K_A K_A \\sqrt{3} +\\frac{3}{4} J^\\perp_A J^\\perp_B U_4 K_B K_B \\sqrt{3} +\\frac{3}{2} J^\\perp_A J^\\perp_A U_1(A,B) K_A K_B \\sqrt{3} +\\frac{3}{2} J^\\perp_A J^\\perp_A U_2(A,B) K_A K_A \\sqrt{3} +\\frac{3}{2} J^\\perp_B J^\\perp_B U_2(B,A) K_B K_B \\sqrt{3} +\\frac{21}{8} J^\\perp_A J^\\perp_B U_5 J^z_B K_A K_A \\sqrt{3} +\\frac{3}{2} J^\\perp_A J^\\perp_A U_2(A,B) K_B K_B \\sqrt{3} +\\frac{3}{2} J^\\perp_B J^\\perp_B U_3(B,A) K_A K_B \\sqrt{3} -\\frac{3}{8} J^\\perp_A J^\\perp_B U_5 J^z_A K_A K_A \\sqrt{3} -\\frac{3}{4} J^\\perp_A J^\\perp_A U_1(A,B) K_B K_B \\sqrt{3} -\\frac{3}{4} J^\\perp_A J^\\perp_A U_1(A,B) K_A K_A \\sqrt{3} -\\frac{3}{4} J^\\perp_A J^\\perp_A U_3(A,B) K_A K_A \\sqrt{3} -\\frac{3}{4} J^\\perp_A J^\\perp_A U_3(A,B) K_B K_B \\sqrt{3} -\\frac{3}{4} J^\\perp_B J^\\perp_B U_1(B,A) K_B K_B \\sqrt{3} -\\frac{3}{4} J^\\perp_B J^\\perp_B U_3(B,A) K_B K_B \\sqrt{3} -\\frac{3}{4} J^\\perp_A J^\\perp_B U_4 K_A K_A \\sqrt{3} -\\frac{3}{2} J^\\perp_A J^\\perp_A U_2(A,B) K_A K_A \\sqrt{3} -\\frac{3}{2} J^\\perp_B J^\\perp_B U_1(B,A) K_A K_B \\sqrt{3} -\\frac{3}{2} J^\\perp_B J^\\perp_B U_2(B,A) K_B K_B \\sqrt{3} $"
      ],
      "text/plain": [
       "<IPython.core.display.Latex object>"
      ]
     },
     "metadata": {},
     "output_type": "display_data"
    },
    {
     "name": "stdout",
     "output_type": "stream",
     "text": [
      "  -21/8 JA JB U5 JzA KB KB √3  -3/2 JA JA U3_AB KA KB √3  -3/2 JB JB U2_BA KA KA √3  +3/8 JA JB U5 JzB KB KB √3  +3/4 JA JA U1_AB KA KA √3  +3/4 JA JA U3_AB KA KA √3  +3/4 JB JB U1_BA KA KA √3  +3/4 JB JB U1_BA KB KB √3  +3/4 JB JB U3_BA KB KB √3  +3/4 JB JB U3_BA KA KA √3  +3/4 JA JB U4 KB KB √3  +3/2 JA JA U1_AB KA KB √3  +3/2 JA JA U2_AB KA KA √3  +3/2 JB JB U2_BA KB KB √3  +21/8 JA JB U5 JzB KA KA √3  +3/2 JA JA U2_AB KB KB √3  +3/2 JB JB U3_BA KA KB √3  -3/8 JA JB U5 JzA KA KA √3  -3/4 JA JA U1_AB KB KB √3  -3/4 JA JA U1_AB KA KA √3  -3/4 JA JA U3_AB KA KA √3  -3/4 JA JA U3_AB KB KB √3  -3/4 JB JB U1_BA KB KB √3  -3/4 JB JB U3_BA KB KB √3  -3/4 JA JB U4 KA KA √3  -3/2 JA JA U2_AB KA KA √3  -3/2 JB JB U1_BA KA KB √3  -3/2 JB JB U2_BA KB KB √3\n"
     ]
    }
   ],
   "source": [
    "hex_coeff = remainder.coefficient(hexa)\n",
    "hexb_coeff = remainder.coefficient(hexa_bar)\n",
    "\n",
    "root3 = Operator('√3',r'\\sqrt{3}',scalar=True)\n",
    "\n",
    "non_hex_coeff = remainder + -1*hex_coeff*hexa + -1*hexb_coeff*hexa_bar\n",
    "non_hex_coeff.collect()\n",
    "\n",
    "real_coeff = (hex_coeff+hexb_coeff)*Fraction(-1,2) + non_hex_coeff\n",
    "imag_coeff = (hex_coeff+-1*hexb_coeff)*Fraction(1,2)*root3\n",
    "\n",
    "# The coefficients g^{(4)}, g'\n",
    "# i.e. the scalars left over once we ignore the annoying nornal-normal Ising couplings\n",
    "\n",
    "real_coeff.collect()\n",
    "print(\"Real Part:\")\n",
    "real_coeff.show()\n",
    "print(real_coeff)\n",
    "print(\"\\nImaginary Part:\")\n",
    "imag_coeff.show()\n",
    "print(imag_coeff)"
   ]
  },
  {
   "cell_type": "code",
   "execution_count": 22,
   "id": "97e239c3-5440-42f1-8cd7-b8b9d1b445fe",
   "metadata": {},
   "outputs": [],
   "source": [
    "def swap_AB(expr):\n",
    "    pairs =  [(JA,JB),(U1AB,U1BA),(U2AB,U2BA),(U3AB,U3BA),(JzA,JzB),(KA,KB)]\n",
    "    pairs += [(JB,JA),(U1BA,U1AB),(U2BA,U2AB),(U3BA,U3AB),(JzB,JzA),(KB,KA)]\n",
    "    res = expr.replaceall(*(pairs))\n",
    "    move_h_right(res)\n",
    "    return res"
   ]
  },
  {
   "cell_type": "code",
   "execution_count": 23,
   "id": "064bb726-11a7-4535-8d21-7c548a3bb4ca",
   "metadata": {},
   "outputs": [],
   "source": [
    "# the real coeffieicent is AB-even\n",
    "diff = real_coeff + -1*swap_AB(real_coeff)\n",
    "move_h_right(diff)\n",
    "\n",
    "assert diff == 0"
   ]
  },
  {
   "cell_type": "code",
   "execution_count": 24,
   "id": "98c5dc91-29d3-441d-abce-547456d53544",
   "metadata": {},
   "outputs": [],
   "source": [
    "# the imag coefficient is AB-odd:\n",
    "anti = imag_coeff + swap_AB(imag_coeff)\n",
    "move_h_right(anti)\n",
    "anti.collect()\n",
    "assert anti == 0"
   ]
  },
  {
   "cell_type": "code",
   "execution_count": 34,
   "id": "d983bf4f-ca25-4e00-8461-a4808c5628be",
   "metadata": {},
   "outputs": [],
   "source": [
    "# define the normal-normal couplings\n",
    "xi1 = NN_pairs[0]\n",
    "\n",
    "xi2A = NNN_pairs[0]\n",
    "xi2B = NNN_pairs[1]\n",
    "\n",
    "xi3 = NNNN_pairs[0]"
   ]
  },
  {
   "cell_type": "code",
   "execution_count": 35,
   "id": "b44ba52f-b342-4e6a-8813-64f42ace915d",
   "metadata": {},
   "outputs": [],
   "source": [
    "# I = Operator('I','i',True)\n",
    "def convert_to_rectangular(expr):\n",
    "    cz.move_right(expr, hexa)\n",
    "    cz.move_right(expr, hexa_bar)\n",
    "    coeff_w=expr.coefficient(hexa)\n",
    "    coeff_wb=expr.coefficient(hexa_bar)\n",
    "    \n",
    "    remainder = expr + -1*(coeff_w*hexa +coeff_wb*hexa_bar)\n",
    "    remainder.collect()\n",
    "    real = remainder + Fraction(-1,2)*(coeff_w + coeff_wb)\n",
    "    imag = Fraction(1,2)*(coeff_w + -1*coeff_wb)*root3\n",
    "    return real, imag"
   ]
  },
  {
   "cell_type": "code",
   "execution_count": 36,
   "id": "2027abdc-b375-4839-96c2-20fa27d71e0e",
   "metadata": {},
   "outputs": [
    {
     "data": {
      "text/latex": [
       "$-2 J^\\perp_A J^\\perp_A U_1(A,B) K_A K_B -4 J^\\perp_A J^\\perp_A U_2(A,B) K_A K_B -2 J^\\perp_A J^\\perp_A U_3(A,B) K_A K_B -2 J^\\perp_B J^\\perp_B U_1(B,A) K_A K_B -4 J^\\perp_B J^\\perp_B U_2(B,A) K_A K_B -2 J^\\perp_B J^\\perp_B U_3(B,A) K_A K_B -2 J^\\perp_A J^\\perp_A U_1(A,B) K_A K_B -4 J^\\perp_A J^\\perp_A U_2(A,B) K_A K_B -2 J^\\perp_A J^\\perp_A U_3(A,B) K_A K_B +1 J^\\perp_B J^\\perp_B U_1(B,A) K_A K_B +2 J^\\perp_B J^\\perp_B U_2(B,A) K_A K_B +1 J^\\perp_B J^\\perp_B U_3(B,A) K_A K_B +1 J^\\perp_A J^\\perp_A U_1(A,B) K_A K_B +2 J^\\perp_A J^\\perp_A U_2(A,B) K_A K_B +1 J^\\perp_A J^\\perp_A U_3(A,B) K_A K_B -2 J^\\perp_B J^\\perp_B U_1(B,A) K_A K_B -4 J^\\perp_B J^\\perp_B U_2(B,A) K_A K_B -2 J^\\perp_B J^\\perp_B U_3(B,A) K_A K_B $"
      ],
      "text/plain": [
       "<IPython.core.display.Latex object>"
      ]
     },
     "metadata": {},
     "output_type": "display_data"
    },
    {
     "data": {
      "text/latex": [
       "$+2 J^\\perp_A J^\\perp_A U_1(A,B) K_A K_B \\sqrt{3} +4 J^\\perp_A J^\\perp_A U_2(A,B) K_A K_B \\sqrt{3} +2 J^\\perp_A J^\\perp_A U_3(A,B) K_A K_B \\sqrt{3} -1 J^\\perp_B J^\\perp_B U_1(B,A) K_A K_B \\sqrt{3} -2 J^\\perp_B J^\\perp_B U_2(B,A) K_A K_B \\sqrt{3} -1 J^\\perp_B J^\\perp_B U_3(B,A) K_A K_B \\sqrt{3} +1 J^\\perp_A J^\\perp_A U_1(A,B) K_A K_B \\sqrt{3} +2 J^\\perp_A J^\\perp_A U_2(A,B) K_A K_B \\sqrt{3} +1 J^\\perp_A J^\\perp_A U_3(A,B) K_A K_B \\sqrt{3} -2 J^\\perp_B J^\\perp_B U_1(B,A) K_A K_B \\sqrt{3} -4 J^\\perp_B J^\\perp_B U_2(B,A) K_A K_B \\sqrt{3} -2 J^\\perp_B J^\\perp_B U_3(B,A) K_A K_B \\sqrt{3} $"
      ],
      "text/plain": [
       "<IPython.core.display.Latex object>"
      ]
     },
     "metadata": {},
     "output_type": "display_data"
    },
    {
     "name": "stdout",
     "output_type": "stream",
     "text": [
      "Re(xi1) =    -2 JA JA U1_AB KA KB  -4 JA JA U2_AB KA KB  -2 JA JA U3_AB KA KB  -2 JB JB U1_BA KA KB  -4 JB JB U2_BA KA KB  -2 JB JB U3_BA KA KB  -2 JA JA U1_AB KA KB  -4 JA JA U2_AB KA KB  -2 JA JA U3_AB KA KB  +1 JB JB U1_BA KA KB  +2 JB JB U2_BA KA KB  +1 JB JB U3_BA KA KB  +1 JA JA U1_AB KA KB  +2 JA JA U2_AB KA KB  +1 JA JA U3_AB KA KB  -2 JB JB U1_BA KA KB  -4 JB JB U2_BA KA KB  -2 JB JB U3_BA KA KB\n",
      "Im(xi1) =    +2 JA JA U1_AB KA KB √3  +4 JA JA U2_AB KA KB √3  +2 JA JA U3_AB KA KB √3  -1 JB JB U1_BA KA KB √3  -2 JB JB U2_BA KA KB √3  -1 JB JB U3_BA KA KB √3  +1 JA JA U1_AB KA KB √3  +2 JA JA U2_AB KA KB √3  +1 JA JA U3_AB KA KB √3  -2 JB JB U1_BA KA KB √3  -4 JB JB U2_BA KA KB √3  -2 JB JB U3_BA KA KB √3\n"
     ]
    }
   ],
   "source": [
    "move_h_right(xi1)\n",
    "re, im = convert_to_rectangular(xi1) \n",
    "re.show()\n",
    "im.show()\n",
    "\n",
    "# real part is AB-even\n",
    "assert re +-1*swap_AB(re) == 0\n",
    "\n",
    "# imag part is AB-odd\n",
    "assert im + swap_AB(im) == 0\n",
    "\n",
    "print(\"Re(xi1) = \",re)\n",
    "print(\"Im(xi1) = \",im)"
   ]
  },
  {
   "cell_type": "code",
   "execution_count": 37,
   "id": "3164c3bf-be49-4c0f-a8ac-8313c737569e",
   "metadata": {},
   "outputs": [
    {
     "data": {
      "text/latex": [
       "$+8 J^\\perp_A J^\\perp_B U_4 K_A K_B +28 J^\\perp_A J^\\perp_B U_5 J^z_A K_A K_B +28 J^\\perp_A J^\\perp_B U_5 J^z_B K_A K_B +2 J^\\perp_A J^\\perp_B U_4 K_A K_B +7 J^\\perp_A J^\\perp_B U_5 J^z_A K_A K_B +7 J^\\perp_A J^\\perp_B U_5 J^z_B K_A K_B +2 J^\\perp_A J^\\perp_B U_4 K_A K_B +7 J^\\perp_A J^\\perp_B U_5 J^z_A K_A K_B +7 J^\\perp_A J^\\perp_B U_5 J^z_B K_A K_B $"
      ],
      "text/plain": [
       "<IPython.core.display.Latex object>"
      ]
     },
     "metadata": {},
     "output_type": "display_data"
    },
    {
     "data": {
      "text/latex": [
       "$-2 J^\\perp_A J^\\perp_B U_4 K_A K_B \\sqrt{3} -7 J^\\perp_A J^\\perp_B U_5 J^z_A K_A K_B \\sqrt{3} -7 J^\\perp_A J^\\perp_B U_5 J^z_B K_A K_B \\sqrt{3} +2 J^\\perp_A J^\\perp_B U_4 K_A K_B \\sqrt{3} +7 J^\\perp_A J^\\perp_B U_5 J^z_A K_A K_B \\sqrt{3} +7 J^\\perp_A J^\\perp_B U_5 J^z_B K_A K_B \\sqrt{3} $"
      ],
      "text/plain": [
       "<IPython.core.display.Latex object>"
      ]
     },
     "metadata": {},
     "output_type": "display_data"
    },
    {
     "name": "stdout",
     "output_type": "stream",
     "text": [
      "Re(xi3) =    +8 JA JB U4 KA KB  +28 JA JB U5 JzA KA KB  +28 JA JB U5 JzB KA KB  +2 JA JB U4 KA KB  +7 JA JB U5 JzA KA KB  +7 JA JB U5 JzB KA KB  +2 JA JB U4 KA KB  +7 JA JB U5 JzA KA KB  +7 JA JB U5 JzB KA KB\n",
      "Im(xi3) = 0\n"
     ]
    }
   ],
   "source": [
    "move_h_right(xi3)\n",
    "re, im = convert_to_rectangular(xi3) \n",
    "re.show()\n",
    "im.show()\n",
    "\n",
    "# real part is AB-even\n",
    "assert re +-1*swap_AB(re) == 0\n",
    "\n",
    "# imag part is zero\n",
    "assert im  == 0\n",
    "print(\"Re(xi3) = \",re)\n",
    "print(\"Im(xi3) = 0\")"
   ]
  },
  {
   "cell_type": "code",
   "execution_count": 38,
   "id": "8c1a5bf6-3604-4655-a84d-92a04cecda94",
   "metadata": {},
   "outputs": [
    {
     "data": {
      "text/latex": [
       "$+2 J^\\perp_A J^\\perp_B U_4 K_A K_A +7 J^\\perp_A J^\\perp_B U_5 J^z_A K_A K_A +7 J^\\perp_A J^\\perp_B U_5 J^z_B K_A K_A +2 J^\\perp_B J^\\perp_B U_1(B,A) K_A K_A +4 J^\\perp_B J^\\perp_B U_2(B,A) K_A K_A +2 J^\\perp_B J^\\perp_B U_3(B,A) K_A K_A -1 J^\\perp_A J^\\perp_B U_4 K_A K_A -\\frac{7}{2} J^\\perp_A J^\\perp_B U_5 J^z_A K_A K_A -\\frac{7}{2} J^\\perp_A J^\\perp_B U_5 J^z_B K_A K_A +2 J^\\perp_B J^\\perp_B U_1(B,A) K_A K_A +4 J^\\perp_B J^\\perp_B U_2(B,A) K_A K_A +2 J^\\perp_B J^\\perp_B U_3(B,A) K_A K_A +2 J^\\perp_A J^\\perp_B U_4 K_A K_A +7 J^\\perp_A J^\\perp_B U_5 J^z_A K_A K_A +7 J^\\perp_A J^\\perp_B U_5 J^z_B K_A K_A -1 J^\\perp_B J^\\perp_B U_1(B,A) K_A K_A -2 J^\\perp_B J^\\perp_B U_2(B,A) K_A K_A -1 J^\\perp_B J^\\perp_B U_3(B,A) K_A K_A $"
      ],
      "text/plain": [
       "<IPython.core.display.Latex object>"
      ]
     },
     "metadata": {},
     "output_type": "display_data"
    },
    {
     "data": {
      "text/latex": [
       "$+1 J^\\perp_A J^\\perp_B U_4 K_A K_A \\sqrt{3} +\\frac{7}{2} J^\\perp_A J^\\perp_B U_5 J^z_A K_A K_A \\sqrt{3} +\\frac{7}{2} J^\\perp_A J^\\perp_B U_5 J^z_B K_A K_A \\sqrt{3} -2 J^\\perp_B J^\\perp_B U_1(B,A) K_A K_A \\sqrt{3} -4 J^\\perp_B J^\\perp_B U_2(B,A) K_A K_A \\sqrt{3} -2 J^\\perp_B J^\\perp_B U_3(B,A) K_A K_A \\sqrt{3} +2 J^\\perp_A J^\\perp_B U_4 K_A K_A \\sqrt{3} +7 J^\\perp_A J^\\perp_B U_5 J^z_A K_A K_A \\sqrt{3} +7 J^\\perp_A J^\\perp_B U_5 J^z_B K_A K_A \\sqrt{3} -1 J^\\perp_B J^\\perp_B U_1(B,A) K_A K_A \\sqrt{3} -2 J^\\perp_B J^\\perp_B U_2(B,A) K_A K_A \\sqrt{3} -1 J^\\perp_B J^\\perp_B U_3(B,A) K_A K_A \\sqrt{3} $"
      ],
      "text/plain": [
       "<IPython.core.display.Latex object>"
      ]
     },
     "metadata": {},
     "output_type": "display_data"
    },
    {
     "name": "stdout",
     "output_type": "stream",
     "text": [
      "\n"
     ]
    },
    {
     "data": {
      "text/latex": [
       "$+2 J^\\perp_A J^\\perp_A U_1(A,B) K_B K_B +4 J^\\perp_A J^\\perp_A U_2(A,B) K_B K_B +2 J^\\perp_A J^\\perp_A U_3(A,B) K_B K_B +2 J^\\perp_A J^\\perp_B U_4 K_B K_B +7 J^\\perp_A J^\\perp_B U_5 J^z_A K_B K_B +7 J^\\perp_A J^\\perp_B U_5 J^z_B K_B K_B -1 J^\\perp_A J^\\perp_A U_1(A,B) K_B K_B -2 J^\\perp_A J^\\perp_A U_2(A,B) K_B K_B -1 J^\\perp_A J^\\perp_A U_3(A,B) K_B K_B +2 J^\\perp_A J^\\perp_B U_4 K_B K_B +7 J^\\perp_A J^\\perp_B U_5 J^z_A K_B K_B +7 J^\\perp_A J^\\perp_B U_5 J^z_B K_B K_B +2 J^\\perp_A J^\\perp_A U_1(A,B) K_B K_B +4 J^\\perp_A J^\\perp_A U_2(A,B) K_B K_B +2 J^\\perp_A J^\\perp_A U_3(A,B) K_B K_B -1 J^\\perp_A J^\\perp_B U_4 K_B K_B -\\frac{7}{2} J^\\perp_A J^\\perp_B U_5 J^z_A K_B K_B -\\frac{7}{2} J^\\perp_A J^\\perp_B U_5 J^z_B K_B K_B $"
      ],
      "text/plain": [
       "<IPython.core.display.Latex object>"
      ]
     },
     "metadata": {},
     "output_type": "display_data"
    },
    {
     "data": {
      "text/latex": [
       "$+1 J^\\perp_A J^\\perp_A U_1(A,B) K_B K_B \\sqrt{3} +2 J^\\perp_A J^\\perp_A U_2(A,B) K_B K_B \\sqrt{3} +1 J^\\perp_A J^\\perp_A U_3(A,B) K_B K_B \\sqrt{3} -2 J^\\perp_A J^\\perp_B U_4 K_B K_B \\sqrt{3} -7 J^\\perp_A J^\\perp_B U_5 J^z_A K_B K_B \\sqrt{3} -7 J^\\perp_A J^\\perp_B U_5 J^z_B K_B K_B \\sqrt{3} +2 J^\\perp_A J^\\perp_A U_1(A,B) K_B K_B \\sqrt{3} +4 J^\\perp_A J^\\perp_A U_2(A,B) K_B K_B \\sqrt{3} +2 J^\\perp_A J^\\perp_A U_3(A,B) K_B K_B \\sqrt{3} -1 J^\\perp_A J^\\perp_B U_4 K_B K_B \\sqrt{3} -\\frac{7}{2} J^\\perp_A J^\\perp_B U_5 J^z_A K_B K_B \\sqrt{3} -\\frac{7}{2} J^\\perp_A J^\\perp_B U_5 J^z_B K_B K_B \\sqrt{3} $"
      ],
      "text/plain": [
       "<IPython.core.display.Latex object>"
      ]
     },
     "metadata": {},
     "output_type": "display_data"
    },
    {
     "name": "stdout",
     "output_type": "stream",
     "text": [
      "Re(xi2A) =    +2 JA JB U4 KA KA  +7 JA JB U5 JzA KA KA  +7 JA JB U5 JzB KA KA  +2 JB JB U1_BA KA KA  +4 JB JB U2_BA KA KA  +2 JB JB U3_BA KA KA  -1 JA JB U4 KA KA  -7/2 JA JB U5 JzA KA KA  -7/2 JA JB U5 JzB KA KA  +2 JB JB U1_BA KA KA  +4 JB JB U2_BA KA KA  +2 JB JB U3_BA KA KA  +2 JA JB U4 KA KA  +7 JA JB U5 JzA KA KA  +7 JA JB U5 JzB KA KA  -1 JB JB U1_BA KA KA  -2 JB JB U2_BA KA KA  -1 JB JB U3_BA KA KA\n",
      "Im(xi2A) =    +1 JA JB U4 KA KA √3  +7/2 JA JB U5 JzA KA KA √3  +7/2 JA JB U5 JzB KA KA √3  -2 JB JB U1_BA KA KA √3  -4 JB JB U2_BA KA KA √3  -2 JB JB U3_BA KA KA √3  +2 JA JB U4 KA KA √3  +7 JA JB U5 JzA KA KA √3  +7 JA JB U5 JzB KA KA √3  -1 JB JB U1_BA KA KA √3  -2 JB JB U2_BA KA KA √3  -1 JB JB U3_BA KA KA √3\n",
      "Re(xi2B) =    +2 JA JA U1_AB KB KB  +4 JA JA U2_AB KB KB  +2 JA JA U3_AB KB KB  +2 JA JB U4 KB KB  +7 JA JB U5 JzA KB KB  +7 JA JB U5 JzB KB KB  -1 JA JA U1_AB KB KB  -2 JA JA U2_AB KB KB  -1 JA JA U3_AB KB KB  +2 JA JB U4 KB KB  +7 JA JB U5 JzA KB KB  +7 JA JB U5 JzB KB KB  +2 JA JA U1_AB KB KB  +4 JA JA U2_AB KB KB  +2 JA JA U3_AB KB KB  -1 JA JB U4 KB KB  -7/2 JA JB U5 JzA KB KB  -7/2 JA JB U5 JzB KB KB\n",
      "Im(xi2B) =    +1 JA JA U1_AB KB KB √3  +2 JA JA U2_AB KB KB √3  +1 JA JA U3_AB KB KB √3  -2 JA JB U4 KB KB √3  -7 JA JB U5 JzA KB KB √3  -7 JA JB U5 JzB KB KB √3  +2 JA JA U1_AB KB KB √3  +4 JA JA U2_AB KB KB √3  +2 JA JA U3_AB KB KB √3  -1 JA JB U4 KB KB √3  -7/2 JA JB U5 JzA KB KB √3  -7/2 JA JB U5 JzB KB KB √3\n"
     ]
    }
   ],
   "source": [
    "move_h_right(xi2A)\n",
    "move_h_right(xi2B)\n",
    "reA, imA = convert_to_rectangular(xi2A) \n",
    "reB, imB = convert_to_rectangular(xi2B) \n",
    "reA.show()\n",
    "imA.show()\n",
    "print()\n",
    "reB.show()\n",
    "imB.show()\n",
    "\n",
    "\n",
    "assert reA +-1*swap_AB(reB) == 0\n",
    "assert reB +-1*swap_AB(reA) == 0\n",
    "print(\"Re(xi2A) = \",reA)\n",
    "print(\"Im(xi2A) = \",imA)\n",
    "\n",
    "# imag part is AB-odd\n",
    "assert imA + swap_AB(imB) == 0\n",
    "assert imB + swap_AB(imA) == 0\n",
    "\n",
    "print(\"Re(xi2B) = \",reB)\n",
    "print(\"Im(xi2B) = \",imB)"
   ]
  },
  {
   "cell_type": "code",
   "execution_count": null,
   "id": "353f5040-8834-4c68-87c1-5bccebd9b8e4",
   "metadata": {},
   "outputs": [],
   "source": [
    "# the second order term hot quick\n",
    "\n",
    "ZZ = Z[0]*conjugate_zetas(Z[0])\n",
    "move_h_right(ZZ)\n",
    "ZZs = simplify_zetas(ZZ).replaceall(*[(h[i]*h[i], Fraction(1,4)) for i in range(6)]\n",
    "                       ).replaceall(*[(n[i]*n[i], Fraction(1,4)) for i in range(6)]\n",
    "                       ).replaceall(*[(v[i]*v[i], Fraction(1,4)) for i in range(6)]\n",
    "                       )\n",
    "ZZs.collect()\n",
    "re, im = convert_to_rectangular(ZZs)\n",
    "\n",
    "def order_Szs(expr):\n",
    "    for i in range(6):\n",
    "        ca.move_right(expr, h[i])\n",
    "        ca.move_right(expr, v[i])\n",
    "        ca.move_right(expr, n[i])\n",
    "        \n",
    "        \n",
    "order_Szs(re)\n",
    "order_Szs(im)\n",
    "re.collect()\n",
    "im.collect()\n",
    "re.sort('multiplier')\n",
    "re.show()\n",
    "im.show()"
   ]
  },
  {
   "cell_type": "code",
   "execution_count": null,
   "id": "14f2f063-f8af-47e2-aa2b-417958cd56b1",
   "metadata": {},
   "outputs": [],
   "source": [
    "re.coefficient(KA*KA,'right').show()\n",
    "re.coefficient(KA*KB,'right').show()\n",
    "re.coefficient(KB*KB,'right').show()"
   ]
  },
  {
   "cell_type": "code",
   "execution_count": null,
   "id": "142892c9-d233-48f8-8e25-c3c2b1970dfa",
   "metadata": {},
   "outputs": [],
   "source": []
  }
 ],
 "metadata": {
  "kernelspec": {
   "display_name": "Python 3.9.10 64-bit",
   "language": "python",
   "name": "python3910jvsc74a57bd050292dbb1f747f7151d445135d392af3138fb3c65386d17d9510cb605222b10b"
  },
  "language_info": {
   "codemirror_mode": {
    "name": "ipython",
    "version": 3
   },
   "file_extension": ".py",
   "mimetype": "text/x-python",
   "name": "python",
   "nbconvert_exporter": "python",
   "pygments_lexer": "ipython3",
   "version": "3.9.10"
  }
 },
 "nbformat": 4,
 "nbformat_minor": 5
}
